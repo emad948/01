{
  "cells": [
    {
      "cell_type": "markdown",
      "metadata": {
        "id": "view-in-github",
        "colab_type": "text"
      },
      "source": [
        "<a href=\"https://colab.research.google.com/github/emad948/01/blob/main/BA_01.ipynb\" target=\"_parent\"><img src=\"https://colab.research.google.com/assets/colab-badge.svg\" alt=\"Open In Colab\"/></a>"
      ]
    },
    {
      "cell_type": "code",
      "source": [
        "#setting a fix seed so i can compare the models to each other because i fased the problem of getting different restults for the same\n",
        "#model when i run more than one time\n",
        "seed=0\n",
        "import os\n",
        "os.environ['PYTHONHASHSEED'] = str(seed)\n",
        "# For working on GPUs from \"TensorFlow Determinism\"\n",
        "os.environ[\"TF_DETERMINISTIC_OPS\"] = str(seed)\n",
        "import numpy as np\n",
        "np.random.seed(seed)\n",
        "import random\n",
        "random.seed(seed)\n",
        "import tensorflow as tf\n",
        "tf.random.set_seed(seed)"
      ],
      "metadata": {
        "id": "V-3E2jRhYIED"
      },
      "execution_count": 1,
      "outputs": []
    },
    {
      "cell_type": "markdown",
      "metadata": {
        "id": "_3dbPJ1Tmahj"
      },
      "source": [
        "# Dependencies"
      ]
    },
    {
      "cell_type": "code",
      "source": [
        "!pip install yfinance\n",
        "import yfinance as yf"
      ],
      "metadata": {
        "colab": {
          "base_uri": "https://localhost:8080/",
          "height": 503
        },
        "id": "fsSfHLjPjkvp",
        "outputId": "103bdbb2-a751-4c24-c0fb-2381339a18c8"
      },
      "execution_count": 2,
      "outputs": [
        {
          "output_type": "stream",
          "name": "stdout",
          "text": [
            "Looking in indexes: https://pypi.org/simple, https://us-python.pkg.dev/colab-wheels/public/simple/\n",
            "Collecting yfinance\n",
            "  Downloading yfinance-0.1.74-py2.py3-none-any.whl (27 kB)\n",
            "Requirement already satisfied: numpy>=1.15 in /usr/local/lib/python3.7/dist-packages (from yfinance) (1.21.6)\n",
            "Collecting requests>=2.26\n",
            "  Downloading requests-2.28.1-py3-none-any.whl (62 kB)\n",
            "\u001b[K     |████████████████████████████████| 62 kB 1.3 MB/s \n",
            "\u001b[?25hRequirement already satisfied: pandas>=0.24.0 in /usr/local/lib/python3.7/dist-packages (from yfinance) (1.3.5)\n",
            "Requirement already satisfied: multitasking>=0.0.7 in /usr/local/lib/python3.7/dist-packages (from yfinance) (0.0.11)\n",
            "Requirement already satisfied: lxml>=4.5.1 in /usr/local/lib/python3.7/dist-packages (from yfinance) (4.9.1)\n",
            "Requirement already satisfied: python-dateutil>=2.7.3 in /usr/local/lib/python3.7/dist-packages (from pandas>=0.24.0->yfinance) (2.8.2)\n",
            "Requirement already satisfied: pytz>=2017.3 in /usr/local/lib/python3.7/dist-packages (from pandas>=0.24.0->yfinance) (2022.2.1)\n",
            "Requirement already satisfied: six>=1.5 in /usr/local/lib/python3.7/dist-packages (from python-dateutil>=2.7.3->pandas>=0.24.0->yfinance) (1.15.0)\n",
            "Requirement already satisfied: charset-normalizer<3,>=2 in /usr/local/lib/python3.7/dist-packages (from requests>=2.26->yfinance) (2.1.0)\n",
            "Requirement already satisfied: idna<4,>=2.5 in /usr/local/lib/python3.7/dist-packages (from requests>=2.26->yfinance) (2.10)\n",
            "Requirement already satisfied: certifi>=2017.4.17 in /usr/local/lib/python3.7/dist-packages (from requests>=2.26->yfinance) (2022.6.15)\n",
            "Requirement already satisfied: urllib3<1.27,>=1.21.1 in /usr/local/lib/python3.7/dist-packages (from requests>=2.26->yfinance) (1.24.3)\n",
            "Installing collected packages: requests, yfinance\n",
            "  Attempting uninstall: requests\n",
            "    Found existing installation: requests 2.23.0\n",
            "    Uninstalling requests-2.23.0:\n",
            "      Successfully uninstalled requests-2.23.0\n",
            "Successfully installed requests-2.28.1 yfinance-0.1.74\n"
          ]
        },
        {
          "output_type": "display_data",
          "data": {
            "application/vnd.colab-display-data+json": {
              "pip_warning": {
                "packages": [
                  "requests"
                ]
              }
            }
          },
          "metadata": {}
        }
      ]
    },
    {
      "cell_type": "code",
      "execution_count": 3,
      "metadata": {
        "id": "O1KGdBuQmzt8"
      },
      "outputs": [],
      "source": [
        "import numpy as np\n",
        "import matplotlib.pyplot as plt\n",
        "import pandas as pd\n",
        "import tensorflow as tf\n",
        "from sklearn.preprocessing import StandardScaler"
      ]
    },
    {
      "cell_type": "code",
      "execution_count": 4,
      "metadata": {
        "id": "hyRtUplX-ZfR"
      },
      "outputs": [],
      "source": [
        "from keras.models import Sequential\n",
        "from keras.layers import Dense\n",
        "from keras.layers import LSTM\n",
        "from keras.layers import Dropout"
      ]
    },
    {
      "cell_type": "markdown",
      "metadata": {
        "id": "Y8jgf_ogI6Ry"
      },
      "source": [
        "# Global Variables"
      ]
    },
    {
      "cell_type": "code",
      "execution_count": 5,
      "metadata": {
        "id": "TU86wSPVI8hc"
      },
      "outputs": [],
      "source": [
        "WINDOWS=60\n",
        "HORIZON=1"
      ]
    },
    {
      "cell_type": "markdown",
      "metadata": {
        "id": "ZF0RnjQDnBnh"
      },
      "source": [
        "# Helper Functions"
      ]
    },
    {
      "cell_type": "markdown",
      "metadata": {
        "id": "8OA3PVITnHt7"
      },
      "source": [
        "## Model Evaluating"
      ]
    },
    {
      "cell_type": "code",
      "execution_count": 6,
      "metadata": {
        "id": "FqAVX2CtnN8W"
      },
      "outputs": [],
      "source": [
        "def mean_absolute_scaled_error(y_true, y_pred):\n",
        "\n",
        "  mae = tf.reduce_mean(tf.abs(y_true - y_pred))\n",
        "\n",
        "  # Find MAE of naive forecast (no seasonality)\n",
        "  mae_naive_no_season = tf.reduce_mean(tf.abs(y_true[1:] - y_true[:-1])) # our seasonality is 1 day (hence the shifting of 1 day)\n",
        "\n",
        "  return mae / mae_naive_no_season"
      ]
    },
    {
      "cell_type": "code",
      "execution_count": 7,
      "metadata": {
        "id": "5ZYpB3nwnQhu"
      },
      "outputs": [],
      "source": [
        "def evaluate_preds(y_true, y_pred):\n",
        "  # Make sure float32 (for metric calculations)\n",
        "  y_true = tf.cast(y_true, dtype=tf.float32)\n",
        "  y_pred = tf.cast(y_pred, dtype=tf.float32)\n",
        "\n",
        "  # Calculate various metrics\n",
        "  mae = tf.keras.metrics.mean_absolute_error(y_true, y_pred)\n",
        "  mse = tf.keras.metrics.mean_squared_error(y_true, y_pred) # puts and emphasis on outliers (all errors get squared)\n",
        "  rmse = tf.sqrt(mse)\n",
        "  mape = tf.keras.metrics.mean_absolute_percentage_error(y_true, y_pred)\n",
        "  mase = mean_absolute_scaled_error(y_true, y_pred)\n",
        "  \n",
        "  return {\"mae\": mae.numpy(),\n",
        "          \"mse\": mse.numpy(),\n",
        "          \"rmse\": rmse.numpy(),\n",
        "          \"mape\": mape.numpy(),\n",
        "          \"mase\": mase.numpy()}"
      ]
    },
    {
      "cell_type": "markdown",
      "metadata": {
        "id": "UJCxI0iWnaFv"
      },
      "source": [
        "## Model check point"
      ]
    },
    {
      "cell_type": "code",
      "execution_count": 8,
      "metadata": {
        "id": "m5nZjj0qnfub"
      },
      "outputs": [],
      "source": [
        "import os\n",
        "\n",
        "# Create a function to implement a ModelCheckpoint callback with a specific filename \n",
        "def create_model_checkpoint(model_name, save_path=\"model_experiments\"):\n",
        "  return tf.keras.callbacks.ModelCheckpoint(filepath=os.path.join(save_path, model_name), # create filepath to save model\n",
        "                                            verbose=0, # only output a limited amount of text\n",
        "                                            save_best_only=True) # save only the best model to file"
      ]
    },
    {
      "cell_type": "markdown",
      "metadata": {
        "id": "Eq-qNdFMnh9M"
      },
      "source": [
        "## Plot"
      ]
    },
    {
      "cell_type": "code",
      "execution_count": 78,
      "metadata": {
        "id": "z1SX_slYnkRx"
      },
      "outputs": [],
      "source": [
        "\n",
        "def plot_time_series(df, values,test_labels_length, format='.', start=0, end=None, label=None):\n",
        "  \"\"\"\n",
        "  Plots a timesteps (a series of points in time) against values (a series of values across timesteps).\n",
        "  \n",
        "  Parameters\n",
        "  ---------\n",
        "  df: oroginal dataframe\n",
        "  values : array of values across time\n",
        "  test_labels_length: the length of the test labels\n",
        "  format : style of plot, default \".\"\n",
        "  start : where to start the plot (setting a value will index from start of timesteps & values)\n",
        "  end : where to end the plot (setting a value will index from end of timesteps & values)\n",
        "  label : label to show on plot of values\n",
        "  \"\"\"\n",
        "\n",
        "  #reseting the index  \n",
        "  df_with_index = df.reset_index() \n",
        "  df_dates=pd.to_datetime(df_with_index['Date'])\n",
        "  timesteps=df_dates[-test_labels_length:]\n",
        "\n",
        "\n",
        "  # Plot the series\n",
        "  plt.plot(timesteps[start:end], values[start:end], format, label=label)\n",
        "  plt.xlabel(\"Time\")\n",
        "  plt.ylabel(\"Google Stock Price\")\n",
        "  if label:\n",
        "    plt.legend(fontsize=14) # make label bigger\n",
        "  plt.grid(True)"
      ]
    },
    {
      "cell_type": "markdown",
      "metadata": {
        "id": "YRqIeFB2JAAx"
      },
      "source": [
        "## WINDOW HELPER FUNCTON"
      ]
    },
    {
      "cell_type": "code",
      "execution_count": 10,
      "metadata": {
        "id": "QRq7wxXOJDxF"
      },
      "outputs": [],
      "source": [
        "def make_windows(x, window_size=WINDOWS, horizon=HORIZON,test_split=0.2):\n",
        "  \"\"\"\n",
        "  reformat the data to be ready to insert as an input for the LSTM\n",
        "  the data has to be scalled\n",
        "\n",
        "  Parameters\n",
        "  ----------\n",
        "  x:the original data frame\n",
        "\n",
        "\n",
        "  returns\n",
        "  train windows, train labels, test windows, test labels\n",
        "  \"\"\"\n",
        "  #Predection Index(closing price label)\n",
        "  index_close=x.columns.get_loc(\"Close\")\n",
        "\n",
        "  #Normalizing the data using the standard scaler\n",
        "  scaler=StandardScaler()\n",
        "  scaler=scaler.fit(x)\n",
        "  scaledDf=scaler.transform(x)\n",
        "\n",
        "  #Spliting the data into training and testing data\n",
        "  split_size=int(1-test_split * len(scaledDf))\n",
        "  train_data=scaledDf[:split_size]\n",
        "  test_data=scaledDf[split_size:]\n",
        "\n",
        "  def process_data(data):\n",
        "    X,Y=[],[]\n",
        "    for i in range (window_size,len(data)-horizon+1):\n",
        "      X.append(data[i-window_size:i,:])\n",
        "      Y.append(data[i+horizon-1:i+horizon,index_close])\n",
        "    #converting the x and y to numpy arrays\n",
        "    X=np.array(X)\n",
        "    Y=np.array(Y)\n",
        "    return X,Y\n",
        "  \n",
        "  #Generating train data and test data\n",
        "\n",
        "  train_windows,train_labels=process_data(train_data)\n",
        "  test_windows,test_labels=process_data(test_data)\n",
        "\n",
        "  return train_windows,train_labels,test_windows,test_labels\n"
      ]
    },
    {
      "cell_type": "markdown",
      "source": [
        "## predict and unscale helper function"
      ],
      "metadata": {
        "id": "bpApF7ejLYHy"
      }
    },
    {
      "cell_type": "code",
      "source": [
        "def predict_unscaled(model,df,test_windows):\n",
        "  \"\"\"\n",
        "  predict the closing pricing using the test windows for a particular model\n",
        "\n",
        "  Parameters\n",
        "  ----------\n",
        "  model:the desired model\n",
        "  df: the original data frame\n",
        "  test_windows:the test windows\n",
        "\n",
        "\n",
        "  returns\n",
        "  the predicted labels after unscaling them\n",
        "  \"\"\"\n",
        "  #getting the predicted value but the predicted value will be scaled\n",
        "  pred_scaled=model.predict(test_windows)\n",
        "\n",
        "  #creating a seperate scaler that works on a single column for scaling the predections\n",
        "  scaler_pred=StandardScaler()\n",
        "  df_Close=pd.DataFrame(df['Close'])\n",
        "  np_Close_scaled=scaler_pred.fit_transform(df_Close)\n",
        "\n",
        "\n",
        "  #unscaling the predicted value\n",
        "  pred=scaler_pred.inverse_transform(pred_scaled) \n",
        "\n",
        "  return tf.squeeze(pred)"
      ],
      "metadata": {
        "id": "uspv2R8ILbnc"
      },
      "execution_count": 11,
      "outputs": []
    },
    {
      "cell_type": "markdown",
      "source": [
        "## Helper function to unscale the test labels in order to compare it with the predicted values"
      ],
      "metadata": {
        "id": "uYCFJQEQL2P_"
      }
    },
    {
      "cell_type": "code",
      "source": [
        "\n",
        "def unscale_labels(df,test_labels):\n",
        "  \"\"\"\n",
        "  unscale the test labels \n",
        "\n",
        "  Parameters\n",
        "  ----------\n",
        "  df: the original data frame\n",
        "  test_labels:the scaled test labels\n",
        "\n",
        "\n",
        "  returns\n",
        "  unscaled test labels\n",
        "  \"\"\"\n",
        "  #creating a seperate scaler that works on a single column for scaling the predections\n",
        "  scaler_pred=StandardScaler()\n",
        "  df_Close=pd.DataFrame(df['Close'])\n",
        "  np_Close_scaled=scaler_pred.fit_transform(df_Close)\n",
        "\n",
        "  #unscaling the labels\n",
        "  unscaled_labels=scaler_pred.inverse_transform(test_labels)\n",
        "\n",
        "  return tf.squeeze(unscaled_labels)"
      ],
      "metadata": {
        "id": "MBeuLDjTMDR5"
      },
      "execution_count": 12,
      "outputs": []
    },
    {
      "cell_type": "markdown",
      "source": [
        "## Helper function generate technical features"
      ],
      "metadata": {
        "id": "pGWbeAgSO_05"
      }
    },
    {
      "cell_type": "code",
      "source": [
        "def generate_technical_features(df):\n",
        "  df=pd.DataFrame(df)\n",
        "\n",
        "  #Calculating moving averages\n",
        "\n",
        "  # Moving averages - different periods\n",
        "  df['MA200'] = df['Close'].rolling(window=200).mean() \n",
        "  df['MA100'] = df['Close'].rolling(window=100).mean() \n",
        "  df['MA50'] = df['Close'].rolling(window=50).mean() \n",
        "  df['MA26'] = df['Close'].rolling(window=26).mean() \n",
        "  df['MA20'] = df['Close'].rolling(window=20).mean() \n",
        "  df['MA12'] = df['Close'].rolling(window=12).mean() \n",
        "\n",
        "  # SMA Differences - different periods\n",
        "  df['DIFF-MA200-MA50'] = df['MA200'] - df['MA50']\n",
        "  df['DIFF-MA200-MA100'] = df['MA200'] - df['MA100']\n",
        "  df['DIFF-MA200-CLOSE'] = df['MA200'] - df['Close']\n",
        "  df['DIFF-MA100-CLOSE'] = df['MA100'] - df['Close']\n",
        "  df['DIFF-MA50-CLOSE'] = df['MA50'] - df['Close']\n",
        "\n",
        "  # Moving Averages on high, lows, and std - different periods\n",
        "  df['MA200_low'] = df['Low'].rolling(window=200).min()\n",
        "  df['MA14_low'] = df['Low'].rolling(window=14).min()\n",
        "  df['MA200_high'] = df['High'].rolling(window=200).max()\n",
        "  df['MA14_high'] = df['High'].rolling(window=14).max()\n",
        "  df['MA20dSTD'] = df['Close'].rolling(window=20).std() \n",
        "\n",
        "  # Relative Strength Index (RSI)\n",
        "  df['K-ratio'] = 100*((df['Close'] - df['MA14_low']) / (df['MA14_high'] - df['MA14_low']) )\n",
        "  df['RSI'] = df['K-ratio'].rolling(window=3).mean() \n",
        "\n",
        "  return df\n"
      ],
      "metadata": {
        "id": "AxIpnoY7PHwF"
      },
      "execution_count": 13,
      "outputs": []
    },
    {
      "cell_type": "markdown",
      "metadata": {
        "id": "ewSafS8SsQYM"
      },
      "source": [
        "# Model 1"
      ]
    },
    {
      "cell_type": "code",
      "execution_count": 14,
      "metadata": {
        "colab": {
          "base_uri": "https://localhost:8080/",
          "height": 238
        },
        "id": "7vTo4yijsSAn",
        "outputId": "f6d0cce1-f0f9-4929-bb29-57a37a9ab7d9"
      },
      "outputs": [
        {
          "output_type": "execute_result",
          "data": {
            "text/plain": [
              "                Open      High       Low     Close     Volume  Dividends  \\\n",
              "Date                                                                       \n",
              "2005-01-03  4.939940  5.096096  4.891391  5.072823  633134232          0   \n",
              "2005-01-04  5.040040  5.078328  4.841842  4.867367  549685764          0   \n",
              "2005-01-05  4.841091  4.927427  4.810561  4.842593  329134536          0   \n",
              "2005-01-06  4.881882  4.902402  4.697698  4.718468  415068516          0   \n",
              "2005-01-07  4.770771  4.861111  4.724224  4.851101  386129484          0   \n",
              "\n",
              "            Stock Splits  \n",
              "Date                      \n",
              "2005-01-03           0.0  \n",
              "2005-01-04           0.0  \n",
              "2005-01-05           0.0  \n",
              "2005-01-06           0.0  \n",
              "2005-01-07           0.0  "
            ],
            "text/html": [
              "\n",
              "  <div id=\"df-49bd1305-bed3-4518-bb5f-cbfc9d0892f1\">\n",
              "    <div class=\"colab-df-container\">\n",
              "      <div>\n",
              "<style scoped>\n",
              "    .dataframe tbody tr th:only-of-type {\n",
              "        vertical-align: middle;\n",
              "    }\n",
              "\n",
              "    .dataframe tbody tr th {\n",
              "        vertical-align: top;\n",
              "    }\n",
              "\n",
              "    .dataframe thead th {\n",
              "        text-align: right;\n",
              "    }\n",
              "</style>\n",
              "<table border=\"1\" class=\"dataframe\">\n",
              "  <thead>\n",
              "    <tr style=\"text-align: right;\">\n",
              "      <th></th>\n",
              "      <th>Open</th>\n",
              "      <th>High</th>\n",
              "      <th>Low</th>\n",
              "      <th>Close</th>\n",
              "      <th>Volume</th>\n",
              "      <th>Dividends</th>\n",
              "      <th>Stock Splits</th>\n",
              "    </tr>\n",
              "    <tr>\n",
              "      <th>Date</th>\n",
              "      <th></th>\n",
              "      <th></th>\n",
              "      <th></th>\n",
              "      <th></th>\n",
              "      <th></th>\n",
              "      <th></th>\n",
              "      <th></th>\n",
              "    </tr>\n",
              "  </thead>\n",
              "  <tbody>\n",
              "    <tr>\n",
              "      <th>2005-01-03</th>\n",
              "      <td>4.939940</td>\n",
              "      <td>5.096096</td>\n",
              "      <td>4.891391</td>\n",
              "      <td>5.072823</td>\n",
              "      <td>633134232</td>\n",
              "      <td>0</td>\n",
              "      <td>0.0</td>\n",
              "    </tr>\n",
              "    <tr>\n",
              "      <th>2005-01-04</th>\n",
              "      <td>5.040040</td>\n",
              "      <td>5.078328</td>\n",
              "      <td>4.841842</td>\n",
              "      <td>4.867367</td>\n",
              "      <td>549685764</td>\n",
              "      <td>0</td>\n",
              "      <td>0.0</td>\n",
              "    </tr>\n",
              "    <tr>\n",
              "      <th>2005-01-05</th>\n",
              "      <td>4.841091</td>\n",
              "      <td>4.927427</td>\n",
              "      <td>4.810561</td>\n",
              "      <td>4.842593</td>\n",
              "      <td>329134536</td>\n",
              "      <td>0</td>\n",
              "      <td>0.0</td>\n",
              "    </tr>\n",
              "    <tr>\n",
              "      <th>2005-01-06</th>\n",
              "      <td>4.881882</td>\n",
              "      <td>4.902402</td>\n",
              "      <td>4.697698</td>\n",
              "      <td>4.718468</td>\n",
              "      <td>415068516</td>\n",
              "      <td>0</td>\n",
              "      <td>0.0</td>\n",
              "    </tr>\n",
              "    <tr>\n",
              "      <th>2005-01-07</th>\n",
              "      <td>4.770771</td>\n",
              "      <td>4.861111</td>\n",
              "      <td>4.724224</td>\n",
              "      <td>4.851101</td>\n",
              "      <td>386129484</td>\n",
              "      <td>0</td>\n",
              "      <td>0.0</td>\n",
              "    </tr>\n",
              "  </tbody>\n",
              "</table>\n",
              "</div>\n",
              "      <button class=\"colab-df-convert\" onclick=\"convertToInteractive('df-49bd1305-bed3-4518-bb5f-cbfc9d0892f1')\"\n",
              "              title=\"Convert this dataframe to an interactive table.\"\n",
              "              style=\"display:none;\">\n",
              "        \n",
              "  <svg xmlns=\"http://www.w3.org/2000/svg\" height=\"24px\"viewBox=\"0 0 24 24\"\n",
              "       width=\"24px\">\n",
              "    <path d=\"M0 0h24v24H0V0z\" fill=\"none\"/>\n",
              "    <path d=\"M18.56 5.44l.94 2.06.94-2.06 2.06-.94-2.06-.94-.94-2.06-.94 2.06-2.06.94zm-11 1L8.5 8.5l.94-2.06 2.06-.94-2.06-.94L8.5 2.5l-.94 2.06-2.06.94zm10 10l.94 2.06.94-2.06 2.06-.94-2.06-.94-.94-2.06-.94 2.06-2.06.94z\"/><path d=\"M17.41 7.96l-1.37-1.37c-.4-.4-.92-.59-1.43-.59-.52 0-1.04.2-1.43.59L10.3 9.45l-7.72 7.72c-.78.78-.78 2.05 0 2.83L4 21.41c.39.39.9.59 1.41.59.51 0 1.02-.2 1.41-.59l7.78-7.78 2.81-2.81c.8-.78.8-2.07 0-2.86zM5.41 20L4 18.59l7.72-7.72 1.47 1.35L5.41 20z\"/>\n",
              "  </svg>\n",
              "      </button>\n",
              "      \n",
              "  <style>\n",
              "    .colab-df-container {\n",
              "      display:flex;\n",
              "      flex-wrap:wrap;\n",
              "      gap: 12px;\n",
              "    }\n",
              "\n",
              "    .colab-df-convert {\n",
              "      background-color: #E8F0FE;\n",
              "      border: none;\n",
              "      border-radius: 50%;\n",
              "      cursor: pointer;\n",
              "      display: none;\n",
              "      fill: #1967D2;\n",
              "      height: 32px;\n",
              "      padding: 0 0 0 0;\n",
              "      width: 32px;\n",
              "    }\n",
              "\n",
              "    .colab-df-convert:hover {\n",
              "      background-color: #E2EBFA;\n",
              "      box-shadow: 0px 1px 2px rgba(60, 64, 67, 0.3), 0px 1px 3px 1px rgba(60, 64, 67, 0.15);\n",
              "      fill: #174EA6;\n",
              "    }\n",
              "\n",
              "    [theme=dark] .colab-df-convert {\n",
              "      background-color: #3B4455;\n",
              "      fill: #D2E3FC;\n",
              "    }\n",
              "\n",
              "    [theme=dark] .colab-df-convert:hover {\n",
              "      background-color: #434B5C;\n",
              "      box-shadow: 0px 1px 3px 1px rgba(0, 0, 0, 0.15);\n",
              "      filter: drop-shadow(0px 1px 2px rgba(0, 0, 0, 0.3));\n",
              "      fill: #FFFFFF;\n",
              "    }\n",
              "  </style>\n",
              "\n",
              "      <script>\n",
              "        const buttonEl =\n",
              "          document.querySelector('#df-49bd1305-bed3-4518-bb5f-cbfc9d0892f1 button.colab-df-convert');\n",
              "        buttonEl.style.display =\n",
              "          google.colab.kernel.accessAllowed ? 'block' : 'none';\n",
              "\n",
              "        async function convertToInteractive(key) {\n",
              "          const element = document.querySelector('#df-49bd1305-bed3-4518-bb5f-cbfc9d0892f1');\n",
              "          const dataTable =\n",
              "            await google.colab.kernel.invokeFunction('convertToInteractive',\n",
              "                                                     [key], {});\n",
              "          if (!dataTable) return;\n",
              "\n",
              "          const docLinkHtml = 'Like what you see? Visit the ' +\n",
              "            '<a target=\"_blank\" href=https://colab.research.google.com/notebooks/data_table.ipynb>data table notebook</a>'\n",
              "            + ' to learn more about interactive tables.';\n",
              "          element.innerHTML = '';\n",
              "          dataTable['output_type'] = 'display_data';\n",
              "          await google.colab.output.renderOutput(dataTable, element);\n",
              "          const docLink = document.createElement('div');\n",
              "          docLink.innerHTML = docLinkHtml;\n",
              "          element.appendChild(docLink);\n",
              "        }\n",
              "      </script>\n",
              "    </div>\n",
              "  </div>\n",
              "  "
            ]
          },
          "metadata": {},
          "execution_count": 14
        }
      ],
      "source": [
        "# Importinig Google stock data from yahoo finance\n",
        "\n",
        "GoogleStockSymbol='GOOGL'\n",
        "\n",
        "GoogleStockData=yf.Ticker(GoogleStockSymbol)\n",
        "\n",
        "#Get Google stock data\n",
        "\n",
        "df=GoogleStockData.history(period='1d',start=\"2005-1-1\",end='2022-06-1')\n",
        "\n",
        "#visualising the data\n",
        "df.head()"
      ]
    },
    {
      "cell_type": "code",
      "execution_count": 15,
      "metadata": {
        "colab": {
          "base_uri": "https://localhost:8080/",
          "height": 238
        },
        "id": "7i0qY3SRtySO",
        "outputId": "9206bdb0-456a-4051-a313-cd72d30b6b4f"
      },
      "outputs": [
        {
          "output_type": "execute_result",
          "data": {
            "text/plain": [
              "                Open      High       Low     Close\n",
              "Date                                              \n",
              "2005-01-03  4.939940  5.096096  4.891391  5.072823\n",
              "2005-01-04  5.040040  5.078328  4.841842  4.867367\n",
              "2005-01-05  4.841091  4.927427  4.810561  4.842593\n",
              "2005-01-06  4.881882  4.902402  4.697698  4.718468\n",
              "2005-01-07  4.770771  4.861111  4.724224  4.851101"
            ],
            "text/html": [
              "\n",
              "  <div id=\"df-88b053af-5a75-4eb9-8dae-d992e003374d\">\n",
              "    <div class=\"colab-df-container\">\n",
              "      <div>\n",
              "<style scoped>\n",
              "    .dataframe tbody tr th:only-of-type {\n",
              "        vertical-align: middle;\n",
              "    }\n",
              "\n",
              "    .dataframe tbody tr th {\n",
              "        vertical-align: top;\n",
              "    }\n",
              "\n",
              "    .dataframe thead th {\n",
              "        text-align: right;\n",
              "    }\n",
              "</style>\n",
              "<table border=\"1\" class=\"dataframe\">\n",
              "  <thead>\n",
              "    <tr style=\"text-align: right;\">\n",
              "      <th></th>\n",
              "      <th>Open</th>\n",
              "      <th>High</th>\n",
              "      <th>Low</th>\n",
              "      <th>Close</th>\n",
              "    </tr>\n",
              "    <tr>\n",
              "      <th>Date</th>\n",
              "      <th></th>\n",
              "      <th></th>\n",
              "      <th></th>\n",
              "      <th></th>\n",
              "    </tr>\n",
              "  </thead>\n",
              "  <tbody>\n",
              "    <tr>\n",
              "      <th>2005-01-03</th>\n",
              "      <td>4.939940</td>\n",
              "      <td>5.096096</td>\n",
              "      <td>4.891391</td>\n",
              "      <td>5.072823</td>\n",
              "    </tr>\n",
              "    <tr>\n",
              "      <th>2005-01-04</th>\n",
              "      <td>5.040040</td>\n",
              "      <td>5.078328</td>\n",
              "      <td>4.841842</td>\n",
              "      <td>4.867367</td>\n",
              "    </tr>\n",
              "    <tr>\n",
              "      <th>2005-01-05</th>\n",
              "      <td>4.841091</td>\n",
              "      <td>4.927427</td>\n",
              "      <td>4.810561</td>\n",
              "      <td>4.842593</td>\n",
              "    </tr>\n",
              "    <tr>\n",
              "      <th>2005-01-06</th>\n",
              "      <td>4.881882</td>\n",
              "      <td>4.902402</td>\n",
              "      <td>4.697698</td>\n",
              "      <td>4.718468</td>\n",
              "    </tr>\n",
              "    <tr>\n",
              "      <th>2005-01-07</th>\n",
              "      <td>4.770771</td>\n",
              "      <td>4.861111</td>\n",
              "      <td>4.724224</td>\n",
              "      <td>4.851101</td>\n",
              "    </tr>\n",
              "  </tbody>\n",
              "</table>\n",
              "</div>\n",
              "      <button class=\"colab-df-convert\" onclick=\"convertToInteractive('df-88b053af-5a75-4eb9-8dae-d992e003374d')\"\n",
              "              title=\"Convert this dataframe to an interactive table.\"\n",
              "              style=\"display:none;\">\n",
              "        \n",
              "  <svg xmlns=\"http://www.w3.org/2000/svg\" height=\"24px\"viewBox=\"0 0 24 24\"\n",
              "       width=\"24px\">\n",
              "    <path d=\"M0 0h24v24H0V0z\" fill=\"none\"/>\n",
              "    <path d=\"M18.56 5.44l.94 2.06.94-2.06 2.06-.94-2.06-.94-.94-2.06-.94 2.06-2.06.94zm-11 1L8.5 8.5l.94-2.06 2.06-.94-2.06-.94L8.5 2.5l-.94 2.06-2.06.94zm10 10l.94 2.06.94-2.06 2.06-.94-2.06-.94-.94-2.06-.94 2.06-2.06.94z\"/><path d=\"M17.41 7.96l-1.37-1.37c-.4-.4-.92-.59-1.43-.59-.52 0-1.04.2-1.43.59L10.3 9.45l-7.72 7.72c-.78.78-.78 2.05 0 2.83L4 21.41c.39.39.9.59 1.41.59.51 0 1.02-.2 1.41-.59l7.78-7.78 2.81-2.81c.8-.78.8-2.07 0-2.86zM5.41 20L4 18.59l7.72-7.72 1.47 1.35L5.41 20z\"/>\n",
              "  </svg>\n",
              "      </button>\n",
              "      \n",
              "  <style>\n",
              "    .colab-df-container {\n",
              "      display:flex;\n",
              "      flex-wrap:wrap;\n",
              "      gap: 12px;\n",
              "    }\n",
              "\n",
              "    .colab-df-convert {\n",
              "      background-color: #E8F0FE;\n",
              "      border: none;\n",
              "      border-radius: 50%;\n",
              "      cursor: pointer;\n",
              "      display: none;\n",
              "      fill: #1967D2;\n",
              "      height: 32px;\n",
              "      padding: 0 0 0 0;\n",
              "      width: 32px;\n",
              "    }\n",
              "\n",
              "    .colab-df-convert:hover {\n",
              "      background-color: #E2EBFA;\n",
              "      box-shadow: 0px 1px 2px rgba(60, 64, 67, 0.3), 0px 1px 3px 1px rgba(60, 64, 67, 0.15);\n",
              "      fill: #174EA6;\n",
              "    }\n",
              "\n",
              "    [theme=dark] .colab-df-convert {\n",
              "      background-color: #3B4455;\n",
              "      fill: #D2E3FC;\n",
              "    }\n",
              "\n",
              "    [theme=dark] .colab-df-convert:hover {\n",
              "      background-color: #434B5C;\n",
              "      box-shadow: 0px 1px 3px 1px rgba(0, 0, 0, 0.15);\n",
              "      filter: drop-shadow(0px 1px 2px rgba(0, 0, 0, 0.3));\n",
              "      fill: #FFFFFF;\n",
              "    }\n",
              "  </style>\n",
              "\n",
              "      <script>\n",
              "        const buttonEl =\n",
              "          document.querySelector('#df-88b053af-5a75-4eb9-8dae-d992e003374d button.colab-df-convert');\n",
              "        buttonEl.style.display =\n",
              "          google.colab.kernel.accessAllowed ? 'block' : 'none';\n",
              "\n",
              "        async function convertToInteractive(key) {\n",
              "          const element = document.querySelector('#df-88b053af-5a75-4eb9-8dae-d992e003374d');\n",
              "          const dataTable =\n",
              "            await google.colab.kernel.invokeFunction('convertToInteractive',\n",
              "                                                     [key], {});\n",
              "          if (!dataTable) return;\n",
              "\n",
              "          const docLinkHtml = 'Like what you see? Visit the ' +\n",
              "            '<a target=\"_blank\" href=https://colab.research.google.com/notebooks/data_table.ipynb>data table notebook</a>'\n",
              "            + ' to learn more about interactive tables.';\n",
              "          element.innerHTML = '';\n",
              "          dataTable['output_type'] = 'display_data';\n",
              "          await google.colab.output.renderOutput(dataTable, element);\n",
              "          const docLink = document.createElement('div');\n",
              "          docLink.innerHTML = docLinkHtml;\n",
              "          element.appendChild(docLink);\n",
              "        }\n",
              "      </script>\n",
              "    </div>\n",
              "  </div>\n",
              "  "
            ]
          },
          "metadata": {},
          "execution_count": 15
        }
      ],
      "source": [
        "googleDf=pd.DataFrame(df[['Open','High','Low','Close']])\n",
        "googleDf.head()\n"
      ]
    },
    {
      "cell_type": "code",
      "execution_count": 16,
      "metadata": {
        "colab": {
          "base_uri": "https://localhost:8080/",
          "height": 433
        },
        "id": "7_ns_TX4uiuK",
        "outputId": "2ea6f76c-7a88-4cc7-f4b2-1c7ef185e59b"
      },
      "outputs": [
        {
          "output_type": "execute_result",
          "data": {
            "text/plain": [
              "<matplotlib.axes._subplots.AxesSubplot at 0x7fcc672dc810>"
            ]
          },
          "metadata": {},
          "execution_count": 16
        },
        {
          "output_type": "display_data",
          "data": {
            "text/plain": [
              "<Figure size 720x504 with 1 Axes>"
            ],
            "image/png": "[encoded data removed]"
          },
          "metadata": {
            "needs_background": "light"
          }
        }
      ],
      "source": [
        "googleDf.plot(figsize=(10,7))"
      ]
    },
    {
      "cell_type": "markdown",
      "metadata": {
        "id": "gPgfWf1A-K8f"
      },
      "source": [
        "# MODEl One"
      ]
    },
    {
      "cell_type": "code",
      "execution_count": 83,
      "metadata": {
        "id": "I86SoGrT1OI4"
      },
      "outputs": [],
      "source": [
        "train_windows, train_labels, test_windows,test_labels=make_windows(googleDf)"
      ]
    },
    {
      "cell_type": "code",
      "execution_count": 18,
      "metadata": {
        "colab": {
          "base_uri": "https://localhost:8080/"
        },
        "id": "p5kEmt-0-PEu",
        "outputId": "b6750eb3-569f-4afb-8814-5fbee8fcb5e6"
      },
      "outputs": [
        {
          "output_type": "stream",
          "name": "stderr",
          "text": [
            "WARNING:tensorflow:Layer lstm will not use cuDNN kernels since it doesn't meet the criteria. It will use a generic GPU kernel as fallback when running on GPU.\n"
          ]
        }
      ],
      "source": [
        "model_1=Sequential()\n",
        "model_1.add(LSTM(128, activation='relu', input_shape=(train_windows.shape[1], train_windows.shape[2])))\n",
        "model_1.add(Dense(test_labels.shape[1]))\n",
        "model_1.compile(optimizer='adam', loss='mse')"
      ]
    },
    {
      "cell_type": "code",
      "execution_count": 19,
      "metadata": {
        "colab": {
          "base_uri": "https://localhost:8080/"
        },
        "id": "edRZlyw3-dy5",
        "outputId": "1a9606fa-0e4d-47c7-9956-fc28b29483ee"
      },
      "outputs": [
        {
          "output_type": "stream",
          "name": "stdout",
          "text": [
            "Epoch 1/100\n",
            "27/27 [==============================] - ETA: 0s - loss: 0.0343"
          ]
        },
        {
          "output_type": "stream",
          "name": "stderr",
          "text": [
            "WARNING:absl:<keras.layers.recurrent.LSTMCell object at 0x7fcc671e4210> has the same name 'LSTMCell' as a built-in Keras object. Consider renaming <class 'keras.layers.recurrent.LSTMCell'> to avoid naming conflicts when loading with `tf.keras.models.load_model`. If renaming is not possible, pass the object in the `custom_objects` parameter of the load function.\n"
          ]
        },
        {
          "output_type": "stream",
          "name": "stdout",
          "text": [
            "\b\b\b\b\b\b\b\b\b\b\b\b\b\b\b\b\b\b\b\b\b\b\b\b\b\b\b\b\b\b\b\b\b\b\b\b\b\b\b\b\b\b\b\b\b\b\b\b\b\b\b\b\b\b\b\b\b\b\b\b\b\b\b\r27/27 [==============================] - 9s 199ms/step - loss: 0.0343 - val_loss: 3.3254\n",
            "Epoch 2/100\n",
            "27/27 [==============================] - ETA: 0s - loss: 8.9267e-04"
          ]
        },
        {
          "output_type": "stream",
          "name": "stderr",
          "text": [
            "WARNING:absl:<keras.layers.recurrent.LSTMCell object at 0x7fcc671e4210> has the same name 'LSTMCell' as a built-in Keras object. Consider renaming <class 'keras.layers.recurrent.LSTMCell'> to avoid naming conflicts when loading with `tf.keras.models.load_model`. If renaming is not possible, pass the object in the `custom_objects` parameter of the load function.\n"
          ]
        },
        {
          "output_type": "stream",
          "name": "stdout",
          "text": [
            "\b\b\b\b\b\b\b\b\b\b\b\b\b\b\b\b\b\b\b\b\b\b\b\b\b\b\b\b\b\b\b\b\b\b\b\b\b\b\b\b\b\b\b\b\b\b\b\b\b\b\b\b\b\b\b\b\b\b\b\b\b\b\b\b\b\b\b\r27/27 [==============================] - 6s 215ms/step - loss: 8.9267e-04 - val_loss: 1.2511\n",
            "Epoch 3/100\n",
            "27/27 [==============================] - ETA: 0s - loss: 4.5030e-04"
          ]
        },
        {
          "output_type": "stream",
          "name": "stderr",
          "text": [
            "WARNING:absl:<keras.layers.recurrent.LSTMCell object at 0x7fcc671e4210> has the same name 'LSTMCell' as a built-in Keras object. Consider renaming <class 'keras.layers.recurrent.LSTMCell'> to avoid naming conflicts when loading with `tf.keras.models.load_model`. If renaming is not possible, pass the object in the `custom_objects` parameter of the load function.\n"
          ]
        },
        {
          "output_type": "stream",
          "name": "stdout",
          "text": [
            "\b\b\b\b\b\b\b\b\b\b\b\b\b\b\b\b\b\b\b\b\b\b\b\b\b\b\b\b\b\b\b\b\b\b\b\b\b\b\b\b\b\b\b\b\b\b\b\b\b\b\b\b\b\b\b\b\b\b\b\b\b\b\b\b\b\b\b\r27/27 [==============================] - 5s 191ms/step - loss: 4.5030e-04 - val_loss: 0.5761\n",
            "Epoch 4/100\n",
            "27/27 [==============================] - ETA: 0s - loss: 4.0664e-04"
          ]
        },
        {
          "output_type": "stream",
          "name": "stderr",
          "text": [
            "WARNING:absl:<keras.layers.recurrent.LSTMCell object at 0x7fcc671e4210> has the same name 'LSTMCell' as a built-in Keras object. Consider renaming <class 'keras.layers.recurrent.LSTMCell'> to avoid naming conflicts when loading with `tf.keras.models.load_model`. If renaming is not possible, pass the object in the `custom_objects` parameter of the load function.\n"
          ]
        },
        {
          "output_type": "stream",
          "name": "stdout",
          "text": [
            "\b\b\b\b\b\b\b\b\b\b\b\b\b\b\b\b\b\b\b\b\b\b\b\b\b\b\b\b\b\b\b\b\b\b\b\b\b\b\b\b\b\b\b\b\b\b\b\b\b\b\b\b\b\b\b\b\b\b\b\b\b\b\b\b\b\b\b\r27/27 [==============================] - 5s 176ms/step - loss: 4.0664e-04 - val_loss: 0.1755\n",
            "Epoch 5/100\n",
            "27/27 [==============================] - ETA: 0s - loss: 3.7841e-04"
          ]
        },
        {
          "output_type": "stream",
          "name": "stderr",
          "text": [
            "WARNING:absl:<keras.layers.recurrent.LSTMCell object at 0x7fcc671e4210> has the same name 'LSTMCell' as a built-in Keras object. Consider renaming <class 'keras.layers.recurrent.LSTMCell'> to avoid naming conflicts when loading with `tf.keras.models.load_model`. If renaming is not possible, pass the object in the `custom_objects` parameter of the load function.\n"
          ]
        },
        {
          "output_type": "stream",
          "name": "stdout",
          "text": [
            "\b\b\b\b\b\b\b\b\b\b\b\b\b\b\b\b\b\b\b\b\b\b\b\b\b\b\b\b\b\b\b\b\b\b\b\b\b\b\b\b\b\b\b\b\b\b\b\b\b\b\b\b\b\b\b\b\b\b\b\b\b\b\b\b\b\b\b\r27/27 [==============================] - 4s 141ms/step - loss: 3.7841e-04 - val_loss: 0.0230\n",
            "Epoch 6/100\n",
            "27/27 [==============================] - 3s 93ms/step - loss: 3.6218e-04 - val_loss: 0.4764\n",
            "Epoch 7/100\n",
            "27/27 [==============================] - 3s 93ms/step - loss: 3.4841e-04 - val_loss: 0.4582\n",
            "Epoch 8/100\n",
            "27/27 [==============================] - 3s 96ms/step - loss: 3.3949e-04 - val_loss: 0.5036\n",
            "Epoch 9/100\n",
            "27/27 [==============================] - 3s 95ms/step - loss: 3.3892e-04 - val_loss: 1.3511\n",
            "Epoch 10/100\n",
            "27/27 [==============================] - 3s 95ms/step - loss: 3.3973e-04 - val_loss: 1.4568\n",
            "Epoch 11/100\n",
            "27/27 [==============================] - 3s 94ms/step - loss: 3.1301e-04 - val_loss: 1.0097\n",
            "Epoch 12/100\n",
            "27/27 [==============================] - 3s 93ms/step - loss: 3.1181e-04 - val_loss: 0.2817\n",
            "Epoch 13/100\n",
            "27/27 [==============================] - 3s 94ms/step - loss: 3.0910e-04 - val_loss: 0.1248\n",
            "Epoch 14/100\n",
            "27/27 [==============================] - 3s 95ms/step - loss: 3.1083e-04 - val_loss: 0.1510\n",
            "Epoch 15/100\n",
            "27/27 [==============================] - 3s 95ms/step - loss: 3.1337e-04 - val_loss: 0.1813\n",
            "Epoch 16/100\n",
            "27/27 [==============================] - 3s 93ms/step - loss: 2.9351e-04 - val_loss: 11.6650\n",
            "Epoch 17/100\n",
            "27/27 [==============================] - 3s 93ms/step - loss: 3.1787e-04 - val_loss: 0.5172\n",
            "Epoch 18/100\n",
            "27/27 [==============================] - 3s 93ms/step - loss: 3.0265e-04 - val_loss: 0.2755\n",
            "Epoch 19/100\n",
            "27/27 [==============================] - 3s 93ms/step - loss: 2.9429e-04 - val_loss: 0.5878\n",
            "Epoch 20/100\n",
            "27/27 [==============================] - 3s 94ms/step - loss: 2.8475e-04 - val_loss: 0.6975\n",
            "Epoch 21/100\n",
            "27/27 [==============================] - 3s 93ms/step - loss: 2.9922e-04 - val_loss: 0.9523\n",
            "Epoch 22/100\n",
            "27/27 [==============================] - 3s 93ms/step - loss: 3.0178e-04 - val_loss: 0.4595\n",
            "Epoch 23/100\n",
            "27/27 [==============================] - 3s 93ms/step - loss: 2.7833e-04 - val_loss: 0.6308\n",
            "Epoch 24/100\n",
            "27/27 [==============================] - 3s 94ms/step - loss: 2.8489e-04 - val_loss: 1.0992\n",
            "Epoch 25/100\n",
            "27/27 [==============================] - 2s 93ms/step - loss: 2.9507e-04 - val_loss: 0.3541\n",
            "Epoch 26/100\n",
            "27/27 [==============================] - 2s 92ms/step - loss: 2.7878e-04 - val_loss: 0.5111\n",
            "Epoch 27/100\n",
            "27/27 [==============================] - 2s 93ms/step - loss: 2.6474e-04 - val_loss: 1.1799\n",
            "Epoch 28/100\n",
            "27/27 [==============================] - 2s 92ms/step - loss: 2.9552e-04 - val_loss: 0.9239\n",
            "Epoch 29/100\n",
            "27/27 [==============================] - 3s 98ms/step - loss: 2.9050e-04 - val_loss: 0.3717\n",
            "Epoch 30/100\n",
            "27/27 [==============================] - 3s 95ms/step - loss: 2.6710e-04 - val_loss: 0.5249\n",
            "Epoch 31/100\n",
            "27/27 [==============================] - 2s 91ms/step - loss: 2.5377e-04 - val_loss: 1.0009\n",
            "Epoch 32/100\n",
            "27/27 [==============================] - 3s 94ms/step - loss: 2.4970e-04 - val_loss: 0.5468\n",
            "Epoch 33/100\n",
            "27/27 [==============================] - 2s 92ms/step - loss: 2.8132e-04 - val_loss: 0.7256\n",
            "Epoch 34/100\n",
            "27/27 [==============================] - 2s 92ms/step - loss: 2.5969e-04 - val_loss: 1.0258\n",
            "Epoch 35/100\n",
            "27/27 [==============================] - 3s 94ms/step - loss: 2.7491e-04 - val_loss: 0.6065\n",
            "Epoch 36/100\n",
            "27/27 [==============================] - 2s 92ms/step - loss: 2.4604e-04 - val_loss: 1.1843\n",
            "Epoch 37/100\n",
            "27/27 [==============================] - 3s 93ms/step - loss: 2.3803e-04 - val_loss: 0.6386\n",
            "Epoch 38/100\n",
            "27/27 [==============================] - 2s 92ms/step - loss: 2.3603e-04 - val_loss: 0.5153\n",
            "Epoch 39/100\n",
            "27/27 [==============================] - 3s 94ms/step - loss: 2.3515e-04 - val_loss: 0.4578\n",
            "Epoch 40/100\n",
            "27/27 [==============================] - 2s 92ms/step - loss: 2.5937e-04 - val_loss: 0.1998\n",
            "Epoch 41/100\n",
            "27/27 [==============================] - 3s 93ms/step - loss: 2.5008e-04 - val_loss: 0.2086\n",
            "Epoch 42/100\n",
            "27/27 [==============================] - 3s 105ms/step - loss: 2.4615e-04 - val_loss: 0.2739\n",
            "Epoch 43/100\n",
            "27/27 [==============================] - 3s 93ms/step - loss: 2.5011e-04 - val_loss: 0.2647\n",
            "Epoch 44/100\n",
            "27/27 [==============================] - 3s 94ms/step - loss: 2.5354e-04 - val_loss: 0.2266\n",
            "Epoch 45/100\n",
            "27/27 [==============================] - 3s 94ms/step - loss: 2.2655e-04 - val_loss: 0.3307\n",
            "Epoch 46/100\n",
            "27/27 [==============================] - 2s 93ms/step - loss: 2.2216e-04 - val_loss: 0.3119\n",
            "Epoch 47/100\n",
            "27/27 [==============================] - 3s 94ms/step - loss: 2.6672e-04 - val_loss: 0.1682\n",
            "Epoch 48/100\n",
            "27/27 [==============================] - 3s 95ms/step - loss: 2.5593e-04 - val_loss: 0.1084\n",
            "Epoch 49/100\n",
            "27/27 [==============================] - 2s 92ms/step - loss: 2.4796e-04 - val_loss: 0.1307\n",
            "Epoch 50/100\n",
            "27/27 [==============================] - 3s 94ms/step - loss: 2.4114e-04 - val_loss: 0.1479\n",
            "Epoch 51/100\n",
            "27/27 [==============================] - 2s 91ms/step - loss: 2.5887e-04 - val_loss: 0.1252\n",
            "Epoch 52/100\n",
            "27/27 [==============================] - 2s 92ms/step - loss: 2.2473e-04 - val_loss: 0.1269\n",
            "Epoch 53/100\n",
            "27/27 [==============================] - 2s 91ms/step - loss: 2.2197e-04 - val_loss: 0.2432\n",
            "Epoch 54/100\n",
            "27/27 [==============================] - 2s 91ms/step - loss: 2.2868e-04 - val_loss: 0.1601\n",
            "Epoch 55/100\n",
            "27/27 [==============================] - 2s 91ms/step - loss: 2.1856e-04 - val_loss: 0.1587\n",
            "Epoch 56/100\n",
            "27/27 [==============================] - 2s 92ms/step - loss: 2.2313e-04 - val_loss: 0.1402\n",
            "Epoch 57/100\n",
            "27/27 [==============================] - 2s 92ms/step - loss: 2.2104e-04 - val_loss: 0.1531\n",
            "Epoch 58/100\n",
            "27/27 [==============================] - 2s 92ms/step - loss: 2.1711e-04 - val_loss: 0.1614\n",
            "Epoch 59/100\n",
            "27/27 [==============================] - 2s 92ms/step - loss: 2.2233e-04 - val_loss: 0.1392\n",
            "Epoch 60/100\n",
            "27/27 [==============================] - 2s 92ms/step - loss: 2.0478e-04 - val_loss: 0.2011\n",
            "Epoch 61/100\n",
            "27/27 [==============================] - 2s 90ms/step - loss: 2.2022e-04 - val_loss: 0.0722\n",
            "Epoch 62/100\n",
            "27/27 [==============================] - 2s 91ms/step - loss: 2.2895e-04 - val_loss: 0.1115\n",
            "Epoch 63/100\n",
            "27/27 [==============================] - 2s 91ms/step - loss: 2.1369e-04 - val_loss: 0.1266\n",
            "Epoch 64/100\n",
            "27/27 [==============================] - 2s 91ms/step - loss: 2.2352e-04 - val_loss: 0.1413\n",
            "Epoch 65/100\n",
            "27/27 [==============================] - 2s 92ms/step - loss: 2.2210e-04 - val_loss: 0.1023\n",
            "Epoch 66/100\n",
            "27/27 [==============================] - 2s 91ms/step - loss: 2.0978e-04 - val_loss: 0.1518\n",
            "Epoch 67/100\n",
            "27/27 [==============================] - 3s 93ms/step - loss: 2.3346e-04 - val_loss: 0.0627\n",
            "Epoch 68/100\n",
            "27/27 [==============================] - 2s 91ms/step - loss: 2.1690e-04 - val_loss: 0.0687\n",
            "Epoch 69/100\n",
            "27/27 [==============================] - 2s 92ms/step - loss: 2.1463e-04 - val_loss: 0.0930\n",
            "Epoch 70/100\n",
            "27/27 [==============================] - 2s 92ms/step - loss: 2.1655e-04 - val_loss: 0.0960\n",
            "Epoch 71/100\n",
            "27/27 [==============================] - 2s 92ms/step - loss: 2.0484e-04 - val_loss: 0.0756\n",
            "Epoch 72/100\n",
            "27/27 [==============================] - 3s 93ms/step - loss: 2.0291e-04 - val_loss: 0.0984\n",
            "Epoch 73/100\n",
            "27/27 [==============================] - 2s 92ms/step - loss: 2.1277e-04 - val_loss: 0.0829\n",
            "Epoch 74/100\n",
            "27/27 [==============================] - 2s 92ms/step - loss: 1.9731e-04 - val_loss: 0.0958\n",
            "Epoch 75/100\n",
            "27/27 [==============================] - 2s 92ms/step - loss: 1.8866e-04 - val_loss: 0.1092\n",
            "Epoch 76/100\n",
            "27/27 [==============================] - 2s 91ms/step - loss: 2.1612e-04 - val_loss: 0.0674\n",
            "Epoch 77/100\n",
            "27/27 [==============================] - 2s 91ms/step - loss: 1.9989e-04 - val_loss: 0.0938\n",
            "Epoch 78/100\n",
            "27/27 [==============================] - 2s 92ms/step - loss: 2.1728e-04 - val_loss: 0.1063\n",
            "Epoch 79/100\n",
            "27/27 [==============================] - 3s 100ms/step - loss: 2.0798e-04 - val_loss: 0.1036\n",
            "Epoch 80/100\n",
            "27/27 [==============================] - 2s 91ms/step - loss: 1.9927e-04 - val_loss: 0.0916\n",
            "Epoch 81/100\n",
            "27/27 [==============================] - 2s 90ms/step - loss: 1.9441e-04 - val_loss: 0.0887\n",
            "Epoch 82/100\n",
            "27/27 [==============================] - 2s 92ms/step - loss: 1.9598e-04 - val_loss: 0.0930\n",
            "Epoch 83/100\n",
            "27/27 [==============================] - 2s 91ms/step - loss: 2.0366e-04 - val_loss: 0.0849\n",
            "Epoch 84/100\n",
            "27/27 [==============================] - 3s 101ms/step - loss: 1.9210e-04 - val_loss: 0.0996\n",
            "Epoch 85/100\n",
            "27/27 [==============================] - 2s 90ms/step - loss: 1.8541e-04 - val_loss: 0.0879\n",
            "Epoch 86/100\n",
            "27/27 [==============================] - 2s 91ms/step - loss: 1.8312e-04 - val_loss: 0.0619\n",
            "Epoch 87/100\n",
            "27/27 [==============================] - 2s 92ms/step - loss: 1.9487e-04 - val_loss: 0.0900\n",
            "Epoch 88/100\n",
            "27/27 [==============================] - 2s 91ms/step - loss: 2.0015e-04 - val_loss: 0.0635\n",
            "Epoch 89/100\n",
            "27/27 [==============================] - 2s 90ms/step - loss: 1.8576e-04 - val_loss: 0.0741\n",
            "Epoch 90/100\n",
            "27/27 [==============================] - 2s 91ms/step - loss: 1.8972e-04 - val_loss: 0.0796\n",
            "Epoch 91/100\n",
            "27/27 [==============================] - 2s 90ms/step - loss: 1.8993e-04 - val_loss: 0.0829\n",
            "Epoch 92/100\n",
            "27/27 [==============================] - 2s 91ms/step - loss: 1.8616e-04 - val_loss: 0.0733\n",
            "Epoch 93/100\n",
            "27/27 [==============================] - 2s 91ms/step - loss: 1.8983e-04 - val_loss: 0.0645\n",
            "Epoch 94/100\n",
            "27/27 [==============================] - 3s 93ms/step - loss: 1.9635e-04 - val_loss: 0.0683\n",
            "Epoch 95/100\n",
            "27/27 [==============================] - 2s 92ms/step - loss: 1.8850e-04 - val_loss: 0.0745\n",
            "Epoch 96/100\n",
            "27/27 [==============================] - 3s 93ms/step - loss: 1.7615e-04 - val_loss: 0.0820\n",
            "Epoch 97/100\n",
            "27/27 [==============================] - 2s 91ms/step - loss: 2.0167e-04 - val_loss: 0.0638\n",
            "Epoch 98/100\n",
            "27/27 [==============================] - 2s 92ms/step - loss: 1.8030e-04 - val_loss: 0.0606\n",
            "Epoch 99/100\n",
            "27/27 [==============================] - 2s 90ms/step - loss: 1.9415e-04 - val_loss: 0.0681\n",
            "Epoch 100/100\n",
            "27/27 [==============================] - 2s 92ms/step - loss: 1.9426e-04 - val_loss: 0.0539\n"
          ]
        },
        {
          "output_type": "execute_result",
          "data": {
            "text/plain": [
              "<keras.callbacks.History at 0x7fcbe8416750>"
            ]
          },
          "metadata": {},
          "execution_count": 19
        }
      ],
      "source": [
        "model_1.fit(train_windows,\n",
        "            train_labels,\n",
        "            epochs=100,\n",
        "            verbose=1,\n",
        "            batch_size=128,\n",
        "            validation_data=(test_windows, test_labels),\n",
        "            callbacks=[create_model_checkpoint(model_name=\"model_1\")])"
      ]
    },
    {
      "cell_type": "code",
      "source": [
        "#load the best version of our model\n",
        "model_1=tf.keras.models.load_model(\"model_experiments/model_1\")"
      ],
      "metadata": {
        "colab": {
          "base_uri": "https://localhost:8080/"
        },
        "id": "NqwDclReNplA",
        "outputId": "85f566ad-9cab-4cd6-d8fc-afe6858c33ff"
      },
      "execution_count": 20,
      "outputs": [
        {
          "output_type": "stream",
          "name": "stderr",
          "text": [
            "WARNING:tensorflow:Layer lstm will not use cuDNN kernels since it doesn't meet the criteria. It will use a generic GPU kernel as fallback when running on GPU.\n"
          ]
        }
      ]
    },
    {
      "cell_type": "code",
      "source": [
        "#Evaluate our model\n",
        "model_1.evaluate(test_windows,test_labels)"
      ],
      "metadata": {
        "colab": {
          "base_uri": "https://localhost:8080/"
        },
        "id": "RmQSdhCfN1Tp",
        "outputId": "90f726f2-33ab-4187-8235-d7026fe6a05a"
      },
      "execution_count": 21,
      "outputs": [
        {
          "output_type": "stream",
          "name": "stdout",
          "text": [
            "26/26 [==============================] - 0s 12ms/step - loss: 0.0230\n"
          ]
        },
        {
          "output_type": "execute_result",
          "data": {
            "text/plain": [
              "0.022978922352194786"
            ]
          },
          "metadata": {},
          "execution_count": 21
        }
      ]
    },
    {
      "cell_type": "code",
      "source": [
        "#loading the real price from the scaled test labels\n",
        "model_1_real_stock_price=unscale_labels(googleDf,test_labels)"
      ],
      "metadata": {
        "id": "5gSIUyeZIHJ6"
      },
      "execution_count": 22,
      "outputs": []
    },
    {
      "cell_type": "code",
      "execution_count": 23,
      "metadata": {
        "id": "-m7KceFVZ7-v"
      },
      "outputs": [],
      "source": [
        "#preidict the prices \n",
        "model_1_pred=predict_unscaled(model_1,googleDf,test_windows)\n"
      ]
    },
    {
      "cell_type": "code",
      "source": [
        "model_1_pred[:10]"
      ],
      "metadata": {
        "colab": {
          "base_uri": "https://localhost:8080/"
        },
        "id": "TkHHeTTmPWPo",
        "outputId": "79041b63-e4ee-41cc-cf89-609122fe0e0a"
      },
      "execution_count": 24,
      "outputs": [
        {
          "output_type": "execute_result",
          "data": {
            "text/plain": [
              "<tf.Tensor: shape=(10,), dtype=float32, numpy=\n",
              "array([57.56041 , 57.439117, 57.665043, 58.197075, 58.746513, 59.087738,\n",
              "       59.304066, 59.37959 , 59.535374, 59.875572], dtype=float32)>"
            ]
          },
          "metadata": {},
          "execution_count": 24
        }
      ]
    },
    {
      "cell_type": "code",
      "execution_count": 25,
      "metadata": {
        "id": "Di_gerUvMimj"
      },
      "outputs": [],
      "source": [
        "model_1_results=evaluate_preds(y_true=model_1_real_stock_price,\n",
        "                               y_pred=model_1_pred)"
      ]
    },
    {
      "cell_type": "code",
      "source": [
        "model_1_results"
      ],
      "metadata": {
        "colab": {
          "base_uri": "https://localhost:8080/"
        },
        "id": "idJgxe8xOhi4",
        "outputId": "9efdc07a-d4b0-4471-e303-3caaf54a0a7c"
      },
      "execution_count": 26,
      "outputs": [
        {
          "output_type": "execute_result",
          "data": {
            "text/plain": [
              "{'mae': 3.307177,\n",
              " 'mse': 25.54384,\n",
              " 'rmse': 5.0540915,\n",
              " 'mape': 3.081993,\n",
              " 'mase': 2.6730335}"
            ]
          },
          "metadata": {},
          "execution_count": 26
        }
      ]
    },
    {
      "cell_type": "code",
      "source": [
        "plt.figure(figsize=(10, 7))\n",
        "plot_time_series( df=googleDf,values=model_1_real_stock_price,test_labels_length=len(test_labels) ,format=\"-\", label=\"Google Real stock price\")\n",
        "plot_time_series( df=googleDf,values=model_1_pred, format=\"-\",test_labels_length=len(test_labels),  label=\"model 1 predicted price\");"
      ],
      "metadata": {
        "colab": {
          "base_uri": "https://localhost:8080/",
          "height": 442
        },
        "id": "0cYnwDNOdv1A",
        "outputId": "9ab86214-bcd5-4407-cb8a-ca704903e991"
      },
      "execution_count": 84,
      "outputs": [
        {
          "output_type": "display_data",
          "data": {
            "text/plain": [
              "<Figure size 720x504 with 1 Axes>"
            ],
            "image/png": "[encoded data removed]"
          },
          "metadata": {
            "needs_background": "light"
          }
        }
      ]
    },
    {
      "cell_type": "markdown",
      "source": [
        "# Model 2"
      ],
      "metadata": {
        "id": "ervn9candglF"
      }
    },
    {
      "cell_type": "markdown",
      "source": [
        "in this second model we will add another feature which is the closing price of the S&p 500 to the features"
      ],
      "metadata": {
        "id": "bXemExH76fmL"
      }
    },
    {
      "cell_type": "markdown",
      "source": [
        "## Importing data for model2 and preparing it "
      ],
      "metadata": {
        "id": "sNQuqNB69uUS"
      }
    },
    {
      "cell_type": "code",
      "source": [
        "# Importinig S&p 500 data from yahoo finance\n",
        "\n",
        "spSymbol='^GSPC'\n",
        "\n",
        "spStockData=yf.Ticker(spSymbol)\n",
        "\n",
        "#Get the S&p 500 data\n",
        "\n",
        "spDf=spStockData.history(period='1d',start=\"2005-1-1\",end='2022-06-1')\n",
        "\n",
        "#visualising the data\n",
        "spDf.head()"
      ],
      "metadata": {
        "colab": {
          "base_uri": "https://localhost:8080/",
          "height": 0
        },
        "id": "Ws2cLE9Ld0dp",
        "outputId": "f6c936de-1ef0-428d-e4a4-20b9fe7514c0"
      },
      "execution_count": 27,
      "outputs": [
        {
          "output_type": "execute_result",
          "data": {
            "text/plain": [
              "                   Open         High          Low        Close      Volume  \\\n",
              "Date                                                                         \n",
              "2005-01-03  1211.920044  1217.800049  1200.319946  1202.079956  1510800000   \n",
              "2005-01-04  1202.079956  1205.839966  1185.390015  1188.050049  1721000000   \n",
              "2005-01-05  1188.050049  1192.729980  1183.719971  1183.739990  1738900000   \n",
              "2005-01-06  1183.739990  1191.630005  1183.270020  1187.890015  1569100000   \n",
              "2005-01-07  1187.890015  1192.199951  1182.160034  1186.189941  1477900000   \n",
              "\n",
              "            Dividends  Stock Splits  \n",
              "Date                                 \n",
              "2005-01-03          0             0  \n",
              "2005-01-04          0             0  \n",
              "2005-01-05          0             0  \n",
              "2005-01-06          0             0  \n",
              "2005-01-07          0             0  "
            ],
            "text/html": [
              "\n",
              "  <div id=\"df-ec7c7979-6dbf-4185-8765-a4a00a135399\">\n",
              "    <div class=\"colab-df-container\">\n",
              "      <div>\n",
              "<style scoped>\n",
              "    .dataframe tbody tr th:only-of-type {\n",
              "        vertical-align: middle;\n",
              "    }\n",
              "\n",
              "    .dataframe tbody tr th {\n",
              "        vertical-align: top;\n",
              "    }\n",
              "\n",
              "    .dataframe thead th {\n",
              "        text-align: right;\n",
              "    }\n",
              "</style>\n",
              "<table border=\"1\" class=\"dataframe\">\n",
              "  <thead>\n",
              "    <tr style=\"text-align: right;\">\n",
              "      <th></th>\n",
              "      <th>Open</th>\n",
              "      <th>High</th>\n",
              "      <th>Low</th>\n",
              "      <th>Close</th>\n",
              "      <th>Volume</th>\n",
              "      <th>Dividends</th>\n",
              "      <th>Stock Splits</th>\n",
              "    </tr>\n",
              "    <tr>\n",
              "      <th>Date</th>\n",
              "      <th></th>\n",
              "      <th></th>\n",
              "      <th></th>\n",
              "      <th></th>\n",
              "      <th></th>\n",
              "      <th></th>\n",
              "      <th></th>\n",
              "    </tr>\n",
              "  </thead>\n",
              "  <tbody>\n",
              "    <tr>\n",
              "      <th>2005-01-03</th>\n",
              "      <td>1211.920044</td>\n",
              "      <td>1217.800049</td>\n",
              "      <td>1200.319946</td>\n",
              "      <td>1202.079956</td>\n",
              "      <td>1510800000</td>\n",
              "      <td>0</td>\n",
              "      <td>0</td>\n",
              "    </tr>\n",
              "    <tr>\n",
              "      <th>2005-01-04</th>\n",
              "      <td>1202.079956</td>\n",
              "      <td>1205.839966</td>\n",
              "      <td>1185.390015</td>\n",
              "      <td>1188.050049</td>\n",
              "      <td>1721000000</td>\n",
              "      <td>0</td>\n",
              "      <td>0</td>\n",
              "    </tr>\n",
              "    <tr>\n",
              "      <th>2005-01-05</th>\n",
              "      <td>1188.050049</td>\n",
              "      <td>1192.729980</td>\n",
              "      <td>1183.719971</td>\n",
              "      <td>1183.739990</td>\n",
              "      <td>1738900000</td>\n",
              "      <td>0</td>\n",
              "      <td>0</td>\n",
              "    </tr>\n",
              "    <tr>\n",
              "      <th>2005-01-06</th>\n",
              "      <td>1183.739990</td>\n",
              "      <td>1191.630005</td>\n",
              "      <td>1183.270020</td>\n",
              "      <td>1187.890015</td>\n",
              "      <td>1569100000</td>\n",
              "      <td>0</td>\n",
              "      <td>0</td>\n",
              "    </tr>\n",
              "    <tr>\n",
              "      <th>2005-01-07</th>\n",
              "      <td>1187.890015</td>\n",
              "      <td>1192.199951</td>\n",
              "      <td>1182.160034</td>\n",
              "      <td>1186.189941</td>\n",
              "      <td>1477900000</td>\n",
              "      <td>0</td>\n",
              "      <td>0</td>\n",
              "    </tr>\n",
              "  </tbody>\n",
              "</table>\n",
              "</div>\n",
              "      <button class=\"colab-df-convert\" onclick=\"convertToInteractive('df-ec7c7979-6dbf-4185-8765-a4a00a135399')\"\n",
              "              title=\"Convert this dataframe to an interactive table.\"\n",
              "              style=\"display:none;\">\n",
              "        \n",
              "  <svg xmlns=\"http://www.w3.org/2000/svg\" height=\"24px\"viewBox=\"0 0 24 24\"\n",
              "       width=\"24px\">\n",
              "    <path d=\"M0 0h24v24H0V0z\" fill=\"none\"/>\n",
              "    <path d=\"M18.56 5.44l.94 2.06.94-2.06 2.06-.94-2.06-.94-.94-2.06-.94 2.06-2.06.94zm-11 1L8.5 8.5l.94-2.06 2.06-.94-2.06-.94L8.5 2.5l-.94 2.06-2.06.94zm10 10l.94 2.06.94-2.06 2.06-.94-2.06-.94-.94-2.06-.94 2.06-2.06.94z\"/><path d=\"M17.41 7.96l-1.37-1.37c-.4-.4-.92-.59-1.43-.59-.52 0-1.04.2-1.43.59L10.3 9.45l-7.72 7.72c-.78.78-.78 2.05 0 2.83L4 21.41c.39.39.9.59 1.41.59.51 0 1.02-.2 1.41-.59l7.78-7.78 2.81-2.81c.8-.78.8-2.07 0-2.86zM5.41 20L4 18.59l7.72-7.72 1.47 1.35L5.41 20z\"/>\n",
              "  </svg>\n",
              "      </button>\n",
              "      \n",
              "  <style>\n",
              "    .colab-df-container {\n",
              "      display:flex;\n",
              "      flex-wrap:wrap;\n",
              "      gap: 12px;\n",
              "    }\n",
              "\n",
              "    .colab-df-convert {\n",
              "      background-color: #E8F0FE;\n",
              "      border: none;\n",
              "      border-radius: 50%;\n",
              "      cursor: pointer;\n",
              "      display: none;\n",
              "      fill: #1967D2;\n",
              "      height: 32px;\n",
              "      padding: 0 0 0 0;\n",
              "      width: 32px;\n",
              "    }\n",
              "\n",
              "    .colab-df-convert:hover {\n",
              "      background-color: #E2EBFA;\n",
              "      box-shadow: 0px 1px 2px rgba(60, 64, 67, 0.3), 0px 1px 3px 1px rgba(60, 64, 67, 0.15);\n",
              "      fill: #174EA6;\n",
              "    }\n",
              "\n",
              "    [theme=dark] .colab-df-convert {\n",
              "      background-color: #3B4455;\n",
              "      fill: #D2E3FC;\n",
              "    }\n",
              "\n",
              "    [theme=dark] .colab-df-convert:hover {\n",
              "      background-color: #434B5C;\n",
              "      box-shadow: 0px 1px 3px 1px rgba(0, 0, 0, 0.15);\n",
              "      filter: drop-shadow(0px 1px 2px rgba(0, 0, 0, 0.3));\n",
              "      fill: #FFFFFF;\n",
              "    }\n",
              "  </style>\n",
              "\n",
              "      <script>\n",
              "        const buttonEl =\n",
              "          document.querySelector('#df-ec7c7979-6dbf-4185-8765-a4a00a135399 button.colab-df-convert');\n",
              "        buttonEl.style.display =\n",
              "          google.colab.kernel.accessAllowed ? 'block' : 'none';\n",
              "\n",
              "        async function convertToInteractive(key) {\n",
              "          const element = document.querySelector('#df-ec7c7979-6dbf-4185-8765-a4a00a135399');\n",
              "          const dataTable =\n",
              "            await google.colab.kernel.invokeFunction('convertToInteractive',\n",
              "                                                     [key], {});\n",
              "          if (!dataTable) return;\n",
              "\n",
              "          const docLinkHtml = 'Like what you see? Visit the ' +\n",
              "            '<a target=\"_blank\" href=https://colab.research.google.com/notebooks/data_table.ipynb>data table notebook</a>'\n",
              "            + ' to learn more about interactive tables.';\n",
              "          element.innerHTML = '';\n",
              "          dataTable['output_type'] = 'display_data';\n",
              "          await google.colab.output.renderOutput(dataTable, element);\n",
              "          const docLink = document.createElement('div');\n",
              "          docLink.innerHTML = docLinkHtml;\n",
              "          element.appendChild(docLink);\n",
              "        }\n",
              "      </script>\n",
              "    </div>\n",
              "  </div>\n",
              "  "
            ]
          },
          "metadata": {},
          "execution_count": 27
        }
      ]
    },
    {
      "cell_type": "code",
      "source": [
        "#Renaming the close Price to SP500\n",
        "spDf=spDf.rename(columns={'Close':'SP500'})\n",
        "\n",
        "spDf.head()"
      ],
      "metadata": {
        "colab": {
          "base_uri": "https://localhost:8080/",
          "height": 0
        },
        "id": "DDCjtBf28XZp",
        "outputId": "b5d3b1a9-39a8-402d-b651-635babad4208"
      },
      "execution_count": 28,
      "outputs": [
        {
          "output_type": "execute_result",
          "data": {
            "text/plain": [
              "                   Open         High          Low        SP500      Volume  \\\n",
              "Date                                                                         \n",
              "2005-01-03  1211.920044  1217.800049  1200.319946  1202.079956  1510800000   \n",
              "2005-01-04  1202.079956  1205.839966  1185.390015  1188.050049  1721000000   \n",
              "2005-01-05  1188.050049  1192.729980  1183.719971  1183.739990  1738900000   \n",
              "2005-01-06  1183.739990  1191.630005  1183.270020  1187.890015  1569100000   \n",
              "2005-01-07  1187.890015  1192.199951  1182.160034  1186.189941  1477900000   \n",
              "\n",
              "            Dividends  Stock Splits  \n",
              "Date                                 \n",
              "2005-01-03          0             0  \n",
              "2005-01-04          0             0  \n",
              "2005-01-05          0             0  \n",
              "2005-01-06          0             0  \n",
              "2005-01-07          0             0  "
            ],
            "text/html": [
              "\n",
              "  <div id=\"df-23bf9ac3-b61d-4867-b203-0d4974108d8e\">\n",
              "    <div class=\"colab-df-container\">\n",
              "      <div>\n",
              "<style scoped>\n",
              "    .dataframe tbody tr th:only-of-type {\n",
              "        vertical-align: middle;\n",
              "    }\n",
              "\n",
              "    .dataframe tbody tr th {\n",
              "        vertical-align: top;\n",
              "    }\n",
              "\n",
              "    .dataframe thead th {\n",
              "        text-align: right;\n",
              "    }\n",
              "</style>\n",
              "<table border=\"1\" class=\"dataframe\">\n",
              "  <thead>\n",
              "    <tr style=\"text-align: right;\">\n",
              "      <th></th>\n",
              "      <th>Open</th>\n",
              "      <th>High</th>\n",
              "      <th>Low</th>\n",
              "      <th>SP500</th>\n",
              "      <th>Volume</th>\n",
              "      <th>Dividends</th>\n",
              "      <th>Stock Splits</th>\n",
              "    </tr>\n",
              "    <tr>\n",
              "      <th>Date</th>\n",
              "      <th></th>\n",
              "      <th></th>\n",
              "      <th></th>\n",
              "      <th></th>\n",
              "      <th></th>\n",
              "      <th></th>\n",
              "      <th></th>\n",
              "    </tr>\n",
              "  </thead>\n",
              "  <tbody>\n",
              "    <tr>\n",
              "      <th>2005-01-03</th>\n",
              "      <td>1211.920044</td>\n",
              "      <td>1217.800049</td>\n",
              "      <td>1200.319946</td>\n",
              "      <td>1202.079956</td>\n",
              "      <td>1510800000</td>\n",
              "      <td>0</td>\n",
              "      <td>0</td>\n",
              "    </tr>\n",
              "    <tr>\n",
              "      <th>2005-01-04</th>\n",
              "      <td>1202.079956</td>\n",
              "      <td>1205.839966</td>\n",
              "      <td>1185.390015</td>\n",
              "      <td>1188.050049</td>\n",
              "      <td>1721000000</td>\n",
              "      <td>0</td>\n",
              "      <td>0</td>\n",
              "    </tr>\n",
              "    <tr>\n",
              "      <th>2005-01-05</th>\n",
              "      <td>1188.050049</td>\n",
              "      <td>1192.729980</td>\n",
              "      <td>1183.719971</td>\n",
              "      <td>1183.739990</td>\n",
              "      <td>1738900000</td>\n",
              "      <td>0</td>\n",
              "      <td>0</td>\n",
              "    </tr>\n",
              "    <tr>\n",
              "      <th>2005-01-06</th>\n",
              "      <td>1183.739990</td>\n",
              "      <td>1191.630005</td>\n",
              "      <td>1183.270020</td>\n",
              "      <td>1187.890015</td>\n",
              "      <td>1569100000</td>\n",
              "      <td>0</td>\n",
              "      <td>0</td>\n",
              "    </tr>\n",
              "    <tr>\n",
              "      <th>2005-01-07</th>\n",
              "      <td>1187.890015</td>\n",
              "      <td>1192.199951</td>\n",
              "      <td>1182.160034</td>\n",
              "      <td>1186.189941</td>\n",
              "      <td>1477900000</td>\n",
              "      <td>0</td>\n",
              "      <td>0</td>\n",
              "    </tr>\n",
              "  </tbody>\n",
              "</table>\n",
              "</div>\n",
              "      <button class=\"colab-df-convert\" onclick=\"convertToInteractive('df-23bf9ac3-b61d-4867-b203-0d4974108d8e')\"\n",
              "              title=\"Convert this dataframe to an interactive table.\"\n",
              "              style=\"display:none;\">\n",
              "        \n",
              "  <svg xmlns=\"http://www.w3.org/2000/svg\" height=\"24px\"viewBox=\"0 0 24 24\"\n",
              "       width=\"24px\">\n",
              "    <path d=\"M0 0h24v24H0V0z\" fill=\"none\"/>\n",
              "    <path d=\"M18.56 5.44l.94 2.06.94-2.06 2.06-.94-2.06-.94-.94-2.06-.94 2.06-2.06.94zm-11 1L8.5 8.5l.94-2.06 2.06-.94-2.06-.94L8.5 2.5l-.94 2.06-2.06.94zm10 10l.94 2.06.94-2.06 2.06-.94-2.06-.94-.94-2.06-.94 2.06-2.06.94z\"/><path d=\"M17.41 7.96l-1.37-1.37c-.4-.4-.92-.59-1.43-.59-.52 0-1.04.2-1.43.59L10.3 9.45l-7.72 7.72c-.78.78-.78 2.05 0 2.83L4 21.41c.39.39.9.59 1.41.59.51 0 1.02-.2 1.41-.59l7.78-7.78 2.81-2.81c.8-.78.8-2.07 0-2.86zM5.41 20L4 18.59l7.72-7.72 1.47 1.35L5.41 20z\"/>\n",
              "  </svg>\n",
              "      </button>\n",
              "      \n",
              "  <style>\n",
              "    .colab-df-container {\n",
              "      display:flex;\n",
              "      flex-wrap:wrap;\n",
              "      gap: 12px;\n",
              "    }\n",
              "\n",
              "    .colab-df-convert {\n",
              "      background-color: #E8F0FE;\n",
              "      border: none;\n",
              "      border-radius: 50%;\n",
              "      cursor: pointer;\n",
              "      display: none;\n",
              "      fill: #1967D2;\n",
              "      height: 32px;\n",
              "      padding: 0 0 0 0;\n",
              "      width: 32px;\n",
              "    }\n",
              "\n",
              "    .colab-df-convert:hover {\n",
              "      background-color: #E2EBFA;\n",
              "      box-shadow: 0px 1px 2px rgba(60, 64, 67, 0.3), 0px 1px 3px 1px rgba(60, 64, 67, 0.15);\n",
              "      fill: #174EA6;\n",
              "    }\n",
              "\n",
              "    [theme=dark] .colab-df-convert {\n",
              "      background-color: #3B4455;\n",
              "      fill: #D2E3FC;\n",
              "    }\n",
              "\n",
              "    [theme=dark] .colab-df-convert:hover {\n",
              "      background-color: #434B5C;\n",
              "      box-shadow: 0px 1px 3px 1px rgba(0, 0, 0, 0.15);\n",
              "      filter: drop-shadow(0px 1px 2px rgba(0, 0, 0, 0.3));\n",
              "      fill: #FFFFFF;\n",
              "    }\n",
              "  </style>\n",
              "\n",
              "      <script>\n",
              "        const buttonEl =\n",
              "          document.querySelector('#df-23bf9ac3-b61d-4867-b203-0d4974108d8e button.colab-df-convert');\n",
              "        buttonEl.style.display =\n",
              "          google.colab.kernel.accessAllowed ? 'block' : 'none';\n",
              "\n",
              "        async function convertToInteractive(key) {\n",
              "          const element = document.querySelector('#df-23bf9ac3-b61d-4867-b203-0d4974108d8e');\n",
              "          const dataTable =\n",
              "            await google.colab.kernel.invokeFunction('convertToInteractive',\n",
              "                                                     [key], {});\n",
              "          if (!dataTable) return;\n",
              "\n",
              "          const docLinkHtml = 'Like what you see? Visit the ' +\n",
              "            '<a target=\"_blank\" href=https://colab.research.google.com/notebooks/data_table.ipynb>data table notebook</a>'\n",
              "            + ' to learn more about interactive tables.';\n",
              "          element.innerHTML = '';\n",
              "          dataTable['output_type'] = 'display_data';\n",
              "          await google.colab.output.renderOutput(dataTable, element);\n",
              "          const docLink = document.createElement('div');\n",
              "          docLink.innerHTML = docLinkHtml;\n",
              "          element.appendChild(docLink);\n",
              "        }\n",
              "      </script>\n",
              "    </div>\n",
              "  </div>\n",
              "  "
            ]
          },
          "metadata": {},
          "execution_count": 28
        }
      ]
    },
    {
      "cell_type": "code",
      "source": [
        "#Getting the closing price of the s&p500\n",
        "\n",
        "spClosingPrice=spDf[\"SP500\"]\n",
        "spClosingPrice.head()"
      ],
      "metadata": {
        "colab": {
          "base_uri": "https://localhost:8080/"
        },
        "id": "cJ0oDhY-7cr3",
        "outputId": "f6775e3b-e6df-4f4a-9024-d8084b98f676"
      },
      "execution_count": 29,
      "outputs": [
        {
          "output_type": "execute_result",
          "data": {
            "text/plain": [
              "Date\n",
              "2005-01-03    1202.079956\n",
              "2005-01-04    1188.050049\n",
              "2005-01-05    1183.739990\n",
              "2005-01-06    1187.890015\n",
              "2005-01-07    1186.189941\n",
              "Name: SP500, dtype: float64"
            ]
          },
          "metadata": {},
          "execution_count": 29
        }
      ]
    },
    {
      "cell_type": "code",
      "source": [
        "spClosingPrice.tail()"
      ],
      "metadata": {
        "colab": {
          "base_uri": "https://localhost:8080/"
        },
        "id": "5Fq6ZsWA9ot6",
        "outputId": "e3b78821-2f0c-4b5f-ce51-fd815e365039"
      },
      "execution_count": 30,
      "outputs": [
        {
          "output_type": "execute_result",
          "data": {
            "text/plain": [
              "Date\n",
              "2022-05-24    3941.479980\n",
              "2022-05-25    3978.729980\n",
              "2022-05-26    4057.840088\n",
              "2022-05-27    4158.240234\n",
              "2022-05-31    4132.149902\n",
              "Name: SP500, dtype: float64"
            ]
          },
          "metadata": {},
          "execution_count": 30
        }
      ]
    },
    {
      "cell_type": "code",
      "source": [
        "# Importinig Google stock data from yahoo finance\n",
        "\n",
        "GoogleStockSymbol='GOOGL'\n",
        "\n",
        "GoogleStockData=yf.Ticker(GoogleStockSymbol)\n",
        "\n",
        "#Get Google stock data\n",
        "\n",
        "googleDf=GoogleStockData.history(period='1d',start=\"2005-1-1\",end='2022-06-1')\n",
        "\n",
        "#visualising the data\n",
        "googleDf.head()"
      ],
      "metadata": {
        "colab": {
          "base_uri": "https://localhost:8080/",
          "height": 0
        },
        "id": "egiWq3sI8oLh",
        "outputId": "a531d24b-9d3e-4179-ef86-068ecaf29a46"
      },
      "execution_count": 31,
      "outputs": [
        {
          "output_type": "execute_result",
          "data": {
            "text/plain": [
              "                Open      High       Low     Close     Volume  Dividends  \\\n",
              "Date                                                                       \n",
              "2005-01-03  4.939940  5.096096  4.891391  5.072823  633134232          0   \n",
              "2005-01-04  5.040040  5.078328  4.841842  4.867367  549685764          0   \n",
              "2005-01-05  4.841091  4.927427  4.810561  4.842593  329134536          0   \n",
              "2005-01-06  4.881882  4.902402  4.697698  4.718468  415068516          0   \n",
              "2005-01-07  4.770771  4.861111  4.724224  4.851101  386129484          0   \n",
              "\n",
              "            Stock Splits  \n",
              "Date                      \n",
              "2005-01-03           0.0  \n",
              "2005-01-04           0.0  \n",
              "2005-01-05           0.0  \n",
              "2005-01-06           0.0  \n",
              "2005-01-07           0.0  "
            ],
            "text/html": [
              "\n",
              "  <div id=\"df-7bf8b50c-d19d-4bce-adbd-35c925ff5451\">\n",
              "    <div class=\"colab-df-container\">\n",
              "      <div>\n",
              "<style scoped>\n",
              "    .dataframe tbody tr th:only-of-type {\n",
              "        vertical-align: middle;\n",
              "    }\n",
              "\n",
              "    .dataframe tbody tr th {\n",
              "        vertical-align: top;\n",
              "    }\n",
              "\n",
              "    .dataframe thead th {\n",
              "        text-align: right;\n",
              "    }\n",
              "</style>\n",
              "<table border=\"1\" class=\"dataframe\">\n",
              "  <thead>\n",
              "    <tr style=\"text-align: right;\">\n",
              "      <th></th>\n",
              "      <th>Open</th>\n",
              "      <th>High</th>\n",
              "      <th>Low</th>\n",
              "      <th>Close</th>\n",
              "      <th>Volume</th>\n",
              "      <th>Dividends</th>\n",
              "      <th>Stock Splits</th>\n",
              "    </tr>\n",
              "    <tr>\n",
              "      <th>Date</th>\n",
              "      <th></th>\n",
              "      <th></th>\n",
              "      <th></th>\n",
              "      <th></th>\n",
              "      <th></th>\n",
              "      <th></th>\n",
              "      <th></th>\n",
              "    </tr>\n",
              "  </thead>\n",
              "  <tbody>\n",
              "    <tr>\n",
              "      <th>2005-01-03</th>\n",
              "      <td>4.939940</td>\n",
              "      <td>5.096096</td>\n",
              "      <td>4.891391</td>\n",
              "      <td>5.072823</td>\n",
              "      <td>633134232</td>\n",
              "      <td>0</td>\n",
              "      <td>0.0</td>\n",
              "    </tr>\n",
              "    <tr>\n",
              "      <th>2005-01-04</th>\n",
              "      <td>5.040040</td>\n",
              "      <td>5.078328</td>\n",
              "      <td>4.841842</td>\n",
              "      <td>4.867367</td>\n",
              "      <td>549685764</td>\n",
              "      <td>0</td>\n",
              "      <td>0.0</td>\n",
              "    </tr>\n",
              "    <tr>\n",
              "      <th>2005-01-05</th>\n",
              "      <td>4.841091</td>\n",
              "      <td>4.927427</td>\n",
              "      <td>4.810561</td>\n",
              "      <td>4.842593</td>\n",
              "      <td>329134536</td>\n",
              "      <td>0</td>\n",
              "      <td>0.0</td>\n",
              "    </tr>\n",
              "    <tr>\n",
              "      <th>2005-01-06</th>\n",
              "      <td>4.881882</td>\n",
              "      <td>4.902402</td>\n",
              "      <td>4.697698</td>\n",
              "      <td>4.718468</td>\n",
              "      <td>415068516</td>\n",
              "      <td>0</td>\n",
              "      <td>0.0</td>\n",
              "    </tr>\n",
              "    <tr>\n",
              "      <th>2005-01-07</th>\n",
              "      <td>4.770771</td>\n",
              "      <td>4.861111</td>\n",
              "      <td>4.724224</td>\n",
              "      <td>4.851101</td>\n",
              "      <td>386129484</td>\n",
              "      <td>0</td>\n",
              "      <td>0.0</td>\n",
              "    </tr>\n",
              "  </tbody>\n",
              "</table>\n",
              "</div>\n",
              "      <button class=\"colab-df-convert\" onclick=\"convertToInteractive('df-7bf8b50c-d19d-4bce-adbd-35c925ff5451')\"\n",
              "              title=\"Convert this dataframe to an interactive table.\"\n",
              "              style=\"display:none;\">\n",
              "        \n",
              "  <svg xmlns=\"http://www.w3.org/2000/svg\" height=\"24px\"viewBox=\"0 0 24 24\"\n",
              "       width=\"24px\">\n",
              "    <path d=\"M0 0h24v24H0V0z\" fill=\"none\"/>\n",
              "    <path d=\"M18.56 5.44l.94 2.06.94-2.06 2.06-.94-2.06-.94-.94-2.06-.94 2.06-2.06.94zm-11 1L8.5 8.5l.94-2.06 2.06-.94-2.06-.94L8.5 2.5l-.94 2.06-2.06.94zm10 10l.94 2.06.94-2.06 2.06-.94-2.06-.94-.94-2.06-.94 2.06-2.06.94z\"/><path d=\"M17.41 7.96l-1.37-1.37c-.4-.4-.92-.59-1.43-.59-.52 0-1.04.2-1.43.59L10.3 9.45l-7.72 7.72c-.78.78-.78 2.05 0 2.83L4 21.41c.39.39.9.59 1.41.59.51 0 1.02-.2 1.41-.59l7.78-7.78 2.81-2.81c.8-.78.8-2.07 0-2.86zM5.41 20L4 18.59l7.72-7.72 1.47 1.35L5.41 20z\"/>\n",
              "  </svg>\n",
              "      </button>\n",
              "      \n",
              "  <style>\n",
              "    .colab-df-container {\n",
              "      display:flex;\n",
              "      flex-wrap:wrap;\n",
              "      gap: 12px;\n",
              "    }\n",
              "\n",
              "    .colab-df-convert {\n",
              "      background-color: #E8F0FE;\n",
              "      border: none;\n",
              "      border-radius: 50%;\n",
              "      cursor: pointer;\n",
              "      display: none;\n",
              "      fill: #1967D2;\n",
              "      height: 32px;\n",
              "      padding: 0 0 0 0;\n",
              "      width: 32px;\n",
              "    }\n",
              "\n",
              "    .colab-df-convert:hover {\n",
              "      background-color: #E2EBFA;\n",
              "      box-shadow: 0px 1px 2px rgba(60, 64, 67, 0.3), 0px 1px 3px 1px rgba(60, 64, 67, 0.15);\n",
              "      fill: #174EA6;\n",
              "    }\n",
              "\n",
              "    [theme=dark] .colab-df-convert {\n",
              "      background-color: #3B4455;\n",
              "      fill: #D2E3FC;\n",
              "    }\n",
              "\n",
              "    [theme=dark] .colab-df-convert:hover {\n",
              "      background-color: #434B5C;\n",
              "      box-shadow: 0px 1px 3px 1px rgba(0, 0, 0, 0.15);\n",
              "      filter: drop-shadow(0px 1px 2px rgba(0, 0, 0, 0.3));\n",
              "      fill: #FFFFFF;\n",
              "    }\n",
              "  </style>\n",
              "\n",
              "      <script>\n",
              "        const buttonEl =\n",
              "          document.querySelector('#df-7bf8b50c-d19d-4bce-adbd-35c925ff5451 button.colab-df-convert');\n",
              "        buttonEl.style.display =\n",
              "          google.colab.kernel.accessAllowed ? 'block' : 'none';\n",
              "\n",
              "        async function convertToInteractive(key) {\n",
              "          const element = document.querySelector('#df-7bf8b50c-d19d-4bce-adbd-35c925ff5451');\n",
              "          const dataTable =\n",
              "            await google.colab.kernel.invokeFunction('convertToInteractive',\n",
              "                                                     [key], {});\n",
              "          if (!dataTable) return;\n",
              "\n",
              "          const docLinkHtml = 'Like what you see? Visit the ' +\n",
              "            '<a target=\"_blank\" href=https://colab.research.google.com/notebooks/data_table.ipynb>data table notebook</a>'\n",
              "            + ' to learn more about interactive tables.';\n",
              "          element.innerHTML = '';\n",
              "          dataTable['output_type'] = 'display_data';\n",
              "          await google.colab.output.renderOutput(dataTable, element);\n",
              "          const docLink = document.createElement('div');\n",
              "          docLink.innerHTML = docLinkHtml;\n",
              "          element.appendChild(docLink);\n",
              "        }\n",
              "      </script>\n",
              "    </div>\n",
              "  </div>\n",
              "  "
            ]
          },
          "metadata": {},
          "execution_count": 31
        }
      ]
    },
    {
      "cell_type": "code",
      "source": [
        "googleDf.tail()"
      ],
      "metadata": {
        "colab": {
          "base_uri": "https://localhost:8080/",
          "height": 0
        },
        "id": "TFWnMCwM9j5N",
        "outputId": "1f68b0c2-020f-44de-a7e9-60a993f3e026"
      },
      "execution_count": 32,
      "outputs": [
        {
          "output_type": "execute_result",
          "data": {
            "text/plain": [
              "                  Open        High         Low       Close    Volume  \\\n",
              "Date                                                                   \n",
              "2022-05-24  105.772003  106.458504  101.884499  105.970001  76780000   \n",
              "2022-05-25  104.985497  106.500000  103.856499  105.805000  40258000   \n",
              "2022-05-26  105.677002  108.649498  105.224998  107.792503  37948000   \n",
              "2022-05-27  109.483002  112.318001  109.138496  112.316498  37914000   \n",
              "2022-05-31  112.746498  115.735001  112.078499  113.762001  50012000   \n",
              "\n",
              "            Dividends  Stock Splits  \n",
              "Date                                 \n",
              "2022-05-24          0           0.0  \n",
              "2022-05-25          0           0.0  \n",
              "2022-05-26          0           0.0  \n",
              "2022-05-27          0           0.0  \n",
              "2022-05-31          0           0.0  "
            ],
            "text/html": [
              "\n",
              "  <div id=\"df-2175de5d-67bb-4970-a891-69a63f66f163\">\n",
              "    <div class=\"colab-df-container\">\n",
              "      <div>\n",
              "<style scoped>\n",
              "    .dataframe tbody tr th:only-of-type {\n",
              "        vertical-align: middle;\n",
              "    }\n",
              "\n",
              "    .dataframe tbody tr th {\n",
              "        vertical-align: top;\n",
              "    }\n",
              "\n",
              "    .dataframe thead th {\n",
              "        text-align: right;\n",
              "    }\n",
              "</style>\n",
              "<table border=\"1\" class=\"dataframe\">\n",
              "  <thead>\n",
              "    <tr style=\"text-align: right;\">\n",
              "      <th></th>\n",
              "      <th>Open</th>\n",
              "      <th>High</th>\n",
              "      <th>Low</th>\n",
              "      <th>Close</th>\n",
              "      <th>Volume</th>\n",
              "      <th>Dividends</th>\n",
              "      <th>Stock Splits</th>\n",
              "    </tr>\n",
              "    <tr>\n",
              "      <th>Date</th>\n",
              "      <th></th>\n",
              "      <th></th>\n",
              "      <th></th>\n",
              "      <th></th>\n",
              "      <th></th>\n",
              "      <th></th>\n",
              "      <th></th>\n",
              "    </tr>\n",
              "  </thead>\n",
              "  <tbody>\n",
              "    <tr>\n",
              "      <th>2022-05-24</th>\n",
              "      <td>105.772003</td>\n",
              "      <td>106.458504</td>\n",
              "      <td>101.884499</td>\n",
              "      <td>105.970001</td>\n",
              "      <td>76780000</td>\n",
              "      <td>0</td>\n",
              "      <td>0.0</td>\n",
              "    </tr>\n",
              "    <tr>\n",
              "      <th>2022-05-25</th>\n",
              "      <td>104.985497</td>\n",
              "      <td>106.500000</td>\n",
              "      <td>103.856499</td>\n",
              "      <td>105.805000</td>\n",
              "      <td>40258000</td>\n",
              "      <td>0</td>\n",
              "      <td>0.0</td>\n",
              "    </tr>\n",
              "    <tr>\n",
              "      <th>2022-05-26</th>\n",
              "      <td>105.677002</td>\n",
              "      <td>108.649498</td>\n",
              "      <td>105.224998</td>\n",
              "      <td>107.792503</td>\n",
              "      <td>37948000</td>\n",
              "      <td>0</td>\n",
              "      <td>0.0</td>\n",
              "    </tr>\n",
              "    <tr>\n",
              "      <th>2022-05-27</th>\n",
              "      <td>109.483002</td>\n",
              "      <td>112.318001</td>\n",
              "      <td>109.138496</td>\n",
              "      <td>112.316498</td>\n",
              "      <td>37914000</td>\n",
              "      <td>0</td>\n",
              "      <td>0.0</td>\n",
              "    </tr>\n",
              "    <tr>\n",
              "      <th>2022-05-31</th>\n",
              "      <td>112.746498</td>\n",
              "      <td>115.735001</td>\n",
              "      <td>112.078499</td>\n",
              "      <td>113.762001</td>\n",
              "      <td>50012000</td>\n",
              "      <td>0</td>\n",
              "      <td>0.0</td>\n",
              "    </tr>\n",
              "  </tbody>\n",
              "</table>\n",
              "</div>\n",
              "      <button class=\"colab-df-convert\" onclick=\"convertToInteractive('df-2175de5d-67bb-4970-a891-69a63f66f163')\"\n",
              "              title=\"Convert this dataframe to an interactive table.\"\n",
              "              style=\"display:none;\">\n",
              "        \n",
              "  <svg xmlns=\"http://www.w3.org/2000/svg\" height=\"24px\"viewBox=\"0 0 24 24\"\n",
              "       width=\"24px\">\n",
              "    <path d=\"M0 0h24v24H0V0z\" fill=\"none\"/>\n",
              "    <path d=\"M18.56 5.44l.94 2.06.94-2.06 2.06-.94-2.06-.94-.94-2.06-.94 2.06-2.06.94zm-11 1L8.5 8.5l.94-2.06 2.06-.94-2.06-.94L8.5 2.5l-.94 2.06-2.06.94zm10 10l.94 2.06.94-2.06 2.06-.94-2.06-.94-.94-2.06-.94 2.06-2.06.94z\"/><path d=\"M17.41 7.96l-1.37-1.37c-.4-.4-.92-.59-1.43-.59-.52 0-1.04.2-1.43.59L10.3 9.45l-7.72 7.72c-.78.78-.78 2.05 0 2.83L4 21.41c.39.39.9.59 1.41.59.51 0 1.02-.2 1.41-.59l7.78-7.78 2.81-2.81c.8-.78.8-2.07 0-2.86zM5.41 20L4 18.59l7.72-7.72 1.47 1.35L5.41 20z\"/>\n",
              "  </svg>\n",
              "      </button>\n",
              "      \n",
              "  <style>\n",
              "    .colab-df-container {\n",
              "      display:flex;\n",
              "      flex-wrap:wrap;\n",
              "      gap: 12px;\n",
              "    }\n",
              "\n",
              "    .colab-df-convert {\n",
              "      background-color: #E8F0FE;\n",
              "      border: none;\n",
              "      border-radius: 50%;\n",
              "      cursor: pointer;\n",
              "      display: none;\n",
              "      fill: #1967D2;\n",
              "      height: 32px;\n",
              "      padding: 0 0 0 0;\n",
              "      width: 32px;\n",
              "    }\n",
              "\n",
              "    .colab-df-convert:hover {\n",
              "      background-color: #E2EBFA;\n",
              "      box-shadow: 0px 1px 2px rgba(60, 64, 67, 0.3), 0px 1px 3px 1px rgba(60, 64, 67, 0.15);\n",
              "      fill: #174EA6;\n",
              "    }\n",
              "\n",
              "    [theme=dark] .colab-df-convert {\n",
              "      background-color: #3B4455;\n",
              "      fill: #D2E3FC;\n",
              "    }\n",
              "\n",
              "    [theme=dark] .colab-df-convert:hover {\n",
              "      background-color: #434B5C;\n",
              "      box-shadow: 0px 1px 3px 1px rgba(0, 0, 0, 0.15);\n",
              "      filter: drop-shadow(0px 1px 2px rgba(0, 0, 0, 0.3));\n",
              "      fill: #FFFFFF;\n",
              "    }\n",
              "  </style>\n",
              "\n",
              "      <script>\n",
              "        const buttonEl =\n",
              "          document.querySelector('#df-2175de5d-67bb-4970-a891-69a63f66f163 button.colab-df-convert');\n",
              "        buttonEl.style.display =\n",
              "          google.colab.kernel.accessAllowed ? 'block' : 'none';\n",
              "\n",
              "        async function convertToInteractive(key) {\n",
              "          const element = document.querySelector('#df-2175de5d-67bb-4970-a891-69a63f66f163');\n",
              "          const dataTable =\n",
              "            await google.colab.kernel.invokeFunction('convertToInteractive',\n",
              "                                                     [key], {});\n",
              "          if (!dataTable) return;\n",
              "\n",
              "          const docLinkHtml = 'Like what you see? Visit the ' +\n",
              "            '<a target=\"_blank\" href=https://colab.research.google.com/notebooks/data_table.ipynb>data table notebook</a>'\n",
              "            + ' to learn more about interactive tables.';\n",
              "          element.innerHTML = '';\n",
              "          dataTable['output_type'] = 'display_data';\n",
              "          await google.colab.output.renderOutput(dataTable, element);\n",
              "          const docLink = document.createElement('div');\n",
              "          docLink.innerHTML = docLinkHtml;\n",
              "          element.appendChild(docLink);\n",
              "        }\n",
              "      </script>\n",
              "    </div>\n",
              "  </div>\n",
              "  "
            ]
          },
          "metadata": {},
          "execution_count": 32
        }
      ]
    },
    {
      "cell_type": "code",
      "source": [
        "#Merging the S&P 500 closing price with the google stock data\n",
        "model_2_df=pd.merge(spClosingPrice,googleDf[['Open','High','Low','Close']],on='Date')\n",
        "model_2_df.head()"
      ],
      "metadata": {
        "colab": {
          "base_uri": "https://localhost:8080/",
          "height": 0
        },
        "id": "ueFOMKKH80en",
        "outputId": "16e8776a-86f2-4146-f6f9-f78f5b4aa067"
      },
      "execution_count": 33,
      "outputs": [
        {
          "output_type": "execute_result",
          "data": {
            "text/plain": [
              "                  SP500      Open      High       Low     Close\n",
              "Date                                                           \n",
              "2005-01-03  1202.079956  4.939940  5.096096  4.891391  5.072823\n",
              "2005-01-04  1188.050049  5.040040  5.078328  4.841842  4.867367\n",
              "2005-01-05  1183.739990  4.841091  4.927427  4.810561  4.842593\n",
              "2005-01-06  1187.890015  4.881882  4.902402  4.697698  4.718468\n",
              "2005-01-07  1186.189941  4.770771  4.861111  4.724224  4.851101"
            ],
            "text/html": [
              "\n",
              "  <div id=\"df-6ec1d4de-3e73-4a2a-9c18-4962531d7286\">\n",
              "    <div class=\"colab-df-container\">\n",
              "      <div>\n",
              "<style scoped>\n",
              "    .dataframe tbody tr th:only-of-type {\n",
              "        vertical-align: middle;\n",
              "    }\n",
              "\n",
              "    .dataframe tbody tr th {\n",
              "        vertical-align: top;\n",
              "    }\n",
              "\n",
              "    .dataframe thead th {\n",
              "        text-align: right;\n",
              "    }\n",
              "</style>\n",
              "<table border=\"1\" class=\"dataframe\">\n",
              "  <thead>\n",
              "    <tr style=\"text-align: right;\">\n",
              "      <th></th>\n",
              "      <th>SP500</th>\n",
              "      <th>Open</th>\n",
              "      <th>High</th>\n",
              "      <th>Low</th>\n",
              "      <th>Close</th>\n",
              "    </tr>\n",
              "    <tr>\n",
              "      <th>Date</th>\n",
              "      <th></th>\n",
              "      <th></th>\n",
              "      <th></th>\n",
              "      <th></th>\n",
              "      <th></th>\n",
              "    </tr>\n",
              "  </thead>\n",
              "  <tbody>\n",
              "    <tr>\n",
              "      <th>2005-01-03</th>\n",
              "      <td>1202.079956</td>\n",
              "      <td>4.939940</td>\n",
              "      <td>5.096096</td>\n",
              "      <td>4.891391</td>\n",
              "      <td>5.072823</td>\n",
              "    </tr>\n",
              "    <tr>\n",
              "      <th>2005-01-04</th>\n",
              "      <td>1188.050049</td>\n",
              "      <td>5.040040</td>\n",
              "      <td>5.078328</td>\n",
              "      <td>4.841842</td>\n",
              "      <td>4.867367</td>\n",
              "    </tr>\n",
              "    <tr>\n",
              "      <th>2005-01-05</th>\n",
              "      <td>1183.739990</td>\n",
              "      <td>4.841091</td>\n",
              "      <td>4.927427</td>\n",
              "      <td>4.810561</td>\n",
              "      <td>4.842593</td>\n",
              "    </tr>\n",
              "    <tr>\n",
              "      <th>2005-01-06</th>\n",
              "      <td>1187.890015</td>\n",
              "      <td>4.881882</td>\n",
              "      <td>4.902402</td>\n",
              "      <td>4.697698</td>\n",
              "      <td>4.718468</td>\n",
              "    </tr>\n",
              "    <tr>\n",
              "      <th>2005-01-07</th>\n",
              "      <td>1186.189941</td>\n",
              "      <td>4.770771</td>\n",
              "      <td>4.861111</td>\n",
              "      <td>4.724224</td>\n",
              "      <td>4.851101</td>\n",
              "    </tr>\n",
              "  </tbody>\n",
              "</table>\n",
              "</div>\n",
              "      <button class=\"colab-df-convert\" onclick=\"convertToInteractive('df-6ec1d4de-3e73-4a2a-9c18-4962531d7286')\"\n",
              "              title=\"Convert this dataframe to an interactive table.\"\n",
              "              style=\"display:none;\">\n",
              "        \n",
              "  <svg xmlns=\"http://www.w3.org/2000/svg\" height=\"24px\"viewBox=\"0 0 24 24\"\n",
              "       width=\"24px\">\n",
              "    <path d=\"M0 0h24v24H0V0z\" fill=\"none\"/>\n",
              "    <path d=\"M18.56 5.44l.94 2.06.94-2.06 2.06-.94-2.06-.94-.94-2.06-.94 2.06-2.06.94zm-11 1L8.5 8.5l.94-2.06 2.06-.94-2.06-.94L8.5 2.5l-.94 2.06-2.06.94zm10 10l.94 2.06.94-2.06 2.06-.94-2.06-.94-.94-2.06-.94 2.06-2.06.94z\"/><path d=\"M17.41 7.96l-1.37-1.37c-.4-.4-.92-.59-1.43-.59-.52 0-1.04.2-1.43.59L10.3 9.45l-7.72 7.72c-.78.78-.78 2.05 0 2.83L4 21.41c.39.39.9.59 1.41.59.51 0 1.02-.2 1.41-.59l7.78-7.78 2.81-2.81c.8-.78.8-2.07 0-2.86zM5.41 20L4 18.59l7.72-7.72 1.47 1.35L5.41 20z\"/>\n",
              "  </svg>\n",
              "      </button>\n",
              "      \n",
              "  <style>\n",
              "    .colab-df-container {\n",
              "      display:flex;\n",
              "      flex-wrap:wrap;\n",
              "      gap: 12px;\n",
              "    }\n",
              "\n",
              "    .colab-df-convert {\n",
              "      background-color: #E8F0FE;\n",
              "      border: none;\n",
              "      border-radius: 50%;\n",
              "      cursor: pointer;\n",
              "      display: none;\n",
              "      fill: #1967D2;\n",
              "      height: 32px;\n",
              "      padding: 0 0 0 0;\n",
              "      width: 32px;\n",
              "    }\n",
              "\n",
              "    .colab-df-convert:hover {\n",
              "      background-color: #E2EBFA;\n",
              "      box-shadow: 0px 1px 2px rgba(60, 64, 67, 0.3), 0px 1px 3px 1px rgba(60, 64, 67, 0.15);\n",
              "      fill: #174EA6;\n",
              "    }\n",
              "\n",
              "    [theme=dark] .colab-df-convert {\n",
              "      background-color: #3B4455;\n",
              "      fill: #D2E3FC;\n",
              "    }\n",
              "\n",
              "    [theme=dark] .colab-df-convert:hover {\n",
              "      background-color: #434B5C;\n",
              "      box-shadow: 0px 1px 3px 1px rgba(0, 0, 0, 0.15);\n",
              "      filter: drop-shadow(0px 1px 2px rgba(0, 0, 0, 0.3));\n",
              "      fill: #FFFFFF;\n",
              "    }\n",
              "  </style>\n",
              "\n",
              "      <script>\n",
              "        const buttonEl =\n",
              "          document.querySelector('#df-6ec1d4de-3e73-4a2a-9c18-4962531d7286 button.colab-df-convert');\n",
              "        buttonEl.style.display =\n",
              "          google.colab.kernel.accessAllowed ? 'block' : 'none';\n",
              "\n",
              "        async function convertToInteractive(key) {\n",
              "          const element = document.querySelector('#df-6ec1d4de-3e73-4a2a-9c18-4962531d7286');\n",
              "          const dataTable =\n",
              "            await google.colab.kernel.invokeFunction('convertToInteractive',\n",
              "                                                     [key], {});\n",
              "          if (!dataTable) return;\n",
              "\n",
              "          const docLinkHtml = 'Like what you see? Visit the ' +\n",
              "            '<a target=\"_blank\" href=https://colab.research.google.com/notebooks/data_table.ipynb>data table notebook</a>'\n",
              "            + ' to learn more about interactive tables.';\n",
              "          element.innerHTML = '';\n",
              "          dataTable['output_type'] = 'display_data';\n",
              "          await google.colab.output.renderOutput(dataTable, element);\n",
              "          const docLink = document.createElement('div');\n",
              "          docLink.innerHTML = docLinkHtml;\n",
              "          element.appendChild(docLink);\n",
              "        }\n",
              "      </script>\n",
              "    </div>\n",
              "  </div>\n",
              "  "
            ]
          },
          "metadata": {},
          "execution_count": 33
        }
      ]
    },
    {
      "cell_type": "code",
      "source": [
        "model_2_df.tail()"
      ],
      "metadata": {
        "colab": {
          "base_uri": "https://localhost:8080/",
          "height": 0
        },
        "id": "WWoEVzMA9fKu",
        "outputId": "eca84f20-748e-4d24-9c7c-4e2912ee34b0"
      },
      "execution_count": 34,
      "outputs": [
        {
          "output_type": "execute_result",
          "data": {
            "text/plain": [
              "                  SP500        Open        High         Low       Close\n",
              "Date                                                                   \n",
              "2022-05-24  3941.479980  105.772003  106.458504  101.884499  105.970001\n",
              "2022-05-25  3978.729980  104.985497  106.500000  103.856499  105.805000\n",
              "2022-05-26  4057.840088  105.677002  108.649498  105.224998  107.792503\n",
              "2022-05-27  4158.240234  109.483002  112.318001  109.138496  112.316498\n",
              "2022-05-31  4132.149902  112.746498  115.735001  112.078499  113.762001"
            ],
            "text/html": [
              "\n",
              "  <div id=\"df-90a1da0e-c9f6-44c9-bd63-0eb47b3604e7\">\n",
              "    <div class=\"colab-df-container\">\n",
              "      <div>\n",
              "<style scoped>\n",
              "    .dataframe tbody tr th:only-of-type {\n",
              "        vertical-align: middle;\n",
              "    }\n",
              "\n",
              "    .dataframe tbody tr th {\n",
              "        vertical-align: top;\n",
              "    }\n",
              "\n",
              "    .dataframe thead th {\n",
              "        text-align: right;\n",
              "    }\n",
              "</style>\n",
              "<table border=\"1\" class=\"dataframe\">\n",
              "  <thead>\n",
              "    <tr style=\"text-align: right;\">\n",
              "      <th></th>\n",
              "      <th>SP500</th>\n",
              "      <th>Open</th>\n",
              "      <th>High</th>\n",
              "      <th>Low</th>\n",
              "      <th>Close</th>\n",
              "    </tr>\n",
              "    <tr>\n",
              "      <th>Date</th>\n",
              "      <th></th>\n",
              "      <th></th>\n",
              "      <th></th>\n",
              "      <th></th>\n",
              "      <th></th>\n",
              "    </tr>\n",
              "  </thead>\n",
              "  <tbody>\n",
              "    <tr>\n",
              "      <th>2022-05-24</th>\n",
              "      <td>3941.479980</td>\n",
              "      <td>105.772003</td>\n",
              "      <td>106.458504</td>\n",
              "      <td>101.884499</td>\n",
              "      <td>105.970001</td>\n",
              "    </tr>\n",
              "    <tr>\n",
              "      <th>2022-05-25</th>\n",
              "      <td>3978.729980</td>\n",
              "      <td>104.985497</td>\n",
              "      <td>106.500000</td>\n",
              "      <td>103.856499</td>\n",
              "      <td>105.805000</td>\n",
              "    </tr>\n",
              "    <tr>\n",
              "      <th>2022-05-26</th>\n",
              "      <td>4057.840088</td>\n",
              "      <td>105.677002</td>\n",
              "      <td>108.649498</td>\n",
              "      <td>105.224998</td>\n",
              "      <td>107.792503</td>\n",
              "    </tr>\n",
              "    <tr>\n",
              "      <th>2022-05-27</th>\n",
              "      <td>4158.240234</td>\n",
              "      <td>109.483002</td>\n",
              "      <td>112.318001</td>\n",
              "      <td>109.138496</td>\n",
              "      <td>112.316498</td>\n",
              "    </tr>\n",
              "    <tr>\n",
              "      <th>2022-05-31</th>\n",
              "      <td>4132.149902</td>\n",
              "      <td>112.746498</td>\n",
              "      <td>115.735001</td>\n",
              "      <td>112.078499</td>\n",
              "      <td>113.762001</td>\n",
              "    </tr>\n",
              "  </tbody>\n",
              "</table>\n",
              "</div>\n",
              "      <button class=\"colab-df-convert\" onclick=\"convertToInteractive('df-90a1da0e-c9f6-44c9-bd63-0eb47b3604e7')\"\n",
              "              title=\"Convert this dataframe to an interactive table.\"\n",
              "              style=\"display:none;\">\n",
              "        \n",
              "  <svg xmlns=\"http://www.w3.org/2000/svg\" height=\"24px\"viewBox=\"0 0 24 24\"\n",
              "       width=\"24px\">\n",
              "    <path d=\"M0 0h24v24H0V0z\" fill=\"none\"/>\n",
              "    <path d=\"M18.56 5.44l.94 2.06.94-2.06 2.06-.94-2.06-.94-.94-2.06-.94 2.06-2.06.94zm-11 1L8.5 8.5l.94-2.06 2.06-.94-2.06-.94L8.5 2.5l-.94 2.06-2.06.94zm10 10l.94 2.06.94-2.06 2.06-.94-2.06-.94-.94-2.06-.94 2.06-2.06.94z\"/><path d=\"M17.41 7.96l-1.37-1.37c-.4-.4-.92-.59-1.43-.59-.52 0-1.04.2-1.43.59L10.3 9.45l-7.72 7.72c-.78.78-.78 2.05 0 2.83L4 21.41c.39.39.9.59 1.41.59.51 0 1.02-.2 1.41-.59l7.78-7.78 2.81-2.81c.8-.78.8-2.07 0-2.86zM5.41 20L4 18.59l7.72-7.72 1.47 1.35L5.41 20z\"/>\n",
              "  </svg>\n",
              "      </button>\n",
              "      \n",
              "  <style>\n",
              "    .colab-df-container {\n",
              "      display:flex;\n",
              "      flex-wrap:wrap;\n",
              "      gap: 12px;\n",
              "    }\n",
              "\n",
              "    .colab-df-convert {\n",
              "      background-color: #E8F0FE;\n",
              "      border: none;\n",
              "      border-radius: 50%;\n",
              "      cursor: pointer;\n",
              "      display: none;\n",
              "      fill: #1967D2;\n",
              "      height: 32px;\n",
              "      padding: 0 0 0 0;\n",
              "      width: 32px;\n",
              "    }\n",
              "\n",
              "    .colab-df-convert:hover {\n",
              "      background-color: #E2EBFA;\n",
              "      box-shadow: 0px 1px 2px rgba(60, 64, 67, 0.3), 0px 1px 3px 1px rgba(60, 64, 67, 0.15);\n",
              "      fill: #174EA6;\n",
              "    }\n",
              "\n",
              "    [theme=dark] .colab-df-convert {\n",
              "      background-color: #3B4455;\n",
              "      fill: #D2E3FC;\n",
              "    }\n",
              "\n",
              "    [theme=dark] .colab-df-convert:hover {\n",
              "      background-color: #434B5C;\n",
              "      box-shadow: 0px 1px 3px 1px rgba(0, 0, 0, 0.15);\n",
              "      filter: drop-shadow(0px 1px 2px rgba(0, 0, 0, 0.3));\n",
              "      fill: #FFFFFF;\n",
              "    }\n",
              "  </style>\n",
              "\n",
              "      <script>\n",
              "        const buttonEl =\n",
              "          document.querySelector('#df-90a1da0e-c9f6-44c9-bd63-0eb47b3604e7 button.colab-df-convert');\n",
              "        buttonEl.style.display =\n",
              "          google.colab.kernel.accessAllowed ? 'block' : 'none';\n",
              "\n",
              "        async function convertToInteractive(key) {\n",
              "          const element = document.querySelector('#df-90a1da0e-c9f6-44c9-bd63-0eb47b3604e7');\n",
              "          const dataTable =\n",
              "            await google.colab.kernel.invokeFunction('convertToInteractive',\n",
              "                                                     [key], {});\n",
              "          if (!dataTable) return;\n",
              "\n",
              "          const docLinkHtml = 'Like what you see? Visit the ' +\n",
              "            '<a target=\"_blank\" href=https://colab.research.google.com/notebooks/data_table.ipynb>data table notebook</a>'\n",
              "            + ' to learn more about interactive tables.';\n",
              "          element.innerHTML = '';\n",
              "          dataTable['output_type'] = 'display_data';\n",
              "          await google.colab.output.renderOutput(dataTable, element);\n",
              "          const docLink = document.createElement('div');\n",
              "          docLink.innerHTML = docLinkHtml;\n",
              "          element.appendChild(docLink);\n",
              "        }\n",
              "      </script>\n",
              "    </div>\n",
              "  </div>\n",
              "  "
            ]
          },
          "metadata": {},
          "execution_count": 34
        }
      ]
    },
    {
      "cell_type": "markdown",
      "source": [
        "## Building model 2"
      ],
      "metadata": {
        "id": "RNLk3kAE90gs"
      }
    },
    {
      "cell_type": "code",
      "source": [
        "train_windows, train_labels, test_windows,test_labels=make_windows(model_2_df)"
      ],
      "metadata": {
        "id": "N2MKNPT094ta"
      },
      "execution_count": 81,
      "outputs": []
    },
    {
      "cell_type": "code",
      "source": [
        "model_2=Sequential()\n",
        "model_2.add(LSTM(128, activation='relu', input_shape=(train_windows.shape[1], train_windows.shape[2])))\n",
        "model_2.add(Dense(test_labels.shape[1]))\n",
        "model_2.compile(optimizer='adam', loss='mse')"
      ],
      "metadata": {
        "colab": {
          "base_uri": "https://localhost:8080/"
        },
        "id": "tTPvE_o_-A8O",
        "outputId": "f6110e52-b8e1-476a-903e-6c2254a2a0f5"
      },
      "execution_count": 36,
      "outputs": [
        {
          "output_type": "stream",
          "name": "stderr",
          "text": [
            "WARNING:tensorflow:Layer lstm_1 will not use cuDNN kernels since it doesn't meet the criteria. It will use a generic GPU kernel as fallback when running on GPU.\n"
          ]
        }
      ]
    },
    {
      "cell_type": "code",
      "source": [
        "model_2.fit(train_windows,\n",
        "            train_labels,\n",
        "            epochs=100,\n",
        "            verbose=1,\n",
        "            batch_size=128,\n",
        "            validation_data=(test_windows, test_labels),\n",
        "            callbacks=[create_model_checkpoint(model_name=\"model_2\")])"
      ],
      "metadata": {
        "colab": {
          "base_uri": "https://localhost:8080/"
        },
        "id": "65IztKCi-gRf",
        "outputId": "ea7f7c10-bdbc-478d-e865-122b3b166ef4"
      },
      "execution_count": 37,
      "outputs": [
        {
          "output_type": "stream",
          "name": "stdout",
          "text": [
            "Epoch 1/100\n",
            "27/27 [==============================] - ETA: 0s - loss: 0.0489"
          ]
        },
        {
          "output_type": "stream",
          "name": "stderr",
          "text": [
            "WARNING:absl:<keras.layers.recurrent.LSTMCell object at 0x7fcc6731dd10> has the same name 'LSTMCell' as a built-in Keras object. Consider renaming <class 'keras.layers.recurrent.LSTMCell'> to avoid naming conflicts when loading with `tf.keras.models.load_model`. If renaming is not possible, pass the object in the `custom_objects` parameter of the load function.\n"
          ]
        },
        {
          "output_type": "stream",
          "name": "stdout",
          "text": [
            "\b\b\b\b\b\b\b\b\b\b\b\b\b\b\b\b\b\b\b\b\b\b\b\b\b\b\b\b\b\b\b\b\b\b\b\b\b\b\b\b\b\b\b\b\b\b\b\b\b\b\b\b\b\b\b\b\b\b\b\b\b\b\b\r27/27 [==============================] - 5s 161ms/step - loss: 0.0489 - val_loss: 0.1387\n",
            "Epoch 2/100\n",
            "27/27 [==============================] - 3s 103ms/step - loss: 0.0011 - val_loss: 0.6639\n",
            "Epoch 3/100\n",
            "27/27 [==============================] - 3s 102ms/step - loss: 4.4954e-04 - val_loss: 0.7254\n",
            "Epoch 4/100\n",
            "27/27 [==============================] - 2s 91ms/step - loss: 3.9544e-04 - val_loss: 0.8740\n",
            "Epoch 5/100\n",
            "27/27 [==============================] - 2s 92ms/step - loss: 3.7991e-04 - val_loss: 0.3023\n",
            "Epoch 6/100\n",
            "27/27 [==============================] - ETA: 0s - loss: 3.7309e-04"
          ]
        },
        {
          "output_type": "stream",
          "name": "stderr",
          "text": [
            "WARNING:absl:<keras.layers.recurrent.LSTMCell object at 0x7fcc6731dd10> has the same name 'LSTMCell' as a built-in Keras object. Consider renaming <class 'keras.layers.recurrent.LSTMCell'> to avoid naming conflicts when loading with `tf.keras.models.load_model`. If renaming is not possible, pass the object in the `custom_objects` parameter of the load function.\n"
          ]
        },
        {
          "output_type": "stream",
          "name": "stdout",
          "text": [
            "\b\b\b\b\b\b\b\b\b\b\b\b\b\b\b\b\b\b\b\b\b\b\b\b\b\b\b\b\b\b\b\b\b\b\b\b\b\b\b\b\b\b\b\b\b\b\b\b\b\b\b\b\b\b\b\b\b\b\b\b\b\b\b\b\b\b\b\r27/27 [==============================] - 4s 143ms/step - loss: 3.7309e-04 - val_loss: 0.1162\n",
            "Epoch 7/100\n",
            "27/27 [==============================] - ETA: 0s - loss: 3.6571e-04"
          ]
        },
        {
          "output_type": "stream",
          "name": "stderr",
          "text": [
            "WARNING:absl:<keras.layers.recurrent.LSTMCell object at 0x7fcc6731dd10> has the same name 'LSTMCell' as a built-in Keras object. Consider renaming <class 'keras.layers.recurrent.LSTMCell'> to avoid naming conflicts when loading with `tf.keras.models.load_model`. If renaming is not possible, pass the object in the `custom_objects` parameter of the load function.\n"
          ]
        },
        {
          "output_type": "stream",
          "name": "stdout",
          "text": [
            "\b\b\b\b\b\b\b\b\b\b\b\b\b\b\b\b\b\b\b\b\b\b\b\b\b\b\b\b\b\b\b\b\b\b\b\b\b\b\b\b\b\b\b\b\b\b\b\b\b\b\b\b\b\b\b\b\b\b\b\b\b\b\b\b\b\b\b\r27/27 [==============================] - 4s 143ms/step - loss: 3.6571e-04 - val_loss: 0.0550\n",
            "Epoch 8/100\n",
            "27/27 [==============================] - ETA: 0s - loss: 3.5680e-04"
          ]
        },
        {
          "output_type": "stream",
          "name": "stderr",
          "text": [
            "WARNING:absl:<keras.layers.recurrent.LSTMCell object at 0x7fcc6731dd10> has the same name 'LSTMCell' as a built-in Keras object. Consider renaming <class 'keras.layers.recurrent.LSTMCell'> to avoid naming conflicts when loading with `tf.keras.models.load_model`. If renaming is not possible, pass the object in the `custom_objects` parameter of the load function.\n"
          ]
        },
        {
          "output_type": "stream",
          "name": "stdout",
          "text": [
            "\b\b\b\b\b\b\b\b\b\b\b\b\b\b\b\b\b\b\b\b\b\b\b\b\b\b\b\b\b\b\b\b\b\b\b\b\b\b\b\b\b\b\b\b\b\b\b\b\b\b\b\b\b\b\b\b\b\b\b\b\b\b\b\b\b\b\b\r27/27 [==============================] - 4s 144ms/step - loss: 3.5680e-04 - val_loss: 0.0225\n",
            "Epoch 9/100\n",
            "27/27 [==============================] - 2s 92ms/step - loss: 3.5735e-04 - val_loss: 0.0724\n",
            "Epoch 10/100\n",
            "27/27 [==============================] - 2s 92ms/step - loss: 3.4443e-04 - val_loss: 0.1480\n",
            "Epoch 11/100\n",
            "27/27 [==============================] - 2s 93ms/step - loss: 3.3230e-04 - val_loss: 0.8157\n",
            "Epoch 12/100\n",
            "27/27 [==============================] - 2s 92ms/step - loss: 3.2467e-04 - val_loss: 945.2550\n",
            "Epoch 13/100\n",
            "27/27 [==============================] - 2s 92ms/step - loss: 3.3185e-04 - val_loss: 13810.8242\n",
            "Epoch 14/100\n",
            "27/27 [==============================] - 2s 92ms/step - loss: 3.2414e-04 - val_loss: 432.2992\n",
            "Epoch 15/100\n",
            "27/27 [==============================] - 2s 93ms/step - loss: 3.2360e-04 - val_loss: 4456.0679\n",
            "Epoch 16/100\n",
            "27/27 [==============================] - 2s 93ms/step - loss: 3.0331e-04 - val_loss: 58531.3672\n",
            "Epoch 17/100\n",
            "27/27 [==============================] - 2s 92ms/step - loss: 3.1701e-04 - val_loss: 1156.4868\n",
            "Epoch 18/100\n",
            "27/27 [==============================] - 3s 94ms/step - loss: 3.1991e-04 - val_loss: 0.0387\n",
            "Epoch 19/100\n",
            "27/27 [==============================] - 2s 92ms/step - loss: 3.1577e-04 - val_loss: 0.1123\n",
            "Epoch 20/100\n",
            "27/27 [==============================] - 2s 91ms/step - loss: 2.9163e-04 - val_loss: 0.2942\n",
            "Epoch 21/100\n",
            "27/27 [==============================] - 2s 91ms/step - loss: 2.9659e-04 - val_loss: 60.8352\n",
            "Epoch 22/100\n",
            "27/27 [==============================] - 2s 91ms/step - loss: 3.0353e-04 - val_loss: 0.2890\n",
            "Epoch 23/100\n",
            "27/27 [==============================] - 2s 91ms/step - loss: 2.9196e-04 - val_loss: 0.1912\n",
            "Epoch 24/100\n",
            "27/27 [==============================] - 2s 91ms/step - loss: 2.9771e-04 - val_loss: 0.2404\n",
            "Epoch 25/100\n",
            "27/27 [==============================] - 2s 91ms/step - loss: 3.0190e-04 - val_loss: 0.2664\n",
            "Epoch 26/100\n",
            "27/27 [==============================] - 2s 92ms/step - loss: 2.9195e-04 - val_loss: 0.3448\n",
            "Epoch 27/100\n",
            "27/27 [==============================] - 2s 91ms/step - loss: 2.6818e-04 - val_loss: 0.5801\n",
            "Epoch 28/100\n",
            "27/27 [==============================] - 2s 90ms/step - loss: 2.9758e-04 - val_loss: 0.3429\n",
            "Epoch 29/100\n",
            "27/27 [==============================] - 2s 91ms/step - loss: 2.7996e-04 - val_loss: 0.0595\n",
            "Epoch 30/100\n",
            "27/27 [==============================] - 2s 90ms/step - loss: 2.7487e-04 - val_loss: 0.0712\n",
            "Epoch 31/100\n",
            "27/27 [==============================] - 2s 92ms/step - loss: 2.6303e-04 - val_loss: 0.2332\n",
            "Epoch 32/100\n",
            "27/27 [==============================] - 2s 91ms/step - loss: 2.5042e-04 - val_loss: 0.6729\n",
            "Epoch 33/100\n",
            "27/27 [==============================] - 2s 91ms/step - loss: 2.8045e-04 - val_loss: 0.0406\n",
            "Epoch 34/100\n",
            "27/27 [==============================] - 2s 91ms/step - loss: 2.6413e-04 - val_loss: 0.0420\n",
            "Epoch 35/100\n",
            "27/27 [==============================] - 2s 91ms/step - loss: 2.5117e-04 - val_loss: 0.1926\n",
            "Epoch 36/100\n",
            "27/27 [==============================] - 2s 92ms/step - loss: 2.4629e-04 - val_loss: 0.3755\n",
            "Epoch 37/100\n",
            "27/27 [==============================] - 2s 90ms/step - loss: 2.4513e-04 - val_loss: 0.2285\n",
            "Epoch 38/100\n",
            "27/27 [==============================] - 3s 93ms/step - loss: 2.3639e-04 - val_loss: 0.1494\n",
            "Epoch 39/100\n",
            "27/27 [==============================] - 2s 91ms/step - loss: 2.4274e-04 - val_loss: 0.0508\n",
            "Epoch 40/100\n",
            "27/27 [==============================] - 2s 90ms/step - loss: 2.3033e-04 - val_loss: 0.0624\n",
            "Epoch 41/100\n",
            "27/27 [==============================] - 2s 91ms/step - loss: 2.3749e-04 - val_loss: 0.1914\n",
            "Epoch 42/100\n",
            "27/27 [==============================] - 2s 92ms/step - loss: 2.3141e-04 - val_loss: 0.0820\n",
            "Epoch 43/100\n",
            "27/27 [==============================] - 3s 94ms/step - loss: 2.6132e-04 - val_loss: 0.0619\n",
            "Epoch 44/100\n",
            "27/27 [==============================] - 3s 94ms/step - loss: 2.3890e-04 - val_loss: 0.0385\n",
            "Epoch 45/100\n",
            "27/27 [==============================] - 3s 93ms/step - loss: 2.1910e-04 - val_loss: 0.0914\n",
            "Epoch 46/100\n",
            "27/27 [==============================] - 3s 94ms/step - loss: 2.1993e-04 - val_loss: 0.0663\n",
            "Epoch 47/100\n",
            "27/27 [==============================] - 3s 93ms/step - loss: 2.5529e-04 - val_loss: 0.0307\n",
            "Epoch 48/100\n",
            "27/27 [==============================] - 2s 91ms/step - loss: 2.4591e-04 - val_loss: 0.0228\n",
            "Epoch 49/100\n",
            "27/27 [==============================] - 2s 89ms/step - loss: 2.3491e-04 - val_loss: 0.0435\n",
            "Epoch 50/100\n",
            "27/27 [==============================] - 2s 90ms/step - loss: 2.2325e-04 - val_loss: 0.0444\n",
            "Epoch 51/100\n",
            "27/27 [==============================] - 3s 98ms/step - loss: 2.4834e-04 - val_loss: 0.0610\n",
            "Epoch 52/100\n",
            "27/27 [==============================] - 2s 92ms/step - loss: 2.1217e-04 - val_loss: 0.0463\n",
            "Epoch 53/100\n",
            "27/27 [==============================] - 2s 91ms/step - loss: 2.1355e-04 - val_loss: 0.1078\n",
            "Epoch 54/100\n",
            "27/27 [==============================] - 2s 89ms/step - loss: 2.0730e-04 - val_loss: 0.0604\n",
            "Epoch 55/100\n",
            "27/27 [==============================] - 2s 89ms/step - loss: 2.0751e-04 - val_loss: 0.0660\n",
            "Epoch 56/100\n",
            "27/27 [==============================] - 2s 90ms/step - loss: 2.0494e-04 - val_loss: 0.0405\n",
            "Epoch 57/100\n",
            "27/27 [==============================] - 2s 92ms/step - loss: 2.0965e-04 - val_loss: 0.0444\n",
            "Epoch 58/100\n",
            "27/27 [==============================] - 2s 91ms/step - loss: 2.0334e-04 - val_loss: 0.0449\n",
            "Epoch 59/100\n",
            "27/27 [==============================] - 2s 90ms/step - loss: 2.1102e-04 - val_loss: 0.0562\n",
            "Epoch 60/100\n",
            "27/27 [==============================] - 2s 90ms/step - loss: 1.9518e-04 - val_loss: 0.0463\n",
            "Epoch 61/100\n",
            "27/27 [==============================] - 2s 89ms/step - loss: 2.0657e-04 - val_loss: 0.0269\n",
            "Epoch 62/100\n",
            "27/27 [==============================] - 2s 90ms/step - loss: 2.0070e-04 - val_loss: 0.0555\n",
            "Epoch 63/100\n",
            "27/27 [==============================] - 2s 91ms/step - loss: 2.0392e-04 - val_loss: 0.0297\n",
            "Epoch 64/100\n",
            "27/27 [==============================] - 2s 90ms/step - loss: 2.0556e-04 - val_loss: 0.0652\n",
            "Epoch 65/100\n",
            "27/27 [==============================] - 2s 90ms/step - loss: 2.1018e-04 - val_loss: 0.0324\n",
            "Epoch 66/100\n",
            "27/27 [==============================] - 2s 92ms/step - loss: 1.9488e-04 - val_loss: 0.0569\n",
            "Epoch 67/100\n",
            "27/27 [==============================] - 2s 90ms/step - loss: 1.9933e-04 - val_loss: 0.0328\n",
            "Epoch 68/100\n",
            "27/27 [==============================] - 2s 91ms/step - loss: 1.8951e-04 - val_loss: 0.0324\n",
            "Epoch 69/100\n",
            "27/27 [==============================] - 2s 90ms/step - loss: 2.0010e-04 - val_loss: 0.0288\n",
            "Epoch 70/100\n",
            "27/27 [==============================] - 2s 89ms/step - loss: 1.9498e-04 - val_loss: 0.0452\n",
            "Epoch 71/100\n",
            "27/27 [==============================] - 2s 90ms/step - loss: 1.8514e-04 - val_loss: 0.0371\n",
            "Epoch 72/100\n",
            "27/27 [==============================] - 2s 91ms/step - loss: 2.0438e-04 - val_loss: 0.0429\n",
            "Epoch 73/100\n",
            "27/27 [==============================] - 2s 90ms/step - loss: 2.2748e-04 - val_loss: 0.0387\n",
            "Epoch 74/100\n",
            "27/27 [==============================] - 2s 89ms/step - loss: 1.9989e-04 - val_loss: 0.0357\n",
            "Epoch 75/100\n",
            "27/27 [==============================] - 2s 91ms/step - loss: 2.0066e-04 - val_loss: 0.0462\n",
            "Epoch 76/100\n",
            "27/27 [==============================] - 2s 91ms/step - loss: 2.1128e-04 - val_loss: 0.0307\n",
            "Epoch 77/100\n",
            "27/27 [==============================] - 2s 90ms/step - loss: 1.9635e-04 - val_loss: 0.0482\n",
            "Epoch 78/100\n",
            "27/27 [==============================] - 2s 92ms/step - loss: 2.1125e-04 - val_loss: 0.0652\n",
            "Epoch 79/100\n",
            "27/27 [==============================] - 2s 90ms/step - loss: 1.9398e-04 - val_loss: 0.0468\n",
            "Epoch 80/100\n",
            "27/27 [==============================] - 2s 90ms/step - loss: 1.8617e-04 - val_loss: 0.0374\n",
            "Epoch 81/100\n",
            "27/27 [==============================] - 2s 90ms/step - loss: 1.8337e-04 - val_loss: 0.0342\n",
            "Epoch 82/100\n",
            "27/27 [==============================] - 2s 92ms/step - loss: 1.7967e-04 - val_loss: 0.0492\n",
            "Epoch 83/100\n",
            "27/27 [==============================] - 2s 91ms/step - loss: 1.8476e-04 - val_loss: 0.0454\n",
            "Epoch 84/100\n",
            "27/27 [==============================] - 2s 89ms/step - loss: 1.8743e-04 - val_loss: 0.0455\n",
            "Epoch 85/100\n",
            "27/27 [==============================] - 2s 90ms/step - loss: 1.7673e-04 - val_loss: 0.0450\n",
            "Epoch 86/100\n",
            "27/27 [==============================] - 2s 90ms/step - loss: 1.8536e-04 - val_loss: 0.0337\n",
            "Epoch 87/100\n",
            "27/27 [==============================] - 2s 90ms/step - loss: 1.7704e-04 - val_loss: 0.0367\n",
            "Epoch 88/100\n",
            "27/27 [==============================] - 2s 90ms/step - loss: 1.8838e-04 - val_loss: 0.0380\n",
            "Epoch 89/100\n",
            "27/27 [==============================] - 2s 90ms/step - loss: 1.8968e-04 - val_loss: 0.0444\n",
            "Epoch 90/100\n",
            "27/27 [==============================] - 2s 91ms/step - loss: 1.8101e-04 - val_loss: 0.0390\n",
            "Epoch 91/100\n",
            "27/27 [==============================] - 3s 93ms/step - loss: 1.7525e-04 - val_loss: 0.0410\n",
            "Epoch 92/100\n",
            "27/27 [==============================] - 2s 91ms/step - loss: 1.7381e-04 - val_loss: 0.0432\n",
            "Epoch 93/100\n",
            "27/27 [==============================] - ETA: 0s - loss: 1.8351e-04"
          ]
        },
        {
          "output_type": "stream",
          "name": "stderr",
          "text": [
            "WARNING:absl:<keras.layers.recurrent.LSTMCell object at 0x7fcc6731dd10> has the same name 'LSTMCell' as a built-in Keras object. Consider renaming <class 'keras.layers.recurrent.LSTMCell'> to avoid naming conflicts when loading with `tf.keras.models.load_model`. If renaming is not possible, pass the object in the `custom_objects` parameter of the load function.\n"
          ]
        },
        {
          "output_type": "stream",
          "name": "stdout",
          "text": [
            "\b\b\b\b\b\b\b\b\b\b\b\b\b\b\b\b\b\b\b\b\b\b\b\b\b\b\b\b\b\b\b\b\b\b\b\b\b\b\b\b\b\b\b\b\b\b\b\b\b\b\b\b\b\b\b\b\b\b\b\b\b\b\b\b\b\b\b\r27/27 [==============================] - 4s 155ms/step - loss: 1.8351e-04 - val_loss: 0.0217\n",
            "Epoch 94/100\n",
            "27/27 [==============================] - 2s 92ms/step - loss: 1.8203e-04 - val_loss: 0.0295\n",
            "Epoch 95/100\n",
            "27/27 [==============================] - 2s 91ms/step - loss: 1.7250e-04 - val_loss: 0.0358\n",
            "Epoch 96/100\n",
            "27/27 [==============================] - 2s 90ms/step - loss: 1.6468e-04 - val_loss: 0.0342\n",
            "Epoch 97/100\n",
            "27/27 [==============================] - 2s 91ms/step - loss: 1.8048e-04 - val_loss: 0.0351\n",
            "Epoch 98/100\n",
            "27/27 [==============================] - 2s 90ms/step - loss: 1.7080e-04 - val_loss: 0.0335\n",
            "Epoch 99/100\n",
            "27/27 [==============================] - 2s 90ms/step - loss: 1.7986e-04 - val_loss: 0.0382\n",
            "Epoch 100/100\n",
            "27/27 [==============================] - 2s 91ms/step - loss: 2.0673e-04 - val_loss: 0.0298\n"
          ]
        },
        {
          "output_type": "execute_result",
          "data": {
            "text/plain": [
              "<keras.callbacks.History at 0x7fcbcc0cf350>"
            ]
          },
          "metadata": {},
          "execution_count": 37
        }
      ]
    },
    {
      "cell_type": "code",
      "source": [
        "#load the best version of our model\n",
        "model_2=tf.keras.models.load_model(\"model_experiments/model_2\")"
      ],
      "metadata": {
        "colab": {
          "base_uri": "https://localhost:8080/"
        },
        "id": "tzYuFxdZ_0qU",
        "outputId": "94553ece-782e-49e2-ff97-e316775efc2c"
      },
      "execution_count": 38,
      "outputs": [
        {
          "output_type": "stream",
          "name": "stderr",
          "text": [
            "WARNING:tensorflow:Layer lstm_1 will not use cuDNN kernels since it doesn't meet the criteria. It will use a generic GPU kernel as fallback when running on GPU.\n"
          ]
        }
      ]
    },
    {
      "cell_type": "code",
      "source": [
        "#Evaluate our model\n",
        "model_2.evaluate(test_windows,test_labels)"
      ],
      "metadata": {
        "colab": {
          "base_uri": "https://localhost:8080/"
        },
        "id": "fkzbdHDp_6_f",
        "outputId": "d1afa4b8-e06e-49b5-8e96-39570bf55315"
      },
      "execution_count": 39,
      "outputs": [
        {
          "output_type": "stream",
          "name": "stdout",
          "text": [
            "26/26 [==============================] - 0s 13ms/step - loss: 0.0217\n"
          ]
        },
        {
          "output_type": "execute_result",
          "data": {
            "text/plain": [
              "0.021712547168135643"
            ]
          },
          "metadata": {},
          "execution_count": 39
        }
      ]
    },
    {
      "cell_type": "code",
      "source": [
        "#loading the real price from the scaled test labels\n",
        "model_2_real_stock_price=unscale_labels(model_2_df,test_labels)"
      ],
      "metadata": {
        "id": "OGdfbLQ5AAcV"
      },
      "execution_count": 40,
      "outputs": []
    },
    {
      "cell_type": "code",
      "source": [
        "#preidict the prices \n",
        "model_2_pred=predict_unscaled(model_2,model_2_df,test_windows)\n"
      ],
      "metadata": {
        "id": "GQIGkLFvAF8r"
      },
      "execution_count": 41,
      "outputs": []
    },
    {
      "cell_type": "code",
      "source": [
        "model_2_results=evaluate_preds(y_true=model_2_real_stock_price,\n",
        "                               y_pred=model_2_pred)"
      ],
      "metadata": {
        "id": "kQVz4z1vALg0"
      },
      "execution_count": 42,
      "outputs": []
    },
    {
      "cell_type": "code",
      "source": [
        "model_2_results"
      ],
      "metadata": {
        "colab": {
          "base_uri": "https://localhost:8080/"
        },
        "id": "X9Yirhj8AQQK",
        "outputId": "cd69e797-688b-4cf3-e8e9-aa1432688b0e"
      },
      "execution_count": 43,
      "outputs": [
        {
          "output_type": "execute_result",
          "data": {
            "text/plain": [
              "{'mae': 3.3971353,\n",
              " 'mse': 24.136108,\n",
              " 'rmse': 4.9128513,\n",
              " 'mape': 3.044364,\n",
              " 'mase': 2.7457423}"
            ]
          },
          "metadata": {},
          "execution_count": 43
        }
      ]
    },
    {
      "cell_type": "code",
      "source": [
        "plt.figure(figsize=(10, 7))\n",
        "plot_time_series( df=model_2_df,values=model_2_real_stock_price,test_labels_length=len(test_labels) ,format=\"-\", label=\"Google Real stock price\")\n",
        "plot_time_series( model_2_df,values=model_2_pred, format=\"-\",test_labels_length=len(test_labels),  label=\"model 2 predicted price\");"
      ],
      "metadata": {
        "colab": {
          "base_uri": "https://localhost:8080/",
          "height": 442
        },
        "id": "-vgODWw6djkS",
        "outputId": "1eec14fa-c06f-4489-9aa5-d668ec649bf3"
      },
      "execution_count": 82,
      "outputs": [
        {
          "output_type": "display_data",
          "data": {
            "text/plain": [
              "<Figure size 720x504 with 1 Axes>"
            ],
            "image/png": "[encoded data removed]"
          },
          "metadata": {
            "needs_background": "light"
          }
        }
      ]
    },
    {
      "cell_type": "markdown",
      "source": [
        "# Model 3"
      ],
      "metadata": {
        "id": "8J5ofjM6Ieto"
      }
    },
    {
      "cell_type": "markdown",
      "source": [
        "in this model we will use feature engenieering\n"
      ],
      "metadata": {
        "id": "-qOvKCTDIgor"
      }
    },
    {
      "cell_type": "code",
      "source": [
        "# Importinig Google stock data from yahoo finance\n",
        "\n",
        "GoogleStockSymbol='GOOGL'\n",
        "\n",
        "GoogleStockData=yf.Ticker(GoogleStockSymbol)\n",
        "\n",
        "#Get Google stock data\n",
        "\n",
        "df=GoogleStockData.history(period='1d',start=\"2005-1-1\",end='2022-06-1')\n",
        "\n",
        "#visualising the data\n",
        "df.head()"
      ],
      "metadata": {
        "colab": {
          "base_uri": "https://localhost:8080/",
          "height": 238
        },
        "id": "Go5Mw9PHYCeD",
        "outputId": "0b9059d8-cafb-497a-98a8-206711d8cd08"
      },
      "execution_count": 44,
      "outputs": [
        {
          "output_type": "execute_result",
          "data": {
            "text/plain": [
              "                Open      High       Low     Close     Volume  Dividends  \\\n",
              "Date                                                                       \n",
              "2005-01-03  4.939940  5.096096  4.891391  5.072823  633134232          0   \n",
              "2005-01-04  5.040040  5.078328  4.841842  4.867367  549685764          0   \n",
              "2005-01-05  4.841091  4.927427  4.810561  4.842593  329134536          0   \n",
              "2005-01-06  4.881882  4.902402  4.697698  4.718468  415068516          0   \n",
              "2005-01-07  4.770771  4.861111  4.724224  4.851101  386129484          0   \n",
              "\n",
              "            Stock Splits  \n",
              "Date                      \n",
              "2005-01-03           0.0  \n",
              "2005-01-04           0.0  \n",
              "2005-01-05           0.0  \n",
              "2005-01-06           0.0  \n",
              "2005-01-07           0.0  "
            ],
            "text/html": [
              "\n",
              "  <div id=\"df-d3463bb0-3715-4b55-bb6c-90a210a04c11\">\n",
              "    <div class=\"colab-df-container\">\n",
              "      <div>\n",
              "<style scoped>\n",
              "    .dataframe tbody tr th:only-of-type {\n",
              "        vertical-align: middle;\n",
              "    }\n",
              "\n",
              "    .dataframe tbody tr th {\n",
              "        vertical-align: top;\n",
              "    }\n",
              "\n",
              "    .dataframe thead th {\n",
              "        text-align: right;\n",
              "    }\n",
              "</style>\n",
              "<table border=\"1\" class=\"dataframe\">\n",
              "  <thead>\n",
              "    <tr style=\"text-align: right;\">\n",
              "      <th></th>\n",
              "      <th>Open</th>\n",
              "      <th>High</th>\n",
              "      <th>Low</th>\n",
              "      <th>Close</th>\n",
              "      <th>Volume</th>\n",
              "      <th>Dividends</th>\n",
              "      <th>Stock Splits</th>\n",
              "    </tr>\n",
              "    <tr>\n",
              "      <th>Date</th>\n",
              "      <th></th>\n",
              "      <th></th>\n",
              "      <th></th>\n",
              "      <th></th>\n",
              "      <th></th>\n",
              "      <th></th>\n",
              "      <th></th>\n",
              "    </tr>\n",
              "  </thead>\n",
              "  <tbody>\n",
              "    <tr>\n",
              "      <th>2005-01-03</th>\n",
              "      <td>4.939940</td>\n",
              "      <td>5.096096</td>\n",
              "      <td>4.891391</td>\n",
              "      <td>5.072823</td>\n",
              "      <td>633134232</td>\n",
              "      <td>0</td>\n",
              "      <td>0.0</td>\n",
              "    </tr>\n",
              "    <tr>\n",
              "      <th>2005-01-04</th>\n",
              "      <td>5.040040</td>\n",
              "      <td>5.078328</td>\n",
              "      <td>4.841842</td>\n",
              "      <td>4.867367</td>\n",
              "      <td>549685764</td>\n",
              "      <td>0</td>\n",
              "      <td>0.0</td>\n",
              "    </tr>\n",
              "    <tr>\n",
              "      <th>2005-01-05</th>\n",
              "      <td>4.841091</td>\n",
              "      <td>4.927427</td>\n",
              "      <td>4.810561</td>\n",
              "      <td>4.842593</td>\n",
              "      <td>329134536</td>\n",
              "      <td>0</td>\n",
              "      <td>0.0</td>\n",
              "    </tr>\n",
              "    <tr>\n",
              "      <th>2005-01-06</th>\n",
              "      <td>4.881882</td>\n",
              "      <td>4.902402</td>\n",
              "      <td>4.697698</td>\n",
              "      <td>4.718468</td>\n",
              "      <td>415068516</td>\n",
              "      <td>0</td>\n",
              "      <td>0.0</td>\n",
              "    </tr>\n",
              "    <tr>\n",
              "      <th>2005-01-07</th>\n",
              "      <td>4.770771</td>\n",
              "      <td>4.861111</td>\n",
              "      <td>4.724224</td>\n",
              "      <td>4.851101</td>\n",
              "      <td>386129484</td>\n",
              "      <td>0</td>\n",
              "      <td>0.0</td>\n",
              "    </tr>\n",
              "  </tbody>\n",
              "</table>\n",
              "</div>\n",
              "      <button class=\"colab-df-convert\" onclick=\"convertToInteractive('df-d3463bb0-3715-4b55-bb6c-90a210a04c11')\"\n",
              "              title=\"Convert this dataframe to an interactive table.\"\n",
              "              style=\"display:none;\">\n",
              "        \n",
              "  <svg xmlns=\"http://www.w3.org/2000/svg\" height=\"24px\"viewBox=\"0 0 24 24\"\n",
              "       width=\"24px\">\n",
              "    <path d=\"M0 0h24v24H0V0z\" fill=\"none\"/>\n",
              "    <path d=\"M18.56 5.44l.94 2.06.94-2.06 2.06-.94-2.06-.94-.94-2.06-.94 2.06-2.06.94zm-11 1L8.5 8.5l.94-2.06 2.06-.94-2.06-.94L8.5 2.5l-.94 2.06-2.06.94zm10 10l.94 2.06.94-2.06 2.06-.94-2.06-.94-.94-2.06-.94 2.06-2.06.94z\"/><path d=\"M17.41 7.96l-1.37-1.37c-.4-.4-.92-.59-1.43-.59-.52 0-1.04.2-1.43.59L10.3 9.45l-7.72 7.72c-.78.78-.78 2.05 0 2.83L4 21.41c.39.39.9.59 1.41.59.51 0 1.02-.2 1.41-.59l7.78-7.78 2.81-2.81c.8-.78.8-2.07 0-2.86zM5.41 20L4 18.59l7.72-7.72 1.47 1.35L5.41 20z\"/>\n",
              "  </svg>\n",
              "      </button>\n",
              "      \n",
              "  <style>\n",
              "    .colab-df-container {\n",
              "      display:flex;\n",
              "      flex-wrap:wrap;\n",
              "      gap: 12px;\n",
              "    }\n",
              "\n",
              "    .colab-df-convert {\n",
              "      background-color: #E8F0FE;\n",
              "      border: none;\n",
              "      border-radius: 50%;\n",
              "      cursor: pointer;\n",
              "      display: none;\n",
              "      fill: #1967D2;\n",
              "      height: 32px;\n",
              "      padding: 0 0 0 0;\n",
              "      width: 32px;\n",
              "    }\n",
              "\n",
              "    .colab-df-convert:hover {\n",
              "      background-color: #E2EBFA;\n",
              "      box-shadow: 0px 1px 2px rgba(60, 64, 67, 0.3), 0px 1px 3px 1px rgba(60, 64, 67, 0.15);\n",
              "      fill: #174EA6;\n",
              "    }\n",
              "\n",
              "    [theme=dark] .colab-df-convert {\n",
              "      background-color: #3B4455;\n",
              "      fill: #D2E3FC;\n",
              "    }\n",
              "\n",
              "    [theme=dark] .colab-df-convert:hover {\n",
              "      background-color: #434B5C;\n",
              "      box-shadow: 0px 1px 3px 1px rgba(0, 0, 0, 0.15);\n",
              "      filter: drop-shadow(0px 1px 2px rgba(0, 0, 0, 0.3));\n",
              "      fill: #FFFFFF;\n",
              "    }\n",
              "  </style>\n",
              "\n",
              "      <script>\n",
              "        const buttonEl =\n",
              "          document.querySelector('#df-d3463bb0-3715-4b55-bb6c-90a210a04c11 button.colab-df-convert');\n",
              "        buttonEl.style.display =\n",
              "          google.colab.kernel.accessAllowed ? 'block' : 'none';\n",
              "\n",
              "        async function convertToInteractive(key) {\n",
              "          const element = document.querySelector('#df-d3463bb0-3715-4b55-bb6c-90a210a04c11');\n",
              "          const dataTable =\n",
              "            await google.colab.kernel.invokeFunction('convertToInteractive',\n",
              "                                                     [key], {});\n",
              "          if (!dataTable) return;\n",
              "\n",
              "          const docLinkHtml = 'Like what you see? Visit the ' +\n",
              "            '<a target=\"_blank\" href=https://colab.research.google.com/notebooks/data_table.ipynb>data table notebook</a>'\n",
              "            + ' to learn more about interactive tables.';\n",
              "          element.innerHTML = '';\n",
              "          dataTable['output_type'] = 'display_data';\n",
              "          await google.colab.output.renderOutput(dataTable, element);\n",
              "          const docLink = document.createElement('div');\n",
              "          docLink.innerHTML = docLinkHtml;\n",
              "          element.appendChild(docLink);\n",
              "        }\n",
              "      </script>\n",
              "    </div>\n",
              "  </div>\n",
              "  "
            ]
          },
          "metadata": {},
          "execution_count": 44
        }
      ]
    },
    {
      "cell_type": "code",
      "source": [
        "df_features=generate_technical_features(df)\n",
        "df_features.head()"
      ],
      "metadata": {
        "colab": {
          "base_uri": "https://localhost:8080/",
          "height": 267
        },
        "id": "puVZe8HFYTg-",
        "outputId": "c4b0ba21-008b-4d25-d511-ea5f20f65e56"
      },
      "execution_count": 45,
      "outputs": [
        {
          "output_type": "execute_result",
          "data": {
            "text/plain": [
              "                Open      High       Low     Close     Volume  Dividends  \\\n",
              "Date                                                                       \n",
              "2005-01-03  4.939940  5.096096  4.891391  5.072823  633134232          0   \n",
              "2005-01-04  5.040040  5.078328  4.841842  4.867367  549685764          0   \n",
              "2005-01-05  4.841091  4.927427  4.810561  4.842593  329134536          0   \n",
              "2005-01-06  4.881882  4.902402  4.697698  4.718468  415068516          0   \n",
              "2005-01-07  4.770771  4.861111  4.724224  4.851101  386129484          0   \n",
              "\n",
              "            Stock Splits  MA200  MA100  MA50  ...  DIFF-MA200-CLOSE  \\\n",
              "Date                                          ...                     \n",
              "2005-01-03           0.0    NaN    NaN   NaN  ...               NaN   \n",
              "2005-01-04           0.0    NaN    NaN   NaN  ...               NaN   \n",
              "2005-01-05           0.0    NaN    NaN   NaN  ...               NaN   \n",
              "2005-01-06           0.0    NaN    NaN   NaN  ...               NaN   \n",
              "2005-01-07           0.0    NaN    NaN   NaN  ...               NaN   \n",
              "\n",
              "            DIFF-MA100-CLOSE  DIFF-MA50-CLOSE  MA200_low  MA14_low  \\\n",
              "Date                                                                 \n",
              "2005-01-03               NaN              NaN        NaN       NaN   \n",
              "2005-01-04               NaN              NaN        NaN       NaN   \n",
              "2005-01-05               NaN              NaN        NaN       NaN   \n",
              "2005-01-06               NaN              NaN        NaN       NaN   \n",
              "2005-01-07               NaN              NaN        NaN       NaN   \n",
              "\n",
              "            MA200_high  MA14_high  MA20dSTD  K-ratio  RSI  \n",
              "Date                                                       \n",
              "2005-01-03         NaN        NaN       NaN      NaN  NaN  \n",
              "2005-01-04         NaN        NaN       NaN      NaN  NaN  \n",
              "2005-01-05         NaN        NaN       NaN      NaN  NaN  \n",
              "2005-01-06         NaN        NaN       NaN      NaN  NaN  \n",
              "2005-01-07         NaN        NaN       NaN      NaN  NaN  \n",
              "\n",
              "[5 rows x 25 columns]"
            ],
            "text/html": [
              "\n",
              "  <div id=\"df-61ccb1b9-e3da-49ba-ac88-2affb297f850\">\n",
              "    <div class=\"colab-df-container\">\n",
              "      <div>\n",
              "<style scoped>\n",
              "    .dataframe tbody tr th:only-of-type {\n",
              "        vertical-align: middle;\n",
              "    }\n",
              "\n",
              "    .dataframe tbody tr th {\n",
              "        vertical-align: top;\n",
              "    }\n",
              "\n",
              "    .dataframe thead th {\n",
              "        text-align: right;\n",
              "    }\n",
              "</style>\n",
              "<table border=\"1\" class=\"dataframe\">\n",
              "  <thead>\n",
              "    <tr style=\"text-align: right;\">\n",
              "      <th></th>\n",
              "      <th>Open</th>\n",
              "      <th>High</th>\n",
              "      <th>Low</th>\n",
              "      <th>Close</th>\n",
              "      <th>Volume</th>\n",
              "      <th>Dividends</th>\n",
              "      <th>Stock Splits</th>\n",
              "      <th>MA200</th>\n",
              "      <th>MA100</th>\n",
              "      <th>MA50</th>\n",
              "      <th>...</th>\n",
              "      <th>DIFF-MA200-CLOSE</th>\n",
              "      <th>DIFF-MA100-CLOSE</th>\n",
              "      <th>DIFF-MA50-CLOSE</th>\n",
              "      <th>MA200_low</th>\n",
              "      <th>MA14_low</th>\n",
              "      <th>MA200_high</th>\n",
              "      <th>MA14_high</th>\n",
              "      <th>MA20dSTD</th>\n",
              "      <th>K-ratio</th>\n",
              "      <th>RSI</th>\n",
              "    </tr>\n",
              "    <tr>\n",
              "      <th>Date</th>\n",
              "      <th></th>\n",
              "      <th></th>\n",
              "      <th></th>\n",
              "      <th></th>\n",
              "      <th></th>\n",
              "      <th></th>\n",
              "      <th></th>\n",
              "      <th></th>\n",
              "      <th></th>\n",
              "      <th></th>\n",
              "      <th></th>\n",
              "      <th></th>\n",
              "      <th></th>\n",
              "      <th></th>\n",
              "      <th></th>\n",
              "      <th></th>\n",
              "      <th></th>\n",
              "      <th></th>\n",
              "      <th></th>\n",
              "      <th></th>\n",
              "      <th></th>\n",
              "    </tr>\n",
              "  </thead>\n",
              "  <tbody>\n",
              "    <tr>\n",
              "      <th>2005-01-03</th>\n",
              "      <td>4.939940</td>\n",
              "      <td>5.096096</td>\n",
              "      <td>4.891391</td>\n",
              "      <td>5.072823</td>\n",
              "      <td>633134232</td>\n",
              "      <td>0</td>\n",
              "      <td>0.0</td>\n",
              "      <td>NaN</td>\n",
              "      <td>NaN</td>\n",
              "      <td>NaN</td>\n",
              "      <td>...</td>\n",
              "      <td>NaN</td>\n",
              "      <td>NaN</td>\n",
              "      <td>NaN</td>\n",
              "      <td>NaN</td>\n",
              "      <td>NaN</td>\n",
              "      <td>NaN</td>\n",
              "      <td>NaN</td>\n",
              "      <td>NaN</td>\n",
              "      <td>NaN</td>\n",
              "      <td>NaN</td>\n",
              "    </tr>\n",
              "    <tr>\n",
              "      <th>2005-01-04</th>\n",
              "      <td>5.040040</td>\n",
              "      <td>5.078328</td>\n",
              "      <td>4.841842</td>\n",
              "      <td>4.867367</td>\n",
              "      <td>549685764</td>\n",
              "      <td>0</td>\n",
              "      <td>0.0</td>\n",
              "      <td>NaN</td>\n",
              "      <td>NaN</td>\n",
              "      <td>NaN</td>\n",
              "      <td>...</td>\n",
              "      <td>NaN</td>\n",
              "      <td>NaN</td>\n",
              "      <td>NaN</td>\n",
              "      <td>NaN</td>\n",
              "      <td>NaN</td>\n",
              "      <td>NaN</td>\n",
              "      <td>NaN</td>\n",
              "      <td>NaN</td>\n",
              "      <td>NaN</td>\n",
              "      <td>NaN</td>\n",
              "    </tr>\n",
              "    <tr>\n",
              "      <th>2005-01-05</th>\n",
              "      <td>4.841091</td>\n",
              "      <td>4.927427</td>\n",
              "      <td>4.810561</td>\n",
              "      <td>4.842593</td>\n",
              "      <td>329134536</td>\n",
              "      <td>0</td>\n",
              "      <td>0.0</td>\n",
              "      <td>NaN</td>\n",
              "      <td>NaN</td>\n",
              "      <td>NaN</td>\n",
              "      <td>...</td>\n",
              "      <td>NaN</td>\n",
              "      <td>NaN</td>\n",
              "      <td>NaN</td>\n",
              "      <td>NaN</td>\n",
              "      <td>NaN</td>\n",
              "      <td>NaN</td>\n",
              "      <td>NaN</td>\n",
              "      <td>NaN</td>\n",
              "      <td>NaN</td>\n",
              "      <td>NaN</td>\n",
              "    </tr>\n",
              "    <tr>\n",
              "      <th>2005-01-06</th>\n",
              "      <td>4.881882</td>\n",
              "      <td>4.902402</td>\n",
              "      <td>4.697698</td>\n",
              "      <td>4.718468</td>\n",
              "      <td>415068516</td>\n",
              "      <td>0</td>\n",
              "      <td>0.0</td>\n",
              "      <td>NaN</td>\n",
              "      <td>NaN</td>\n",
              "      <td>NaN</td>\n",
              "      <td>...</td>\n",
              "      <td>NaN</td>\n",
              "      <td>NaN</td>\n",
              "      <td>NaN</td>\n",
              "      <td>NaN</td>\n",
              "      <td>NaN</td>\n",
              "      <td>NaN</td>\n",
              "      <td>NaN</td>\n",
              "      <td>NaN</td>\n",
              "      <td>NaN</td>\n",
              "      <td>NaN</td>\n",
              "    </tr>\n",
              "    <tr>\n",
              "      <th>2005-01-07</th>\n",
              "      <td>4.770771</td>\n",
              "      <td>4.861111</td>\n",
              "      <td>4.724224</td>\n",
              "      <td>4.851101</td>\n",
              "      <td>386129484</td>\n",
              "      <td>0</td>\n",
              "      <td>0.0</td>\n",
              "      <td>NaN</td>\n",
              "      <td>NaN</td>\n",
              "      <td>NaN</td>\n",
              "      <td>...</td>\n",
              "      <td>NaN</td>\n",
              "      <td>NaN</td>\n",
              "      <td>NaN</td>\n",
              "      <td>NaN</td>\n",
              "      <td>NaN</td>\n",
              "      <td>NaN</td>\n",
              "      <td>NaN</td>\n",
              "      <td>NaN</td>\n",
              "      <td>NaN</td>\n",
              "      <td>NaN</td>\n",
              "    </tr>\n",
              "  </tbody>\n",
              "</table>\n",
              "<p>5 rows × 25 columns</p>\n",
              "</div>\n",
              "      <button class=\"colab-df-convert\" onclick=\"convertToInteractive('df-61ccb1b9-e3da-49ba-ac88-2affb297f850')\"\n",
              "              title=\"Convert this dataframe to an interactive table.\"\n",
              "              style=\"display:none;\">\n",
              "        \n",
              "  <svg xmlns=\"http://www.w3.org/2000/svg\" height=\"24px\"viewBox=\"0 0 24 24\"\n",
              "       width=\"24px\">\n",
              "    <path d=\"M0 0h24v24H0V0z\" fill=\"none\"/>\n",
              "    <path d=\"M18.56 5.44l.94 2.06.94-2.06 2.06-.94-2.06-.94-.94-2.06-.94 2.06-2.06.94zm-11 1L8.5 8.5l.94-2.06 2.06-.94-2.06-.94L8.5 2.5l-.94 2.06-2.06.94zm10 10l.94 2.06.94-2.06 2.06-.94-2.06-.94-.94-2.06-.94 2.06-2.06.94z\"/><path d=\"M17.41 7.96l-1.37-1.37c-.4-.4-.92-.59-1.43-.59-.52 0-1.04.2-1.43.59L10.3 9.45l-7.72 7.72c-.78.78-.78 2.05 0 2.83L4 21.41c.39.39.9.59 1.41.59.51 0 1.02-.2 1.41-.59l7.78-7.78 2.81-2.81c.8-.78.8-2.07 0-2.86zM5.41 20L4 18.59l7.72-7.72 1.47 1.35L5.41 20z\"/>\n",
              "  </svg>\n",
              "      </button>\n",
              "      \n",
              "  <style>\n",
              "    .colab-df-container {\n",
              "      display:flex;\n",
              "      flex-wrap:wrap;\n",
              "      gap: 12px;\n",
              "    }\n",
              "\n",
              "    .colab-df-convert {\n",
              "      background-color: #E8F0FE;\n",
              "      border: none;\n",
              "      border-radius: 50%;\n",
              "      cursor: pointer;\n",
              "      display: none;\n",
              "      fill: #1967D2;\n",
              "      height: 32px;\n",
              "      padding: 0 0 0 0;\n",
              "      width: 32px;\n",
              "    }\n",
              "\n",
              "    .colab-df-convert:hover {\n",
              "      background-color: #E2EBFA;\n",
              "      box-shadow: 0px 1px 2px rgba(60, 64, 67, 0.3), 0px 1px 3px 1px rgba(60, 64, 67, 0.15);\n",
              "      fill: #174EA6;\n",
              "    }\n",
              "\n",
              "    [theme=dark] .colab-df-convert {\n",
              "      background-color: #3B4455;\n",
              "      fill: #D2E3FC;\n",
              "    }\n",
              "\n",
              "    [theme=dark] .colab-df-convert:hover {\n",
              "      background-color: #434B5C;\n",
              "      box-shadow: 0px 1px 3px 1px rgba(0, 0, 0, 0.15);\n",
              "      filter: drop-shadow(0px 1px 2px rgba(0, 0, 0, 0.3));\n",
              "      fill: #FFFFFF;\n",
              "    }\n",
              "  </style>\n",
              "\n",
              "      <script>\n",
              "        const buttonEl =\n",
              "          document.querySelector('#df-61ccb1b9-e3da-49ba-ac88-2affb297f850 button.colab-df-convert');\n",
              "        buttonEl.style.display =\n",
              "          google.colab.kernel.accessAllowed ? 'block' : 'none';\n",
              "\n",
              "        async function convertToInteractive(key) {\n",
              "          const element = document.querySelector('#df-61ccb1b9-e3da-49ba-ac88-2affb297f850');\n",
              "          const dataTable =\n",
              "            await google.colab.kernel.invokeFunction('convertToInteractive',\n",
              "                                                     [key], {});\n",
              "          if (!dataTable) return;\n",
              "\n",
              "          const docLinkHtml = 'Like what you see? Visit the ' +\n",
              "            '<a target=\"_blank\" href=https://colab.research.google.com/notebooks/data_table.ipynb>data table notebook</a>'\n",
              "            + ' to learn more about interactive tables.';\n",
              "          element.innerHTML = '';\n",
              "          dataTable['output_type'] = 'display_data';\n",
              "          await google.colab.output.renderOutput(dataTable, element);\n",
              "          const docLink = document.createElement('div');\n",
              "          docLink.innerHTML = docLinkHtml;\n",
              "          element.appendChild(docLink);\n",
              "        }\n",
              "      </script>\n",
              "    </div>\n",
              "  </div>\n",
              "  "
            ]
          },
          "metadata": {},
          "execution_count": 45
        }
      ]
    },
    {
      "cell_type": "code",
      "source": [
        "#shift the time frame by 10 month\n",
        "\n",
        "use_start_date = pd.to_datetime(\"2005-11-01\" )\n",
        "df_features = df_features[df_features.index > use_start_date].copy()\n",
        "df_features.head()"
      ],
      "metadata": {
        "colab": {
          "base_uri": "https://localhost:8080/",
          "height": 267
        },
        "id": "FtDfVSI2YpYz",
        "outputId": "9b276afe-c29f-4f65-bbcb-fabd0f792c02"
      },
      "execution_count": 46,
      "outputs": [
        {
          "output_type": "execute_result",
          "data": {
            "text/plain": [
              "                Open      High       Low     Close     Volume  Dividends  \\\n",
              "Date                                                                       \n",
              "2005-11-02  9.552052  9.634635  9.438689  9.501502  422193384          0   \n",
              "2005-11-03  9.569820  9.674174  9.544044  9.658408  297638064          0   \n",
              "2005-11-04  9.759259  9.804555  9.645896  9.770521  352643004          0   \n",
              "2005-11-07  9.887387  9.946697  9.813564  9.885636  383276340          0   \n",
              "2005-11-08  9.866116  9.899650  9.724224  9.757257  315584100          0   \n",
              "\n",
              "            Stock Splits     MA200     MA100      MA50  ...  DIFF-MA200-CLOSE  \\\n",
              "Date                                                    ...                     \n",
              "2005-11-02           0.0  6.409024  7.567092  7.823038  ...         -3.092478   \n",
              "2005-11-03           0.0  6.433052  7.594019  7.874780  ...         -3.225356   \n",
              "2005-11-04           0.0  6.458346  7.622955  7.928754  ...         -3.312175   \n",
              "2005-11-07           0.0  6.485161  7.652382  7.984535  ...         -3.400475   \n",
              "2005-11-08           0.0  6.511786  7.679810  8.035310  ...         -3.245472   \n",
              "\n",
              "            DIFF-MA100-CLOSE  DIFF-MA50-CLOSE  MA200_low  MA14_low  \\\n",
              "Date                                                                 \n",
              "2005-11-02         -1.934410        -1.678464   4.318569  7.320821   \n",
              "2005-11-03         -2.064389        -1.783628   4.318569  7.371371   \n",
              "2005-11-04         -2.147566        -1.841767   4.318569  7.537788   \n",
              "2005-11-07         -2.233254        -1.901102   4.318569  7.537788   \n",
              "2005-11-08         -2.077448        -1.721947   4.318569  7.537788   \n",
              "\n",
              "            MA200_high  MA14_high  MA20dSTD    K-ratio        RSI  \n",
              "Date                                                               \n",
              "2005-11-02    9.634635   9.634635  0.736901  94.246170  95.430954  \n",
              "2005-11-03    9.674174   9.674174  0.793628  99.315350  96.237588  \n",
              "2005-11-04    9.804555   9.804555  0.845292  98.498576  97.353365  \n",
              "2005-11-07    9.946697   9.946697  0.889136  97.465205  98.426377  \n",
              "2005-11-08    9.946697   9.946697  0.903393  92.135869  96.033217  \n",
              "\n",
              "[5 rows x 25 columns]"
            ],
            "text/html": [
              "\n",
              "  <div id=\"df-43fe9ee8-13bd-4501-9bd7-cc2b5343d9b6\">\n",
              "    <div class=\"colab-df-container\">\n",
              "      <div>\n",
              "<style scoped>\n",
              "    .dataframe tbody tr th:only-of-type {\n",
              "        vertical-align: middle;\n",
              "    }\n",
              "\n",
              "    .dataframe tbody tr th {\n",
              "        vertical-align: top;\n",
              "    }\n",
              "\n",
              "    .dataframe thead th {\n",
              "        text-align: right;\n",
              "    }\n",
              "</style>\n",
              "<table border=\"1\" class=\"dataframe\">\n",
              "  <thead>\n",
              "    <tr style=\"text-align: right;\">\n",
              "      <th></th>\n",
              "      <th>Open</th>\n",
              "      <th>High</th>\n",
              "      <th>Low</th>\n",
              "      <th>Close</th>\n",
              "      <th>Volume</th>\n",
              "      <th>Dividends</th>\n",
              "      <th>Stock Splits</th>\n",
              "      <th>MA200</th>\n",
              "      <th>MA100</th>\n",
              "      <th>MA50</th>\n",
              "      <th>...</th>\n",
              "      <th>DIFF-MA200-CLOSE</th>\n",
              "      <th>DIFF-MA100-CLOSE</th>\n",
              "      <th>DIFF-MA50-CLOSE</th>\n",
              "      <th>MA200_low</th>\n",
              "      <th>MA14_low</th>\n",
              "      <th>MA200_high</th>\n",
              "      <th>MA14_high</th>\n",
              "      <th>MA20dSTD</th>\n",
              "      <th>K-ratio</th>\n",
              "      <th>RSI</th>\n",
              "    </tr>\n",
              "    <tr>\n",
              "      <th>Date</th>\n",
              "      <th></th>\n",
              "      <th></th>\n",
              "      <th></th>\n",
              "      <th></th>\n",
              "      <th></th>\n",
              "      <th></th>\n",
              "      <th></th>\n",
              "      <th></th>\n",
              "      <th></th>\n",
              "      <th></th>\n",
              "      <th></th>\n",
              "      <th></th>\n",
              "      <th></th>\n",
              "      <th></th>\n",
              "      <th></th>\n",
              "      <th></th>\n",
              "      <th></th>\n",
              "      <th></th>\n",
              "      <th></th>\n",
              "      <th></th>\n",
              "      <th></th>\n",
              "    </tr>\n",
              "  </thead>\n",
              "  <tbody>\n",
              "    <tr>\n",
              "      <th>2005-11-02</th>\n",
              "      <td>9.552052</td>\n",
              "      <td>9.634635</td>\n",
              "      <td>9.438689</td>\n",
              "      <td>9.501502</td>\n",
              "      <td>422193384</td>\n",
              "      <td>0</td>\n",
              "      <td>0.0</td>\n",
              "      <td>6.409024</td>\n",
              "      <td>7.567092</td>\n",
              "      <td>7.823038</td>\n",
              "      <td>...</td>\n",
              "      <td>-3.092478</td>\n",
              "      <td>-1.934410</td>\n",
              "      <td>-1.678464</td>\n",
              "      <td>4.318569</td>\n",
              "      <td>7.320821</td>\n",
              "      <td>9.634635</td>\n",
              "      <td>9.634635</td>\n",
              "      <td>0.736901</td>\n",
              "      <td>94.246170</td>\n",
              "      <td>95.430954</td>\n",
              "    </tr>\n",
              "    <tr>\n",
              "      <th>2005-11-03</th>\n",
              "      <td>9.569820</td>\n",
              "      <td>9.674174</td>\n",
              "      <td>9.544044</td>\n",
              "      <td>9.658408</td>\n",
              "      <td>297638064</td>\n",
              "      <td>0</td>\n",
              "      <td>0.0</td>\n",
              "      <td>6.433052</td>\n",
              "      <td>7.594019</td>\n",
              "      <td>7.874780</td>\n",
              "      <td>...</td>\n",
              "      <td>-3.225356</td>\n",
              "      <td>-2.064389</td>\n",
              "      <td>-1.783628</td>\n",
              "      <td>4.318569</td>\n",
              "      <td>7.371371</td>\n",
              "      <td>9.674174</td>\n",
              "      <td>9.674174</td>\n",
              "      <td>0.793628</td>\n",
              "      <td>99.315350</td>\n",
              "      <td>96.237588</td>\n",
              "    </tr>\n",
              "    <tr>\n",
              "      <th>2005-11-04</th>\n",
              "      <td>9.759259</td>\n",
              "      <td>9.804555</td>\n",
              "      <td>9.645896</td>\n",
              "      <td>9.770521</td>\n",
              "      <td>352643004</td>\n",
              "      <td>0</td>\n",
              "      <td>0.0</td>\n",
              "      <td>6.458346</td>\n",
              "      <td>7.622955</td>\n",
              "      <td>7.928754</td>\n",
              "      <td>...</td>\n",
              "      <td>-3.312175</td>\n",
              "      <td>-2.147566</td>\n",
              "      <td>-1.841767</td>\n",
              "      <td>4.318569</td>\n",
              "      <td>7.537788</td>\n",
              "      <td>9.804555</td>\n",
              "      <td>9.804555</td>\n",
              "      <td>0.845292</td>\n",
              "      <td>98.498576</td>\n",
              "      <td>97.353365</td>\n",
              "    </tr>\n",
              "    <tr>\n",
              "      <th>2005-11-07</th>\n",
              "      <td>9.887387</td>\n",
              "      <td>9.946697</td>\n",
              "      <td>9.813564</td>\n",
              "      <td>9.885636</td>\n",
              "      <td>383276340</td>\n",
              "      <td>0</td>\n",
              "      <td>0.0</td>\n",
              "      <td>6.485161</td>\n",
              "      <td>7.652382</td>\n",
              "      <td>7.984535</td>\n",
              "      <td>...</td>\n",
              "      <td>-3.400475</td>\n",
              "      <td>-2.233254</td>\n",
              "      <td>-1.901102</td>\n",
              "      <td>4.318569</td>\n",
              "      <td>7.537788</td>\n",
              "      <td>9.946697</td>\n",
              "      <td>9.946697</td>\n",
              "      <td>0.889136</td>\n",
              "      <td>97.465205</td>\n",
              "      <td>98.426377</td>\n",
              "    </tr>\n",
              "    <tr>\n",
              "      <th>2005-11-08</th>\n",
              "      <td>9.866116</td>\n",
              "      <td>9.899650</td>\n",
              "      <td>9.724224</td>\n",
              "      <td>9.757257</td>\n",
              "      <td>315584100</td>\n",
              "      <td>0</td>\n",
              "      <td>0.0</td>\n",
              "      <td>6.511786</td>\n",
              "      <td>7.679810</td>\n",
              "      <td>8.035310</td>\n",
              "      <td>...</td>\n",
              "      <td>-3.245472</td>\n",
              "      <td>-2.077448</td>\n",
              "      <td>-1.721947</td>\n",
              "      <td>4.318569</td>\n",
              "      <td>7.537788</td>\n",
              "      <td>9.946697</td>\n",
              "      <td>9.946697</td>\n",
              "      <td>0.903393</td>\n",
              "      <td>92.135869</td>\n",
              "      <td>96.033217</td>\n",
              "    </tr>\n",
              "  </tbody>\n",
              "</table>\n",
              "<p>5 rows × 25 columns</p>\n",
              "</div>\n",
              "      <button class=\"colab-df-convert\" onclick=\"convertToInteractive('df-43fe9ee8-13bd-4501-9bd7-cc2b5343d9b6')\"\n",
              "              title=\"Convert this dataframe to an interactive table.\"\n",
              "              style=\"display:none;\">\n",
              "        \n",
              "  <svg xmlns=\"http://www.w3.org/2000/svg\" height=\"24px\"viewBox=\"0 0 24 24\"\n",
              "       width=\"24px\">\n",
              "    <path d=\"M0 0h24v24H0V0z\" fill=\"none\"/>\n",
              "    <path d=\"M18.56 5.44l.94 2.06.94-2.06 2.06-.94-2.06-.94-.94-2.06-.94 2.06-2.06.94zm-11 1L8.5 8.5l.94-2.06 2.06-.94-2.06-.94L8.5 2.5l-.94 2.06-2.06.94zm10 10l.94 2.06.94-2.06 2.06-.94-2.06-.94-.94-2.06-.94 2.06-2.06.94z\"/><path d=\"M17.41 7.96l-1.37-1.37c-.4-.4-.92-.59-1.43-.59-.52 0-1.04.2-1.43.59L10.3 9.45l-7.72 7.72c-.78.78-.78 2.05 0 2.83L4 21.41c.39.39.9.59 1.41.59.51 0 1.02-.2 1.41-.59l7.78-7.78 2.81-2.81c.8-.78.8-2.07 0-2.86zM5.41 20L4 18.59l7.72-7.72 1.47 1.35L5.41 20z\"/>\n",
              "  </svg>\n",
              "      </button>\n",
              "      \n",
              "  <style>\n",
              "    .colab-df-container {\n",
              "      display:flex;\n",
              "      flex-wrap:wrap;\n",
              "      gap: 12px;\n",
              "    }\n",
              "\n",
              "    .colab-df-convert {\n",
              "      background-color: #E8F0FE;\n",
              "      border: none;\n",
              "      border-radius: 50%;\n",
              "      cursor: pointer;\n",
              "      display: none;\n",
              "      fill: #1967D2;\n",
              "      height: 32px;\n",
              "      padding: 0 0 0 0;\n",
              "      width: 32px;\n",
              "    }\n",
              "\n",
              "    .colab-df-convert:hover {\n",
              "      background-color: #E2EBFA;\n",
              "      box-shadow: 0px 1px 2px rgba(60, 64, 67, 0.3), 0px 1px 3px 1px rgba(60, 64, 67, 0.15);\n",
              "      fill: #174EA6;\n",
              "    }\n",
              "\n",
              "    [theme=dark] .colab-df-convert {\n",
              "      background-color: #3B4455;\n",
              "      fill: #D2E3FC;\n",
              "    }\n",
              "\n",
              "    [theme=dark] .colab-df-convert:hover {\n",
              "      background-color: #434B5C;\n",
              "      box-shadow: 0px 1px 3px 1px rgba(0, 0, 0, 0.15);\n",
              "      filter: drop-shadow(0px 1px 2px rgba(0, 0, 0, 0.3));\n",
              "      fill: #FFFFFF;\n",
              "    }\n",
              "  </style>\n",
              "\n",
              "      <script>\n",
              "        const buttonEl =\n",
              "          document.querySelector('#df-43fe9ee8-13bd-4501-9bd7-cc2b5343d9b6 button.colab-df-convert');\n",
              "        buttonEl.style.display =\n",
              "          google.colab.kernel.accessAllowed ? 'block' : 'none';\n",
              "\n",
              "        async function convertToInteractive(key) {\n",
              "          const element = document.querySelector('#df-43fe9ee8-13bd-4501-9bd7-cc2b5343d9b6');\n",
              "          const dataTable =\n",
              "            await google.colab.kernel.invokeFunction('convertToInteractive',\n",
              "                                                     [key], {});\n",
              "          if (!dataTable) return;\n",
              "\n",
              "          const docLinkHtml = 'Like what you see? Visit the ' +\n",
              "            '<a target=\"_blank\" href=https://colab.research.google.com/notebooks/data_table.ipynb>data table notebook</a>'\n",
              "            + ' to learn more about interactive tables.';\n",
              "          element.innerHTML = '';\n",
              "          dataTable['output_type'] = 'display_data';\n",
              "          await google.colab.output.renderOutput(dataTable, element);\n",
              "          const docLink = document.createElement('div');\n",
              "          docLink.innerHTML = docLinkHtml;\n",
              "          element.appendChild(docLink);\n",
              "        }\n",
              "      </script>\n",
              "    </div>\n",
              "  </div>\n",
              "  "
            ]
          },
          "metadata": {},
          "execution_count": 46
        }
      ]
    },
    {
      "cell_type": "code",
      "source": [
        "model_3_df=df_features[['Open','High','Close','RSI','MA200','MA200_high','MA200_low']]\n",
        "model_3_df.head()"
      ],
      "metadata": {
        "colab": {
          "base_uri": "https://localhost:8080/",
          "height": 238
        },
        "id": "wcYyoDvdZ1z2",
        "outputId": "187207ec-254a-4ffc-9869-0ff0eb182a18"
      },
      "execution_count": 47,
      "outputs": [
        {
          "output_type": "execute_result",
          "data": {
            "text/plain": [
              "                Open      High     Close        RSI     MA200  MA200_high  \\\n",
              "Date                                                                        \n",
              "2005-11-02  9.552052  9.634635  9.501502  95.430954  6.409024    9.634635   \n",
              "2005-11-03  9.569820  9.674174  9.658408  96.237588  6.433052    9.674174   \n",
              "2005-11-04  9.759259  9.804555  9.770521  97.353365  6.458346    9.804555   \n",
              "2005-11-07  9.887387  9.946697  9.885636  98.426377  6.485161    9.946697   \n",
              "2005-11-08  9.866116  9.899650  9.757257  96.033217  6.511786    9.946697   \n",
              "\n",
              "            MA200_low  \n",
              "Date                   \n",
              "2005-11-02   4.318569  \n",
              "2005-11-03   4.318569  \n",
              "2005-11-04   4.318569  \n",
              "2005-11-07   4.318569  \n",
              "2005-11-08   4.318569  "
            ],
            "text/html": [
              "\n",
              "  <div id=\"df-3d4b8c8c-85f1-4eda-bf6d-3f05462e1228\">\n",
              "    <div class=\"colab-df-container\">\n",
              "      <div>\n",
              "<style scoped>\n",
              "    .dataframe tbody tr th:only-of-type {\n",
              "        vertical-align: middle;\n",
              "    }\n",
              "\n",
              "    .dataframe tbody tr th {\n",
              "        vertical-align: top;\n",
              "    }\n",
              "\n",
              "    .dataframe thead th {\n",
              "        text-align: right;\n",
              "    }\n",
              "</style>\n",
              "<table border=\"1\" class=\"dataframe\">\n",
              "  <thead>\n",
              "    <tr style=\"text-align: right;\">\n",
              "      <th></th>\n",
              "      <th>Open</th>\n",
              "      <th>High</th>\n",
              "      <th>Close</th>\n",
              "      <th>RSI</th>\n",
              "      <th>MA200</th>\n",
              "      <th>MA200_high</th>\n",
              "      <th>MA200_low</th>\n",
              "    </tr>\n",
              "    <tr>\n",
              "      <th>Date</th>\n",
              "      <th></th>\n",
              "      <th></th>\n",
              "      <th></th>\n",
              "      <th></th>\n",
              "      <th></th>\n",
              "      <th></th>\n",
              "      <th></th>\n",
              "    </tr>\n",
              "  </thead>\n",
              "  <tbody>\n",
              "    <tr>\n",
              "      <th>2005-11-02</th>\n",
              "      <td>9.552052</td>\n",
              "      <td>9.634635</td>\n",
              "      <td>9.501502</td>\n",
              "      <td>95.430954</td>\n",
              "      <td>6.409024</td>\n",
              "      <td>9.634635</td>\n",
              "      <td>4.318569</td>\n",
              "    </tr>\n",
              "    <tr>\n",
              "      <th>2005-11-03</th>\n",
              "      <td>9.569820</td>\n",
              "      <td>9.674174</td>\n",
              "      <td>9.658408</td>\n",
              "      <td>96.237588</td>\n",
              "      <td>6.433052</td>\n",
              "      <td>9.674174</td>\n",
              "      <td>4.318569</td>\n",
              "    </tr>\n",
              "    <tr>\n",
              "      <th>2005-11-04</th>\n",
              "      <td>9.759259</td>\n",
              "      <td>9.804555</td>\n",
              "      <td>9.770521</td>\n",
              "      <td>97.353365</td>\n",
              "      <td>6.458346</td>\n",
              "      <td>9.804555</td>\n",
              "      <td>4.318569</td>\n",
              "    </tr>\n",
              "    <tr>\n",
              "      <th>2005-11-07</th>\n",
              "      <td>9.887387</td>\n",
              "      <td>9.946697</td>\n",
              "      <td>9.885636</td>\n",
              "      <td>98.426377</td>\n",
              "      <td>6.485161</td>\n",
              "      <td>9.946697</td>\n",
              "      <td>4.318569</td>\n",
              "    </tr>\n",
              "    <tr>\n",
              "      <th>2005-11-08</th>\n",
              "      <td>9.866116</td>\n",
              "      <td>9.899650</td>\n",
              "      <td>9.757257</td>\n",
              "      <td>96.033217</td>\n",
              "      <td>6.511786</td>\n",
              "      <td>9.946697</td>\n",
              "      <td>4.318569</td>\n",
              "    </tr>\n",
              "  </tbody>\n",
              "</table>\n",
              "</div>\n",
              "      <button class=\"colab-df-convert\" onclick=\"convertToInteractive('df-3d4b8c8c-85f1-4eda-bf6d-3f05462e1228')\"\n",
              "              title=\"Convert this dataframe to an interactive table.\"\n",
              "              style=\"display:none;\">\n",
              "        \n",
              "  <svg xmlns=\"http://www.w3.org/2000/svg\" height=\"24px\"viewBox=\"0 0 24 24\"\n",
              "       width=\"24px\">\n",
              "    <path d=\"M0 0h24v24H0V0z\" fill=\"none\"/>\n",
              "    <path d=\"M18.56 5.44l.94 2.06.94-2.06 2.06-.94-2.06-.94-.94-2.06-.94 2.06-2.06.94zm-11 1L8.5 8.5l.94-2.06 2.06-.94-2.06-.94L8.5 2.5l-.94 2.06-2.06.94zm10 10l.94 2.06.94-2.06 2.06-.94-2.06-.94-.94-2.06-.94 2.06-2.06.94z\"/><path d=\"M17.41 7.96l-1.37-1.37c-.4-.4-.92-.59-1.43-.59-.52 0-1.04.2-1.43.59L10.3 9.45l-7.72 7.72c-.78.78-.78 2.05 0 2.83L4 21.41c.39.39.9.59 1.41.59.51 0 1.02-.2 1.41-.59l7.78-7.78 2.81-2.81c.8-.78.8-2.07 0-2.86zM5.41 20L4 18.59l7.72-7.72 1.47 1.35L5.41 20z\"/>\n",
              "  </svg>\n",
              "      </button>\n",
              "      \n",
              "  <style>\n",
              "    .colab-df-container {\n",
              "      display:flex;\n",
              "      flex-wrap:wrap;\n",
              "      gap: 12px;\n",
              "    }\n",
              "\n",
              "    .colab-df-convert {\n",
              "      background-color: #E8F0FE;\n",
              "      border: none;\n",
              "      border-radius: 50%;\n",
              "      cursor: pointer;\n",
              "      display: none;\n",
              "      fill: #1967D2;\n",
              "      height: 32px;\n",
              "      padding: 0 0 0 0;\n",
              "      width: 32px;\n",
              "    }\n",
              "\n",
              "    .colab-df-convert:hover {\n",
              "      background-color: #E2EBFA;\n",
              "      box-shadow: 0px 1px 2px rgba(60, 64, 67, 0.3), 0px 1px 3px 1px rgba(60, 64, 67, 0.15);\n",
              "      fill: #174EA6;\n",
              "    }\n",
              "\n",
              "    [theme=dark] .colab-df-convert {\n",
              "      background-color: #3B4455;\n",
              "      fill: #D2E3FC;\n",
              "    }\n",
              "\n",
              "    [theme=dark] .colab-df-convert:hover {\n",
              "      background-color: #434B5C;\n",
              "      box-shadow: 0px 1px 3px 1px rgba(0, 0, 0, 0.15);\n",
              "      filter: drop-shadow(0px 1px 2px rgba(0, 0, 0, 0.3));\n",
              "      fill: #FFFFFF;\n",
              "    }\n",
              "  </style>\n",
              "\n",
              "      <script>\n",
              "        const buttonEl =\n",
              "          document.querySelector('#df-3d4b8c8c-85f1-4eda-bf6d-3f05462e1228 button.colab-df-convert');\n",
              "        buttonEl.style.display =\n",
              "          google.colab.kernel.accessAllowed ? 'block' : 'none';\n",
              "\n",
              "        async function convertToInteractive(key) {\n",
              "          const element = document.querySelector('#df-3d4b8c8c-85f1-4eda-bf6d-3f05462e1228');\n",
              "          const dataTable =\n",
              "            await google.colab.kernel.invokeFunction('convertToInteractive',\n",
              "                                                     [key], {});\n",
              "          if (!dataTable) return;\n",
              "\n",
              "          const docLinkHtml = 'Like what you see? Visit the ' +\n",
              "            '<a target=\"_blank\" href=https://colab.research.google.com/notebooks/data_table.ipynb>data table notebook</a>'\n",
              "            + ' to learn more about interactive tables.';\n",
              "          element.innerHTML = '';\n",
              "          dataTable['output_type'] = 'display_data';\n",
              "          await google.colab.output.renderOutput(dataTable, element);\n",
              "          const docLink = document.createElement('div');\n",
              "          docLink.innerHTML = docLinkHtml;\n",
              "          element.appendChild(docLink);\n",
              "        }\n",
              "      </script>\n",
              "    </div>\n",
              "  </div>\n",
              "  "
            ]
          },
          "metadata": {},
          "execution_count": 47
        }
      ]
    },
    {
      "cell_type": "code",
      "source": [
        "train_windows, train_labels, test_windows,test_labels=make_windows(model_3_df)"
      ],
      "metadata": {
        "id": "ZwApdXgOaSVQ"
      },
      "execution_count": 48,
      "outputs": []
    },
    {
      "cell_type": "code",
      "source": [
        "model_3=Sequential()\n",
        "model_3.add(LSTM(128, activation='relu', input_shape=(train_windows.shape[1], train_windows.shape[2])))\n",
        "model_3.add(Dense(test_labels.shape[1]))\n",
        "model_3.compile(optimizer='adam', loss='mse')"
      ],
      "metadata": {
        "colab": {
          "base_uri": "https://localhost:8080/"
        },
        "id": "QYS_qv_-aWHa",
        "outputId": "2bd713cf-a452-43c4-b467-25d19e848d0d"
      },
      "execution_count": 49,
      "outputs": [
        {
          "output_type": "stream",
          "name": "stderr",
          "text": [
            "WARNING:tensorflow:Layer lstm_2 will not use cuDNN kernels since it doesn't meet the criteria. It will use a generic GPU kernel as fallback when running on GPU.\n"
          ]
        }
      ]
    },
    {
      "cell_type": "code",
      "source": [
        "model_3.fit(train_windows,\n",
        "            train_labels,\n",
        "            epochs=100,\n",
        "            verbose=1,\n",
        "            batch_size=128,\n",
        "            validation_data=(test_windows, test_labels),\n",
        "            callbacks=[create_model_checkpoint(model_name=\"model_3\")])"
      ],
      "metadata": {
        "colab": {
          "base_uri": "https://localhost:8080/"
        },
        "id": "lcyKwI5OacBn",
        "outputId": "3e6ac77c-b097-4434-8a86-d3f704320c1d"
      },
      "execution_count": 50,
      "outputs": [
        {
          "output_type": "stream",
          "name": "stdout",
          "text": [
            "Epoch 1/100\n",
            "26/26 [==============================] - ETA: 0s - loss: 0.0772"
          ]
        },
        {
          "output_type": "stream",
          "name": "stderr",
          "text": [
            "WARNING:absl:<keras.layers.recurrent.LSTMCell object at 0x7fcbcc394b90> has the same name 'LSTMCell' as a built-in Keras object. Consider renaming <class 'keras.layers.recurrent.LSTMCell'> to avoid naming conflicts when loading with `tf.keras.models.load_model`. If renaming is not possible, pass the object in the `custom_objects` parameter of the load function.\n"
          ]
        },
        {
          "output_type": "stream",
          "name": "stdout",
          "text": [
            "\b\b\b\b\b\b\b\b\b\b\b\b\b\b\b\b\b\b\b\b\b\b\b\b\b\b\b\b\b\b\b\b\b\b\b\b\b\b\b\b\b\b\b\b\b\b\b\b\b\b\b\b\b\b\b\b\b\b\b\b\b\b\b\r26/26 [==============================] - 5s 152ms/step - loss: 0.0772 - val_loss: 0.0700\n",
            "Epoch 2/100\n",
            "26/26 [==============================] - ETA: 0s - loss: 0.0019"
          ]
        },
        {
          "output_type": "stream",
          "name": "stderr",
          "text": [
            "WARNING:absl:<keras.layers.recurrent.LSTMCell object at 0x7fcbcc394b90> has the same name 'LSTMCell' as a built-in Keras object. Consider renaming <class 'keras.layers.recurrent.LSTMCell'> to avoid naming conflicts when loading with `tf.keras.models.load_model`. If renaming is not possible, pass the object in the `custom_objects` parameter of the load function.\n"
          ]
        },
        {
          "output_type": "stream",
          "name": "stdout",
          "text": [
            "\b\b\b\b\b\b\b\b\b\b\b\b\b\b\b\b\b\b\b\b\b\b\b\b\b\b\b\b\b\b\b\b\b\b\b\b\b\b\b\b\b\b\b\b\b\b\b\b\b\b\b\b\b\b\b\b\b\b\b\b\b\b\b\r26/26 [==============================] - 4s 144ms/step - loss: 0.0019 - val_loss: 0.0520\n",
            "Epoch 3/100\n",
            "26/26 [==============================] - 2s 92ms/step - loss: 8.7313e-04 - val_loss: 0.0902\n",
            "Epoch 4/100\n",
            "26/26 [==============================] - 2s 90ms/step - loss: 6.4828e-04 - val_loss: 0.2764\n",
            "Epoch 5/100\n",
            "26/26 [==============================] - 2s 90ms/step - loss: 5.1753e-04 - val_loss: 0.3960\n",
            "Epoch 6/100\n",
            "26/26 [==============================] - 2s 90ms/step - loss: 4.5471e-04 - val_loss: 0.0600\n",
            "Epoch 7/100\n",
            "26/26 [==============================] - ETA: 0s - loss: 4.1531e-04"
          ]
        },
        {
          "output_type": "stream",
          "name": "stderr",
          "text": [
            "WARNING:absl:<keras.layers.recurrent.LSTMCell object at 0x7fcbcc394b90> has the same name 'LSTMCell' as a built-in Keras object. Consider renaming <class 'keras.layers.recurrent.LSTMCell'> to avoid naming conflicts when loading with `tf.keras.models.load_model`. If renaming is not possible, pass the object in the `custom_objects` parameter of the load function.\n"
          ]
        },
        {
          "output_type": "stream",
          "name": "stdout",
          "text": [
            "\b\b\b\b\b\b\b\b\b\b\b\b\b\b\b\b\b\b\b\b\b\b\b\b\b\b\b\b\b\b\b\b\b\b\b\b\b\b\b\b\b\b\b\b\b\b\b\b\b\b\b\b\b\b\b\b\b\b\b\b\b\b\b\b\b\b\b\r26/26 [==============================] - 4s 154ms/step - loss: 4.1531e-04 - val_loss: 0.0094\n",
            "Epoch 8/100\n",
            "26/26 [==============================] - 2s 92ms/step - loss: 3.6946e-04 - val_loss: 0.0549\n",
            "Epoch 9/100\n",
            "26/26 [==============================] - 2s 91ms/step - loss: 3.4954e-04 - val_loss: 0.0878\n",
            "Epoch 10/100\n",
            "26/26 [==============================] - 2s 90ms/step - loss: 3.3507e-04 - val_loss: 0.1100\n",
            "Epoch 11/100\n",
            "26/26 [==============================] - 2s 95ms/step - loss: 3.5110e-04 - val_loss: 0.1978\n",
            "Epoch 12/100\n",
            "26/26 [==============================] - 2s 94ms/step - loss: 3.4643e-04 - val_loss: 0.2038\n",
            "Epoch 13/100\n",
            "26/26 [==============================] - 2s 90ms/step - loss: 3.2801e-04 - val_loss: 0.1628\n",
            "Epoch 14/100\n",
            "26/26 [==============================] - 2s 91ms/step - loss: 3.0223e-04 - val_loss: 0.1928\n",
            "Epoch 15/100\n",
            "26/26 [==============================] - 2s 90ms/step - loss: 2.9248e-04 - val_loss: 0.2496\n",
            "Epoch 16/100\n",
            "26/26 [==============================] - 2s 90ms/step - loss: 3.0163e-04 - val_loss: 0.2487\n",
            "Epoch 17/100\n",
            "26/26 [==============================] - 2s 90ms/step - loss: 2.9763e-04 - val_loss: 0.2509\n",
            "Epoch 18/100\n",
            "26/26 [==============================] - 2s 91ms/step - loss: 2.9713e-04 - val_loss: 0.2941\n",
            "Epoch 19/100\n",
            "26/26 [==============================] - 2s 90ms/step - loss: 2.9716e-04 - val_loss: 0.2815\n",
            "Epoch 20/100\n",
            "26/26 [==============================] - 2s 90ms/step - loss: 2.8537e-04 - val_loss: 0.3951\n",
            "Epoch 21/100\n",
            "26/26 [==============================] - 2s 91ms/step - loss: 2.7379e-04 - val_loss: 0.3360\n",
            "Epoch 22/100\n",
            "26/26 [==============================] - 2s 90ms/step - loss: 2.8503e-04 - val_loss: 0.4140\n",
            "Epoch 23/100\n",
            "26/26 [==============================] - 2s 91ms/step - loss: 2.7454e-04 - val_loss: 0.3838\n",
            "Epoch 24/100\n",
            "26/26 [==============================] - 2s 90ms/step - loss: 2.6787e-04 - val_loss: 0.3884\n",
            "Epoch 25/100\n",
            "26/26 [==============================] - 2s 92ms/step - loss: 2.7733e-04 - val_loss: 0.4691\n",
            "Epoch 26/100\n",
            "26/26 [==============================] - 2s 90ms/step - loss: 2.7366e-04 - val_loss: 29042.8125\n",
            "Epoch 27/100\n",
            "26/26 [==============================] - 2s 92ms/step - loss: 2.8176e-04 - val_loss: 188351.7969\n",
            "Epoch 28/100\n",
            "26/26 [==============================] - 2s 91ms/step - loss: 2.7719e-04 - val_loss: 46268.3242\n",
            "Epoch 29/100\n",
            "26/26 [==============================] - 2s 90ms/step - loss: 2.6376e-04 - val_loss: 32575520.0000\n",
            "Epoch 30/100\n",
            "26/26 [==============================] - 2s 92ms/step - loss: 2.7880e-04 - val_loss: 0.2590\n",
            "Epoch 31/100\n",
            "26/26 [==============================] - 2s 91ms/step - loss: 2.5402e-04 - val_loss: 625615.6875\n",
            "Epoch 32/100\n",
            "26/26 [==============================] - 2s 91ms/step - loss: 2.7751e-04 - val_loss: 6681752.5000\n",
            "Epoch 33/100\n",
            "26/26 [==============================] - 2s 90ms/step - loss: 2.7746e-04 - val_loss: 475397.7812\n",
            "Epoch 34/100\n",
            "26/26 [==============================] - 2s 91ms/step - loss: 2.5508e-04 - val_loss: 12847527.0000\n",
            "Epoch 35/100\n",
            "26/26 [==============================] - 2s 92ms/step - loss: 2.7128e-04 - val_loss: 426848.5938\n",
            "Epoch 36/100\n",
            "26/26 [==============================] - 2s 90ms/step - loss: 2.6953e-04 - val_loss: 18636202.0000\n",
            "Epoch 37/100\n",
            "26/26 [==============================] - 2s 92ms/step - loss: 2.6432e-04 - val_loss: 3756041.2500\n",
            "Epoch 38/100\n",
            "26/26 [==============================] - 2s 93ms/step - loss: 2.4905e-04 - val_loss: 49169912.0000\n",
            "Epoch 39/100\n",
            "26/26 [==============================] - 2s 92ms/step - loss: 2.7142e-04 - val_loss: 45334532.0000\n",
            "Epoch 40/100\n",
            "26/26 [==============================] - 2s 92ms/step - loss: 2.5822e-04 - val_loss: 8932383.0000\n",
            "Epoch 41/100\n",
            "26/26 [==============================] - 2s 92ms/step - loss: 2.5256e-04 - val_loss: 31880562.0000\n",
            "Epoch 42/100\n",
            "26/26 [==============================] - 2s 93ms/step - loss: 2.5793e-04 - val_loss: 25833112.0000\n",
            "Epoch 43/100\n",
            "26/26 [==============================] - 2s 91ms/step - loss: 2.4448e-04 - val_loss: 76776960.0000\n",
            "Epoch 44/100\n",
            "26/26 [==============================] - 2s 90ms/step - loss: 2.4042e-04 - val_loss: 33010026.0000\n",
            "Epoch 45/100\n",
            "26/26 [==============================] - 2s 90ms/step - loss: 2.3806e-04 - val_loss: 73223664.0000\n",
            "Epoch 46/100\n",
            "26/26 [==============================] - 2s 90ms/step - loss: 2.5688e-04 - val_loss: 19537578.0000\n",
            "Epoch 47/100\n",
            "26/26 [==============================] - 2s 90ms/step - loss: 2.4309e-04 - val_loss: 50979000.0000\n",
            "Epoch 48/100\n",
            "26/26 [==============================] - 2s 92ms/step - loss: 2.5137e-04 - val_loss: 99369024.0000\n",
            "Epoch 49/100\n",
            "26/26 [==============================] - 3s 100ms/step - loss: 2.5986e-04 - val_loss: 15623263.0000\n",
            "Epoch 50/100\n",
            "26/26 [==============================] - 2s 91ms/step - loss: 2.5623e-04 - val_loss: 24823986.0000\n",
            "Epoch 51/100\n",
            "26/26 [==============================] - 2s 92ms/step - loss: 2.4843e-04 - val_loss: 43265640.0000\n",
            "Epoch 52/100\n",
            "26/26 [==============================] - 2s 92ms/step - loss: 2.5225e-04 - val_loss: 40867400.0000\n",
            "Epoch 53/100\n",
            "26/26 [==============================] - 2s 92ms/step - loss: 2.3333e-04 - val_loss: 63402444.0000\n",
            "Epoch 54/100\n",
            "26/26 [==============================] - 2s 92ms/step - loss: 2.4152e-04 - val_loss: 39543780.0000\n",
            "Epoch 55/100\n",
            "26/26 [==============================] - 2s 91ms/step - loss: 2.4147e-04 - val_loss: 59337428.0000\n",
            "Epoch 56/100\n",
            "26/26 [==============================] - 2s 92ms/step - loss: 2.5158e-04 - val_loss: 17831844.0000\n",
            "Epoch 57/100\n",
            "26/26 [==============================] - 2s 91ms/step - loss: 2.3716e-04 - val_loss: 33913384.0000\n",
            "Epoch 58/100\n",
            "26/26 [==============================] - 2s 91ms/step - loss: 2.3248e-04 - val_loss: 74790392.0000\n",
            "Epoch 59/100\n",
            "26/26 [==============================] - 2s 91ms/step - loss: 2.2980e-04 - val_loss: 107167808.0000\n",
            "Epoch 60/100\n",
            "26/26 [==============================] - 2s 91ms/step - loss: 2.4429e-04 - val_loss: 157786944.0000\n",
            "Epoch 61/100\n",
            "26/26 [==============================] - 2s 91ms/step - loss: 2.3468e-04 - val_loss: 54490816.0000\n",
            "Epoch 62/100\n",
            "26/26 [==============================] - 2s 91ms/step - loss: 2.2390e-04 - val_loss: 98033504.0000\n",
            "Epoch 63/100\n",
            "26/26 [==============================] - 2s 92ms/step - loss: 2.3092e-04 - val_loss: 119961760.0000\n",
            "Epoch 64/100\n",
            "26/26 [==============================] - 2s 91ms/step - loss: 2.2530e-04 - val_loss: 27009968.0000\n",
            "Epoch 65/100\n",
            "26/26 [==============================] - 2s 90ms/step - loss: 2.3569e-04 - val_loss: 129445440.0000\n",
            "Epoch 66/100\n",
            "26/26 [==============================] - 2s 90ms/step - loss: 2.2870e-04 - val_loss: 177115536.0000\n",
            "Epoch 67/100\n",
            "26/26 [==============================] - 2s 90ms/step - loss: 2.1526e-04 - val_loss: 134343648.0000\n",
            "Epoch 68/100\n",
            "26/26 [==============================] - 2s 91ms/step - loss: 2.2013e-04 - val_loss: 43212080.0000\n",
            "Epoch 69/100\n",
            "26/26 [==============================] - 2s 92ms/step - loss: 2.2921e-04 - val_loss: 40381112.0000\n",
            "Epoch 70/100\n",
            "26/26 [==============================] - 2s 91ms/step - loss: 2.3241e-04 - val_loss: 47304488.0000\n",
            "Epoch 71/100\n",
            "26/26 [==============================] - 2s 90ms/step - loss: 2.2570e-04 - val_loss: 92682256.0000\n",
            "Epoch 72/100\n",
            "26/26 [==============================] - 2s 93ms/step - loss: 2.2998e-04 - val_loss: 6136998.5000\n",
            "Epoch 73/100\n",
            "26/26 [==============================] - 2s 92ms/step - loss: 2.2099e-04 - val_loss: 67757120.0000\n",
            "Epoch 74/100\n",
            "26/26 [==============================] - 2s 92ms/step - loss: 2.3663e-04 - val_loss: 20381134.0000\n",
            "Epoch 75/100\n",
            "26/26 [==============================] - 2s 91ms/step - loss: 2.2878e-04 - val_loss: 52169120.0000\n",
            "Epoch 76/100\n",
            "26/26 [==============================] - 2s 91ms/step - loss: 2.2350e-04 - val_loss: 17850986.0000\n",
            "Epoch 77/100\n",
            "26/26 [==============================] - 2s 92ms/step - loss: 2.2480e-04 - val_loss: 77108040.0000\n",
            "Epoch 78/100\n",
            "26/26 [==============================] - 2s 91ms/step - loss: 2.1581e-04 - val_loss: 212464896.0000\n",
            "Epoch 79/100\n",
            "26/26 [==============================] - 2s 91ms/step - loss: 2.1655e-04 - val_loss: 275336800.0000\n",
            "Epoch 80/100\n",
            "26/26 [==============================] - 2s 92ms/step - loss: 2.3880e-04 - val_loss: 7080815.0000\n",
            "Epoch 81/100\n",
            "26/26 [==============================] - 2s 91ms/step - loss: 2.1854e-04 - val_loss: 106763616.0000\n",
            "Epoch 82/100\n",
            "26/26 [==============================] - 2s 90ms/step - loss: 2.1068e-04 - val_loss: 42849764.0000\n",
            "Epoch 83/100\n",
            "26/26 [==============================] - 2s 89ms/step - loss: 2.2096e-04 - val_loss: 41877612.0000\n",
            "Epoch 84/100\n",
            "26/26 [==============================] - 2s 91ms/step - loss: 2.2998e-04 - val_loss: 193201632.0000\n",
            "Epoch 85/100\n",
            "26/26 [==============================] - 2s 92ms/step - loss: 2.2132e-04 - val_loss: 47784312.0000\n",
            "Epoch 86/100\n",
            "26/26 [==============================] - 2s 92ms/step - loss: 2.1602e-04 - val_loss: 67608160.0000\n",
            "Epoch 87/100\n",
            "26/26 [==============================] - 2s 92ms/step - loss: 2.1145e-04 - val_loss: 16028930.0000\n",
            "Epoch 88/100\n",
            "26/26 [==============================] - 2s 92ms/step - loss: 2.2525e-04 - val_loss: 1252855.7500\n",
            "Epoch 89/100\n",
            "26/26 [==============================] - 2s 91ms/step - loss: 2.1763e-04 - val_loss: 288090656.0000\n",
            "Epoch 90/100\n",
            "26/26 [==============================] - 2s 92ms/step - loss: 2.1466e-04 - val_loss: 6647775.5000\n",
            "Epoch 91/100\n",
            "26/26 [==============================] - 2s 91ms/step - loss: 2.2564e-04 - val_loss: 23526496.0000\n",
            "Epoch 92/100\n",
            "26/26 [==============================] - 2s 90ms/step - loss: 2.0969e-04 - val_loss: 17821858.0000\n",
            "Epoch 93/100\n",
            "26/26 [==============================] - 2s 91ms/step - loss: 2.1145e-04 - val_loss: 4129055.5000\n",
            "Epoch 94/100\n",
            "26/26 [==============================] - 2s 91ms/step - loss: 2.1421e-04 - val_loss: 3429600.0000\n",
            "Epoch 95/100\n",
            "26/26 [==============================] - 2s 91ms/step - loss: 2.1606e-04 - val_loss: 2892779.5000\n",
            "Epoch 96/100\n",
            "26/26 [==============================] - 2s 90ms/step - loss: 2.0943e-04 - val_loss: 97084.5156\n",
            "Epoch 97/100\n",
            "26/26 [==============================] - 2s 92ms/step - loss: 2.0853e-04 - val_loss: 229643440.0000\n",
            "Epoch 98/100\n",
            "26/26 [==============================] - 2s 92ms/step - loss: 2.1706e-04 - val_loss: 2478104.2500\n",
            "Epoch 99/100\n",
            "26/26 [==============================] - 2s 91ms/step - loss: 2.2777e-04 - val_loss: 19917456.0000\n",
            "Epoch 100/100\n",
            "26/26 [==============================] - 3s 100ms/step - loss: 2.2853e-04 - val_loss: 1013975.8750\n"
          ]
        },
        {
          "output_type": "execute_result",
          "data": {
            "text/plain": [
              "<keras.callbacks.History at 0x7fcbcc468f90>"
            ]
          },
          "metadata": {},
          "execution_count": 50
        }
      ]
    },
    {
      "cell_type": "code",
      "source": [
        "#load the best version of our model\n",
        "model_3=tf.keras.models.load_model(\"model_experiments/model_3\")"
      ],
      "metadata": {
        "colab": {
          "base_uri": "https://localhost:8080/"
        },
        "id": "RoePubimbkW2",
        "outputId": "714b58a0-79b0-434d-fe73-c16a4bba9266"
      },
      "execution_count": 51,
      "outputs": [
        {
          "output_type": "stream",
          "name": "stderr",
          "text": [
            "WARNING:tensorflow:Layer lstm_2 will not use cuDNN kernels since it doesn't meet the criteria. It will use a generic GPU kernel as fallback when running on GPU.\n"
          ]
        }
      ]
    },
    {
      "cell_type": "code",
      "source": [
        "#loading the real price from the scaled test labels\n",
        "model_3_real_stock_price=unscale_labels(model_3_df,test_labels)"
      ],
      "metadata": {
        "id": "zPrPdATLbq-h"
      },
      "execution_count": 52,
      "outputs": []
    },
    {
      "cell_type": "code",
      "source": [
        "#preidict the prices \n",
        "model_3_pred=predict_unscaled(model_3,model_3_df,test_windows)"
      ],
      "metadata": {
        "id": "iWQkNgxIbvXP"
      },
      "execution_count": 53,
      "outputs": []
    },
    {
      "cell_type": "code",
      "source": [
        "model_3_results=evaluate_preds(y_true=model_3_real_stock_price,\n",
        "                               y_pred=model_3_pred)"
      ],
      "metadata": {
        "id": "uu61Xifubzv7"
      },
      "execution_count": 54,
      "outputs": []
    },
    {
      "cell_type": "code",
      "source": [
        "model_3_results"
      ],
      "metadata": {
        "colab": {
          "base_uri": "https://localhost:8080/"
        },
        "id": "I_Ze3n1Nb3SA",
        "outputId": "a1841ea6-59c5-496e-87b3-3918e98081c6"
      },
      "execution_count": 55,
      "outputs": [
        {
          "output_type": "execute_result",
          "data": {
            "text/plain": [
              "{'mae': 2.3101888,\n",
              " 'mse': 10.537363,\n",
              " 'rmse': 3.2461305,\n",
              " 'mape': 2.3749433,\n",
              " 'mase': 1.8186256}"
            ]
          },
          "metadata": {},
          "execution_count": 55
        }
      ]
    },
    {
      "cell_type": "code",
      "source": [
        "plt.figure(figsize=(10, 7))\n",
        "plot_time_series( df=model_3_df,values=model_3_real_stock_price,test_labels_length=len(test_labels) ,format=\"-\", label=\"Google Real stock price\")\n",
        "plot_time_series( model_3_df,values=model_3_pred, format=\"-\",test_labels_length=len(test_labels),  label=\"model 3 predicted price\");"
      ],
      "metadata": {
        "colab": {
          "base_uri": "https://localhost:8080/",
          "height": 442
        },
        "id": "bDHO36gjYVQ4",
        "outputId": "9dae6a95-7cdc-47fd-9833-4ffd9ef8c9f6"
      },
      "execution_count": 79,
      "outputs": [
        {
          "output_type": "display_data",
          "data": {
            "text/plain": [
              "<Figure size 720x504 with 1 Axes>"
            ],
            "image/png": "[encoded data removed]"
          },
          "metadata": {
            "needs_background": "light"
          }
        }
      ]
    },
    {
      "cell_type": "markdown",
      "source": [
        "## MODEl 4"
      ],
      "metadata": {
        "id": "EOFlCZGbfEmN"
      }
    },
    {
      "cell_type": "markdown",
      "source": [
        "in this model we are going to use only the data of the past 5 years in ordr to try if to really old data is irrelevant"
      ],
      "metadata": {
        "id": "GsJrE-LBfHQy"
      }
    },
    {
      "cell_type": "code",
      "source": [
        "# Importinig Google stock data from yahoo finance\n",
        "\n",
        "GoogleStockSymbol='GOOGL'\n",
        "\n",
        "GoogleStockData=yf.Ticker(GoogleStockSymbol)\n",
        "\n",
        "#Get Google stock data\n",
        "\n",
        "model_4_df=GoogleStockData.history(period='1d',start=\"2018-1-1\",end='2022-06-1')\n",
        "\n",
        "#visualising the data\n",
        "model_4_df.head()"
      ],
      "metadata": {
        "colab": {
          "base_uri": "https://localhost:8080/",
          "height": 238
        },
        "id": "ZOFlCjYffGpT",
        "outputId": "88b48aa5-7d96-4e77-97a7-db5cc49335f6"
      },
      "execution_count": 85,
      "outputs": [
        {
          "output_type": "execute_result",
          "data": {
            "text/plain": [
              "                 Open       High        Low      Close    Volume  Dividends  \\\n",
              "Date                                                                          \n",
              "2018-01-02  52.651001  53.799000  52.651001  53.660500  31766000          0   \n",
              "2018-01-03  53.696499  54.805000  53.671501  54.576000  31318000          0   \n",
              "2018-01-04  54.854500  55.203999  54.713001  54.787998  26052000          0   \n",
              "2018-01-05  55.172501  55.679001  55.090000  55.514500  30250000          0   \n",
              "2018-01-08  55.549999  55.958000  55.500000  55.710499  24644000          0   \n",
              "\n",
              "            Stock Splits  \n",
              "Date                      \n",
              "2018-01-02             0  \n",
              "2018-01-03             0  \n",
              "2018-01-04             0  \n",
              "2018-01-05             0  \n",
              "2018-01-08             0  "
            ],
            "text/html": [
              "\n",
              "  <div id=\"df-e37cef2b-4490-4993-845d-d4f5a7734c8d\">\n",
              "    <div class=\"colab-df-container\">\n",
              "      <div>\n",
              "<style scoped>\n",
              "    .dataframe tbody tr th:only-of-type {\n",
              "        vertical-align: middle;\n",
              "    }\n",
              "\n",
              "    .dataframe tbody tr th {\n",
              "        vertical-align: top;\n",
              "    }\n",
              "\n",
              "    .dataframe thead th {\n",
              "        text-align: right;\n",
              "    }\n",
              "</style>\n",
              "<table border=\"1\" class=\"dataframe\">\n",
              "  <thead>\n",
              "    <tr style=\"text-align: right;\">\n",
              "      <th></th>\n",
              "      <th>Open</th>\n",
              "      <th>High</th>\n",
              "      <th>Low</th>\n",
              "      <th>Close</th>\n",
              "      <th>Volume</th>\n",
              "      <th>Dividends</th>\n",
              "      <th>Stock Splits</th>\n",
              "    </tr>\n",
              "    <tr>\n",
              "      <th>Date</th>\n",
              "      <th></th>\n",
              "      <th></th>\n",
              "      <th></th>\n",
              "      <th></th>\n",
              "      <th></th>\n",
              "      <th></th>\n",
              "      <th></th>\n",
              "    </tr>\n",
              "  </thead>\n",
              "  <tbody>\n",
              "    <tr>\n",
              "      <th>2018-01-02</th>\n",
              "      <td>52.651001</td>\n",
              "      <td>53.799000</td>\n",
              "      <td>52.651001</td>\n",
              "      <td>53.660500</td>\n",
              "      <td>31766000</td>\n",
              "      <td>0</td>\n",
              "      <td>0</td>\n",
              "    </tr>\n",
              "    <tr>\n",
              "      <th>2018-01-03</th>\n",
              "      <td>53.696499</td>\n",
              "      <td>54.805000</td>\n",
              "      <td>53.671501</td>\n",
              "      <td>54.576000</td>\n",
              "      <td>31318000</td>\n",
              "      <td>0</td>\n",
              "      <td>0</td>\n",
              "    </tr>\n",
              "    <tr>\n",
              "      <th>2018-01-04</th>\n",
              "      <td>54.854500</td>\n",
              "      <td>55.203999</td>\n",
              "      <td>54.713001</td>\n",
              "      <td>54.787998</td>\n",
              "      <td>26052000</td>\n",
              "      <td>0</td>\n",
              "      <td>0</td>\n",
              "    </tr>\n",
              "    <tr>\n",
              "      <th>2018-01-05</th>\n",
              "      <td>55.172501</td>\n",
              "      <td>55.679001</td>\n",
              "      <td>55.090000</td>\n",
              "      <td>55.514500</td>\n",
              "      <td>30250000</td>\n",
              "      <td>0</td>\n",
              "      <td>0</td>\n",
              "    </tr>\n",
              "    <tr>\n",
              "      <th>2018-01-08</th>\n",
              "      <td>55.549999</td>\n",
              "      <td>55.958000</td>\n",
              "      <td>55.500000</td>\n",
              "      <td>55.710499</td>\n",
              "      <td>24644000</td>\n",
              "      <td>0</td>\n",
              "      <td>0</td>\n",
              "    </tr>\n",
              "  </tbody>\n",
              "</table>\n",
              "</div>\n",
              "      <button class=\"colab-df-convert\" onclick=\"convertToInteractive('df-e37cef2b-4490-4993-845d-d4f5a7734c8d')\"\n",
              "              title=\"Convert this dataframe to an interactive table.\"\n",
              "              style=\"display:none;\">\n",
              "        \n",
              "  <svg xmlns=\"http://www.w3.org/2000/svg\" height=\"24px\"viewBox=\"0 0 24 24\"\n",
              "       width=\"24px\">\n",
              "    <path d=\"M0 0h24v24H0V0z\" fill=\"none\"/>\n",
              "    <path d=\"M18.56 5.44l.94 2.06.94-2.06 2.06-.94-2.06-.94-.94-2.06-.94 2.06-2.06.94zm-11 1L8.5 8.5l.94-2.06 2.06-.94-2.06-.94L8.5 2.5l-.94 2.06-2.06.94zm10 10l.94 2.06.94-2.06 2.06-.94-2.06-.94-.94-2.06-.94 2.06-2.06.94z\"/><path d=\"M17.41 7.96l-1.37-1.37c-.4-.4-.92-.59-1.43-.59-.52 0-1.04.2-1.43.59L10.3 9.45l-7.72 7.72c-.78.78-.78 2.05 0 2.83L4 21.41c.39.39.9.59 1.41.59.51 0 1.02-.2 1.41-.59l7.78-7.78 2.81-2.81c.8-.78.8-2.07 0-2.86zM5.41 20L4 18.59l7.72-7.72 1.47 1.35L5.41 20z\"/>\n",
              "  </svg>\n",
              "      </button>\n",
              "      \n",
              "  <style>\n",
              "    .colab-df-container {\n",
              "      display:flex;\n",
              "      flex-wrap:wrap;\n",
              "      gap: 12px;\n",
              "    }\n",
              "\n",
              "    .colab-df-convert {\n",
              "      background-color: #E8F0FE;\n",
              "      border: none;\n",
              "      border-radius: 50%;\n",
              "      cursor: pointer;\n",
              "      display: none;\n",
              "      fill: #1967D2;\n",
              "      height: 32px;\n",
              "      padding: 0 0 0 0;\n",
              "      width: 32px;\n",
              "    }\n",
              "\n",
              "    .colab-df-convert:hover {\n",
              "      background-color: #E2EBFA;\n",
              "      box-shadow: 0px 1px 2px rgba(60, 64, 67, 0.3), 0px 1px 3px 1px rgba(60, 64, 67, 0.15);\n",
              "      fill: #174EA6;\n",
              "    }\n",
              "\n",
              "    [theme=dark] .colab-df-convert {\n",
              "      background-color: #3B4455;\n",
              "      fill: #D2E3FC;\n",
              "    }\n",
              "\n",
              "    [theme=dark] .colab-df-convert:hover {\n",
              "      background-color: #434B5C;\n",
              "      box-shadow: 0px 1px 3px 1px rgba(0, 0, 0, 0.15);\n",
              "      filter: drop-shadow(0px 1px 2px rgba(0, 0, 0, 0.3));\n",
              "      fill: #FFFFFF;\n",
              "    }\n",
              "  </style>\n",
              "\n",
              "      <script>\n",
              "        const buttonEl =\n",
              "          document.querySelector('#df-e37cef2b-4490-4993-845d-d4f5a7734c8d button.colab-df-convert');\n",
              "        buttonEl.style.display =\n",
              "          google.colab.kernel.accessAllowed ? 'block' : 'none';\n",
              "\n",
              "        async function convertToInteractive(key) {\n",
              "          const element = document.querySelector('#df-e37cef2b-4490-4993-845d-d4f5a7734c8d');\n",
              "          const dataTable =\n",
              "            await google.colab.kernel.invokeFunction('convertToInteractive',\n",
              "                                                     [key], {});\n",
              "          if (!dataTable) return;\n",
              "\n",
              "          const docLinkHtml = 'Like what you see? Visit the ' +\n",
              "            '<a target=\"_blank\" href=https://colab.research.google.com/notebooks/data_table.ipynb>data table notebook</a>'\n",
              "            + ' to learn more about interactive tables.';\n",
              "          element.innerHTML = '';\n",
              "          dataTable['output_type'] = 'display_data';\n",
              "          await google.colab.output.renderOutput(dataTable, element);\n",
              "          const docLink = document.createElement('div');\n",
              "          docLink.innerHTML = docLinkHtml;\n",
              "          element.appendChild(docLink);\n",
              "        }\n",
              "      </script>\n",
              "    </div>\n",
              "  </div>\n",
              "  "
            ]
          },
          "metadata": {},
          "execution_count": 85
        }
      ]
    },
    {
      "cell_type": "code",
      "source": [
        "model_4_df=pd.DataFrame(model_4_df[['Open','High','Low','Close']])\n",
        "model_4_df.head()\n"
      ],
      "metadata": {
        "colab": {
          "base_uri": "https://localhost:8080/",
          "height": 238
        },
        "id": "EVzhDeV9fEA4",
        "outputId": "6e94ec31-b556-447c-f4c7-dac7a55e2229"
      },
      "execution_count": 86,
      "outputs": [
        {
          "output_type": "execute_result",
          "data": {
            "text/plain": [
              "                 Open       High        Low      Close\n",
              "Date                                                  \n",
              "2018-01-02  52.651001  53.799000  52.651001  53.660500\n",
              "2018-01-03  53.696499  54.805000  53.671501  54.576000\n",
              "2018-01-04  54.854500  55.203999  54.713001  54.787998\n",
              "2018-01-05  55.172501  55.679001  55.090000  55.514500\n",
              "2018-01-08  55.549999  55.958000  55.500000  55.710499"
            ],
            "text/html": [
              "\n",
              "  <div id=\"df-41d5a969-8a1d-4b2c-96ef-faea8d2b3098\">\n",
              "    <div class=\"colab-df-container\">\n",
              "      <div>\n",
              "<style scoped>\n",
              "    .dataframe tbody tr th:only-of-type {\n",
              "        vertical-align: middle;\n",
              "    }\n",
              "\n",
              "    .dataframe tbody tr th {\n",
              "        vertical-align: top;\n",
              "    }\n",
              "\n",
              "    .dataframe thead th {\n",
              "        text-align: right;\n",
              "    }\n",
              "</style>\n",
              "<table border=\"1\" class=\"dataframe\">\n",
              "  <thead>\n",
              "    <tr style=\"text-align: right;\">\n",
              "      <th></th>\n",
              "      <th>Open</th>\n",
              "      <th>High</th>\n",
              "      <th>Low</th>\n",
              "      <th>Close</th>\n",
              "    </tr>\n",
              "    <tr>\n",
              "      <th>Date</th>\n",
              "      <th></th>\n",
              "      <th></th>\n",
              "      <th></th>\n",
              "      <th></th>\n",
              "    </tr>\n",
              "  </thead>\n",
              "  <tbody>\n",
              "    <tr>\n",
              "      <th>2018-01-02</th>\n",
              "      <td>52.651001</td>\n",
              "      <td>53.799000</td>\n",
              "      <td>52.651001</td>\n",
              "      <td>53.660500</td>\n",
              "    </tr>\n",
              "    <tr>\n",
              "      <th>2018-01-03</th>\n",
              "      <td>53.696499</td>\n",
              "      <td>54.805000</td>\n",
              "      <td>53.671501</td>\n",
              "      <td>54.576000</td>\n",
              "    </tr>\n",
              "    <tr>\n",
              "      <th>2018-01-04</th>\n",
              "      <td>54.854500</td>\n",
              "      <td>55.203999</td>\n",
              "      <td>54.713001</td>\n",
              "      <td>54.787998</td>\n",
              "    </tr>\n",
              "    <tr>\n",
              "      <th>2018-01-05</th>\n",
              "      <td>55.172501</td>\n",
              "      <td>55.679001</td>\n",
              "      <td>55.090000</td>\n",
              "      <td>55.514500</td>\n",
              "    </tr>\n",
              "    <tr>\n",
              "      <th>2018-01-08</th>\n",
              "      <td>55.549999</td>\n",
              "      <td>55.958000</td>\n",
              "      <td>55.500000</td>\n",
              "      <td>55.710499</td>\n",
              "    </tr>\n",
              "  </tbody>\n",
              "</table>\n",
              "</div>\n",
              "      <button class=\"colab-df-convert\" onclick=\"convertToInteractive('df-41d5a969-8a1d-4b2c-96ef-faea8d2b3098')\"\n",
              "              title=\"Convert this dataframe to an interactive table.\"\n",
              "              style=\"display:none;\">\n",
              "        \n",
              "  <svg xmlns=\"http://www.w3.org/2000/svg\" height=\"24px\"viewBox=\"0 0 24 24\"\n",
              "       width=\"24px\">\n",
              "    <path d=\"M0 0h24v24H0V0z\" fill=\"none\"/>\n",
              "    <path d=\"M18.56 5.44l.94 2.06.94-2.06 2.06-.94-2.06-.94-.94-2.06-.94 2.06-2.06.94zm-11 1L8.5 8.5l.94-2.06 2.06-.94-2.06-.94L8.5 2.5l-.94 2.06-2.06.94zm10 10l.94 2.06.94-2.06 2.06-.94-2.06-.94-.94-2.06-.94 2.06-2.06.94z\"/><path d=\"M17.41 7.96l-1.37-1.37c-.4-.4-.92-.59-1.43-.59-.52 0-1.04.2-1.43.59L10.3 9.45l-7.72 7.72c-.78.78-.78 2.05 0 2.83L4 21.41c.39.39.9.59 1.41.59.51 0 1.02-.2 1.41-.59l7.78-7.78 2.81-2.81c.8-.78.8-2.07 0-2.86zM5.41 20L4 18.59l7.72-7.72 1.47 1.35L5.41 20z\"/>\n",
              "  </svg>\n",
              "      </button>\n",
              "      \n",
              "  <style>\n",
              "    .colab-df-container {\n",
              "      display:flex;\n",
              "      flex-wrap:wrap;\n",
              "      gap: 12px;\n",
              "    }\n",
              "\n",
              "    .colab-df-convert {\n",
              "      background-color: #E8F0FE;\n",
              "      border: none;\n",
              "      border-radius: 50%;\n",
              "      cursor: pointer;\n",
              "      display: none;\n",
              "      fill: #1967D2;\n",
              "      height: 32px;\n",
              "      padding: 0 0 0 0;\n",
              "      width: 32px;\n",
              "    }\n",
              "\n",
              "    .colab-df-convert:hover {\n",
              "      background-color: #E2EBFA;\n",
              "      box-shadow: 0px 1px 2px rgba(60, 64, 67, 0.3), 0px 1px 3px 1px rgba(60, 64, 67, 0.15);\n",
              "      fill: #174EA6;\n",
              "    }\n",
              "\n",
              "    [theme=dark] .colab-df-convert {\n",
              "      background-color: #3B4455;\n",
              "      fill: #D2E3FC;\n",
              "    }\n",
              "\n",
              "    [theme=dark] .colab-df-convert:hover {\n",
              "      background-color: #434B5C;\n",
              "      box-shadow: 0px 1px 3px 1px rgba(0, 0, 0, 0.15);\n",
              "      filter: drop-shadow(0px 1px 2px rgba(0, 0, 0, 0.3));\n",
              "      fill: #FFFFFF;\n",
              "    }\n",
              "  </style>\n",
              "\n",
              "      <script>\n",
              "        const buttonEl =\n",
              "          document.querySelector('#df-41d5a969-8a1d-4b2c-96ef-faea8d2b3098 button.colab-df-convert');\n",
              "        buttonEl.style.display =\n",
              "          google.colab.kernel.accessAllowed ? 'block' : 'none';\n",
              "\n",
              "        async function convertToInteractive(key) {\n",
              "          const element = document.querySelector('#df-41d5a969-8a1d-4b2c-96ef-faea8d2b3098');\n",
              "          const dataTable =\n",
              "            await google.colab.kernel.invokeFunction('convertToInteractive',\n",
              "                                                     [key], {});\n",
              "          if (!dataTable) return;\n",
              "\n",
              "          const docLinkHtml = 'Like what you see? Visit the ' +\n",
              "            '<a target=\"_blank\" href=https://colab.research.google.com/notebooks/data_table.ipynb>data table notebook</a>'\n",
              "            + ' to learn more about interactive tables.';\n",
              "          element.innerHTML = '';\n",
              "          dataTable['output_type'] = 'display_data';\n",
              "          await google.colab.output.renderOutput(dataTable, element);\n",
              "          const docLink = document.createElement('div');\n",
              "          docLink.innerHTML = docLinkHtml;\n",
              "          element.appendChild(docLink);\n",
              "        }\n",
              "      </script>\n",
              "    </div>\n",
              "  </div>\n",
              "  "
            ]
          },
          "metadata": {},
          "execution_count": 86
        }
      ]
    },
    {
      "cell_type": "code",
      "source": [
        "train_windows, train_labels, test_windows,test_labels=make_windows(model_4_df)"
      ],
      "metadata": {
        "id": "9zk8OPE0fkWi"
      },
      "execution_count": 87,
      "outputs": []
    },
    {
      "cell_type": "code",
      "source": [
        "model_4=Sequential()\n",
        "model_4.add(LSTM(128, activation='relu', input_shape=(train_windows.shape[1], train_windows.shape[2])))\n",
        "model_4.add(Dense(test_labels.shape[1]))\n",
        "model_4.compile(optimizer='adam', loss='mse')"
      ],
      "metadata": {
        "colab": {
          "base_uri": "https://localhost:8080/"
        },
        "id": "2LRO4NgpfphB",
        "outputId": "ec1e9c61-4210-49ba-e433-315b55f98a25"
      },
      "execution_count": 88,
      "outputs": [
        {
          "output_type": "stream",
          "name": "stderr",
          "text": [
            "WARNING:tensorflow:Layer lstm_3 will not use cuDNN kernels since it doesn't meet the criteria. It will use a generic GPU kernel as fallback when running on GPU.\n"
          ]
        }
      ]
    },
    {
      "cell_type": "code",
      "source": [
        "model_4.fit(train_windows,\n",
        "            train_labels,\n",
        "            epochs=100,\n",
        "            verbose=1,\n",
        "            batch_size=128,\n",
        "            validation_data=(test_windows, test_labels),\n",
        "            callbacks=[create_model_checkpoint(model_name=\"model_4\")])"
      ],
      "metadata": {
        "colab": {
          "base_uri": "https://localhost:8080/"
        },
        "id": "OMAk6PE2fw3P",
        "outputId": "f1dac405-8ecf-49ac-eb80-0e3087728ca3"
      },
      "execution_count": 89,
      "outputs": [
        {
          "output_type": "stream",
          "name": "stdout",
          "text": [
            "Epoch 1/100\n",
            "7/7 [==============================] - ETA: 0s - loss: 0.2889"
          ]
        },
        {
          "output_type": "stream",
          "name": "stderr",
          "text": [
            "WARNING:absl:<keras.layers.recurrent.LSTMCell object at 0x7fcbbcb26190> has the same name 'LSTMCell' as a built-in Keras object. Consider renaming <class 'keras.layers.recurrent.LSTMCell'> to avoid naming conflicts when loading with `tf.keras.models.load_model`. If renaming is not possible, pass the object in the `custom_objects` parameter of the load function.\n"
          ]
        },
        {
          "output_type": "stream",
          "name": "stdout",
          "text": [
            "\b\b\b\b\b\b\b\b\b\b\b\b\b\b\b\b\b\b\b\b\b\b\b\b\b\b\b\b\b\b\b\b\b\b\b\b\b\b\b\b\b\b\b\b\b\b\b\b\b\b\b\b\b\b\b\b\b\b\b\b\b\r7/7 [==============================] - 4s 406ms/step - loss: 0.2889 - val_loss: 0.2565\n",
            "Epoch 2/100\n",
            "7/7 [==============================] - 1s 97ms/step - loss: 0.0374 - val_loss: 7072.7681\n",
            "Epoch 3/100\n",
            "7/7 [==============================] - ETA: 0s - loss: 0.0097"
          ]
        },
        {
          "output_type": "stream",
          "name": "stderr",
          "text": [
            "WARNING:absl:<keras.layers.recurrent.LSTMCell object at 0x7fcbbcb26190> has the same name 'LSTMCell' as a built-in Keras object. Consider renaming <class 'keras.layers.recurrent.LSTMCell'> to avoid naming conflicts when loading with `tf.keras.models.load_model`. If renaming is not possible, pass the object in the `custom_objects` parameter of the load function.\n"
          ]
        },
        {
          "output_type": "stream",
          "name": "stdout",
          "text": [
            "\b\b\b\b\b\b\b\b\b\b\b\b\b\b\b\b\b\b\b\b\b\b\b\b\b\b\b\b\b\b\b\b\b\b\b\b\b\b\b\b\b\b\b\b\b\b\b\b\b\b\b\b\b\b\b\b\b\b\b\b\b\r7/7 [==============================] - 2s 316ms/step - loss: 0.0097 - val_loss: 0.1635\n",
            "Epoch 4/100\n",
            "7/7 [==============================] - 1s 98ms/step - loss: 0.0113 - val_loss: 0.2117\n",
            "Epoch 5/100\n",
            "7/7 [==============================] - 1s 95ms/step - loss: 0.0053 - val_loss: 0.3374\n",
            "Epoch 6/100\n",
            "7/7 [==============================] - ETA: 0s - loss: 0.0047"
          ]
        },
        {
          "output_type": "stream",
          "name": "stderr",
          "text": [
            "WARNING:absl:<keras.layers.recurrent.LSTMCell object at 0x7fcbbcb26190> has the same name 'LSTMCell' as a built-in Keras object. Consider renaming <class 'keras.layers.recurrent.LSTMCell'> to avoid naming conflicts when loading with `tf.keras.models.load_model`. If renaming is not possible, pass the object in the `custom_objects` parameter of the load function.\n"
          ]
        },
        {
          "output_type": "stream",
          "name": "stdout",
          "text": [
            "\b\b\b\b\b\b\b\b\b\b\b\b\b\b\b\b\b\b\b\b\b\b\b\b\b\b\b\b\b\b\b\b\b\b\b\b\b\b\b\b\b\b\b\b\b\b\b\b\b\b\b\b\b\b\b\b\b\b\b\b\b\r7/7 [==============================] - 2s 320ms/step - loss: 0.0047 - val_loss: 0.1492\n",
            "Epoch 7/100\n",
            "7/7 [==============================] - ETA: 0s - loss: 0.0043"
          ]
        },
        {
          "output_type": "stream",
          "name": "stderr",
          "text": [
            "WARNING:absl:<keras.layers.recurrent.LSTMCell object at 0x7fcbbcb26190> has the same name 'LSTMCell' as a built-in Keras object. Consider renaming <class 'keras.layers.recurrent.LSTMCell'> to avoid naming conflicts when loading with `tf.keras.models.load_model`. If renaming is not possible, pass the object in the `custom_objects` parameter of the load function.\n"
          ]
        },
        {
          "output_type": "stream",
          "name": "stdout",
          "text": [
            "\b\b\b\b\b\b\b\b\b\b\b\b\b\b\b\b\b\b\b\b\b\b\b\b\b\b\b\b\b\b\b\b\b\b\b\b\b\b\b\b\b\b\b\b\b\b\b\b\b\b\b\b\b\b\b\b\b\b\b\b\b\r7/7 [==============================] - 2s 377ms/step - loss: 0.0043 - val_loss: 0.1163\n",
            "Epoch 8/100\n",
            "7/7 [==============================] - 1s 95ms/step - loss: 0.0039 - val_loss: 0.1232\n",
            "Epoch 9/100\n",
            "7/7 [==============================] - ETA: 0s - loss: 0.0036"
          ]
        },
        {
          "output_type": "stream",
          "name": "stderr",
          "text": [
            "WARNING:absl:<keras.layers.recurrent.LSTMCell object at 0x7fcbbcb26190> has the same name 'LSTMCell' as a built-in Keras object. Consider renaming <class 'keras.layers.recurrent.LSTMCell'> to avoid naming conflicts when loading with `tf.keras.models.load_model`. If renaming is not possible, pass the object in the `custom_objects` parameter of the load function.\n"
          ]
        },
        {
          "output_type": "stream",
          "name": "stdout",
          "text": [
            "\b\b\b\b\b\b\b\b\b\b\b\b\b\b\b\b\b\b\b\b\b\b\b\b\b\b\b\b\b\b\b\b\b\b\b\b\b\b\b\b\b\b\b\b\b\b\b\b\b\b\b\b\b\b\b\b\b\b\b\b\b\r7/7 [==============================] - 2s 327ms/step - loss: 0.0036 - val_loss: 0.1161\n",
            "Epoch 10/100\n",
            "7/7 [==============================] - ETA: 0s - loss: 0.0033"
          ]
        },
        {
          "output_type": "stream",
          "name": "stderr",
          "text": [
            "WARNING:absl:<keras.layers.recurrent.LSTMCell object at 0x7fcbbcb26190> has the same name 'LSTMCell' as a built-in Keras object. Consider renaming <class 'keras.layers.recurrent.LSTMCell'> to avoid naming conflicts when loading with `tf.keras.models.load_model`. If renaming is not possible, pass the object in the `custom_objects` parameter of the load function.\n"
          ]
        },
        {
          "output_type": "stream",
          "name": "stdout",
          "text": [
            "\b\b\b\b\b\b\b\b\b\b\b\b\b\b\b\b\b\b\b\b\b\b\b\b\b\b\b\b\b\b\b\b\b\b\b\b\b\b\b\b\b\b\b\b\b\b\b\b\b\b\b\b\b\b\b\b\b\b\b\b\b\r7/7 [==============================] - 2s 322ms/step - loss: 0.0033 - val_loss: 0.0994\n",
            "Epoch 11/100\n",
            "7/7 [==============================] - ETA: 0s - loss: 0.0032"
          ]
        },
        {
          "output_type": "stream",
          "name": "stderr",
          "text": [
            "WARNING:absl:<keras.layers.recurrent.LSTMCell object at 0x7fcbbcb26190> has the same name 'LSTMCell' as a built-in Keras object. Consider renaming <class 'keras.layers.recurrent.LSTMCell'> to avoid naming conflicts when loading with `tf.keras.models.load_model`. If renaming is not possible, pass the object in the `custom_objects` parameter of the load function.\n"
          ]
        },
        {
          "output_type": "stream",
          "name": "stdout",
          "text": [
            "\b\b\b\b\b\b\b\b\b\b\b\b\b\b\b\b\b\b\b\b\b\b\b\b\b\b\b\b\b\b\b\b\b\b\b\b\b\b\b\b\b\b\b\b\b\b\b\b\b\b\b\b\b\b\b\b\b\b\b\b\b\r7/7 [==============================] - 2s 319ms/step - loss: 0.0032 - val_loss: 0.0777\n",
            "Epoch 12/100\n",
            "7/7 [==============================] - 1s 95ms/step - loss: 0.0031 - val_loss: 0.0978\n",
            "Epoch 13/100\n",
            "7/7 [==============================] - ETA: 0s - loss: 0.0030"
          ]
        },
        {
          "output_type": "stream",
          "name": "stderr",
          "text": [
            "WARNING:absl:<keras.layers.recurrent.LSTMCell object at 0x7fcbbcb26190> has the same name 'LSTMCell' as a built-in Keras object. Consider renaming <class 'keras.layers.recurrent.LSTMCell'> to avoid naming conflicts when loading with `tf.keras.models.load_model`. If renaming is not possible, pass the object in the `custom_objects` parameter of the load function.\n"
          ]
        },
        {
          "output_type": "stream",
          "name": "stdout",
          "text": [
            "\b\b\b\b\b\b\b\b\b\b\b\b\b\b\b\b\b\b\b\b\b\b\b\b\b\b\b\b\b\b\b\b\b\b\b\b\b\b\b\b\b\b\b\b\b\b\b\b\b\b\b\b\b\b\b\b\b\b\b\b\b\r7/7 [==============================] - 2s 327ms/step - loss: 0.0030 - val_loss: 0.0760\n",
            "Epoch 14/100\n",
            "7/7 [==============================] - ETA: 0s - loss: 0.0029"
          ]
        },
        {
          "output_type": "stream",
          "name": "stderr",
          "text": [
            "WARNING:absl:<keras.layers.recurrent.LSTMCell object at 0x7fcbbcb26190> has the same name 'LSTMCell' as a built-in Keras object. Consider renaming <class 'keras.layers.recurrent.LSTMCell'> to avoid naming conflicts when loading with `tf.keras.models.load_model`. If renaming is not possible, pass the object in the `custom_objects` parameter of the load function.\n"
          ]
        },
        {
          "output_type": "stream",
          "name": "stdout",
          "text": [
            "\b\b\b\b\b\b\b\b\b\b\b\b\b\b\b\b\b\b\b\b\b\b\b\b\b\b\b\b\b\b\b\b\b\b\b\b\b\b\b\b\b\b\b\b\b\b\b\b\b\b\b\b\b\b\b\b\b\b\b\b\b\r7/7 [==============================] - 2s 386ms/step - loss: 0.0029 - val_loss: 0.0626\n",
            "Epoch 15/100\n",
            "7/7 [==============================] - ETA: 0s - loss: 0.0028"
          ]
        },
        {
          "output_type": "stream",
          "name": "stderr",
          "text": [
            "WARNING:absl:<keras.layers.recurrent.LSTMCell object at 0x7fcbbcb26190> has the same name 'LSTMCell' as a built-in Keras object. Consider renaming <class 'keras.layers.recurrent.LSTMCell'> to avoid naming conflicts when loading with `tf.keras.models.load_model`. If renaming is not possible, pass the object in the `custom_objects` parameter of the load function.\n"
          ]
        },
        {
          "output_type": "stream",
          "name": "stdout",
          "text": [
            "\b\b\b\b\b\b\b\b\b\b\b\b\b\b\b\b\b\b\b\b\b\b\b\b\b\b\b\b\b\b\b\b\b\b\b\b\b\b\b\b\b\b\b\b\b\b\b\b\b\b\b\b\b\b\b\b\b\b\b\b\b\r7/7 [==============================] - 2s 326ms/step - loss: 0.0028 - val_loss: 0.0207\n",
            "Epoch 16/100\n",
            "7/7 [==============================] - 1s 97ms/step - loss: 0.0027 - val_loss: 0.0302\n",
            "Epoch 17/100\n",
            "7/7 [==============================] - ETA: 0s - loss: 0.0027"
          ]
        },
        {
          "output_type": "stream",
          "name": "stderr",
          "text": [
            "WARNING:absl:<keras.layers.recurrent.LSTMCell object at 0x7fcbbcb26190> has the same name 'LSTMCell' as a built-in Keras object. Consider renaming <class 'keras.layers.recurrent.LSTMCell'> to avoid naming conflicts when loading with `tf.keras.models.load_model`. If renaming is not possible, pass the object in the `custom_objects` parameter of the load function.\n"
          ]
        },
        {
          "output_type": "stream",
          "name": "stdout",
          "text": [
            "\b\b\b\b\b\b\b\b\b\b\b\b\b\b\b\b\b\b\b\b\b\b\b\b\b\b\b\b\b\b\b\b\b\b\b\b\b\b\b\b\b\b\b\b\b\b\b\b\b\b\b\b\b\b\b\b\b\b\b\b\b\r7/7 [==============================] - 2s 324ms/step - loss: 0.0027 - val_loss: 0.0153\n",
            "Epoch 18/100\n",
            "7/7 [==============================] - ETA: 0s - loss: 0.0026"
          ]
        },
        {
          "output_type": "stream",
          "name": "stderr",
          "text": [
            "WARNING:absl:<keras.layers.recurrent.LSTMCell object at 0x7fcbbcb26190> has the same name 'LSTMCell' as a built-in Keras object. Consider renaming <class 'keras.layers.recurrent.LSTMCell'> to avoid naming conflicts when loading with `tf.keras.models.load_model`. If renaming is not possible, pass the object in the `custom_objects` parameter of the load function.\n"
          ]
        },
        {
          "output_type": "stream",
          "name": "stdout",
          "text": [
            "\b\b\b\b\b\b\b\b\b\b\b\b\b\b\b\b\b\b\b\b\b\b\b\b\b\b\b\b\b\b\b\b\b\b\b\b\b\b\b\b\b\b\b\b\b\b\b\b\b\b\b\b\b\b\b\b\b\b\b\b\b\r7/7 [==============================] - 2s 327ms/step - loss: 0.0026 - val_loss: 0.0127\n",
            "Epoch 19/100\n",
            "7/7 [==============================] - 1s 96ms/step - loss: 0.0027 - val_loss: 0.0143\n",
            "Epoch 20/100\n",
            "7/7 [==============================] - 1s 96ms/step - loss: 0.0026 - val_loss: 0.0136\n",
            "Epoch 21/100\n",
            "7/7 [==============================] - 1s 96ms/step - loss: 0.0025 - val_loss: 0.0134\n",
            "Epoch 22/100\n",
            "7/7 [==============================] - 1s 96ms/step - loss: 0.0028 - val_loss: 0.0162\n",
            "Epoch 23/100\n",
            "7/7 [==============================] - 1s 97ms/step - loss: 0.0027 - val_loss: 0.0187\n",
            "Epoch 24/100\n",
            "7/7 [==============================] - 1s 97ms/step - loss: 0.0027 - val_loss: 0.0154\n",
            "Epoch 25/100\n",
            "7/7 [==============================] - 1s 96ms/step - loss: 0.0027 - val_loss: 0.0180\n",
            "Epoch 26/100\n",
            "7/7 [==============================] - 1s 94ms/step - loss: 0.0026 - val_loss: 0.0145\n",
            "Epoch 27/100\n",
            "7/7 [==============================] - 1s 96ms/step - loss: 0.0025 - val_loss: 0.0140\n",
            "Epoch 28/100\n",
            "7/7 [==============================] - 1s 97ms/step - loss: 0.0025 - val_loss: 0.0129\n",
            "Epoch 29/100\n",
            "7/7 [==============================] - 1s 93ms/step - loss: 0.0024 - val_loss: 0.0158\n",
            "Epoch 30/100\n",
            "7/7 [==============================] - 1s 95ms/step - loss: 0.0025 - val_loss: 0.0131\n",
            "Epoch 31/100\n",
            "7/7 [==============================] - ETA: 0s - loss: 0.0026"
          ]
        },
        {
          "output_type": "stream",
          "name": "stderr",
          "text": [
            "WARNING:absl:<keras.layers.recurrent.LSTMCell object at 0x7fcbbcb26190> has the same name 'LSTMCell' as a built-in Keras object. Consider renaming <class 'keras.layers.recurrent.LSTMCell'> to avoid naming conflicts when loading with `tf.keras.models.load_model`. If renaming is not possible, pass the object in the `custom_objects` parameter of the load function.\n"
          ]
        },
        {
          "output_type": "stream",
          "name": "stdout",
          "text": [
            "\b\b\b\b\b\b\b\b\b\b\b\b\b\b\b\b\b\b\b\b\b\b\b\b\b\b\b\b\b\b\b\b\b\b\b\b\b\b\b\b\b\b\b\b\b\b\b\b\b\b\b\b\b\b\b\b\b\b\b\b\b\r7/7 [==============================] - 2s 321ms/step - loss: 0.0026 - val_loss: 0.0127\n",
            "Epoch 32/100\n",
            "7/7 [==============================] - 1s 94ms/step - loss: 0.0025 - val_loss: 0.0159\n",
            "Epoch 33/100\n",
            "7/7 [==============================] - 1s 97ms/step - loss: 0.0025 - val_loss: 0.0129\n",
            "Epoch 34/100\n",
            "7/7 [==============================] - 1s 95ms/step - loss: 0.0024 - val_loss: 0.0136\n",
            "Epoch 35/100\n",
            "7/7 [==============================] - 1s 94ms/step - loss: 0.0024 - val_loss: 0.0137\n",
            "Epoch 36/100\n",
            "7/7 [==============================] - ETA: 0s - loss: 0.0025"
          ]
        },
        {
          "output_type": "stream",
          "name": "stderr",
          "text": [
            "WARNING:absl:<keras.layers.recurrent.LSTMCell object at 0x7fcbbcb26190> has the same name 'LSTMCell' as a built-in Keras object. Consider renaming <class 'keras.layers.recurrent.LSTMCell'> to avoid naming conflicts when loading with `tf.keras.models.load_model`. If renaming is not possible, pass the object in the `custom_objects` parameter of the load function.\n"
          ]
        },
        {
          "output_type": "stream",
          "name": "stdout",
          "text": [
            "\b\b\b\b\b\b\b\b\b\b\b\b\b\b\b\b\b\b\b\b\b\b\b\b\b\b\b\b\b\b\b\b\b\b\b\b\b\b\b\b\b\b\b\b\b\b\b\b\b\b\b\b\b\b\b\b\b\b\b\b\b\r7/7 [==============================] - 2s 388ms/step - loss: 0.0025 - val_loss: 0.0122\n",
            "Epoch 37/100\n",
            "7/7 [==============================] - 1s 95ms/step - loss: 0.0025 - val_loss: 0.0136\n",
            "Epoch 38/100\n",
            "7/7 [==============================] - ETA: 0s - loss: 0.0026"
          ]
        },
        {
          "output_type": "stream",
          "name": "stderr",
          "text": [
            "WARNING:absl:<keras.layers.recurrent.LSTMCell object at 0x7fcbbcb26190> has the same name 'LSTMCell' as a built-in Keras object. Consider renaming <class 'keras.layers.recurrent.LSTMCell'> to avoid naming conflicts when loading with `tf.keras.models.load_model`. If renaming is not possible, pass the object in the `custom_objects` parameter of the load function.\n"
          ]
        },
        {
          "output_type": "stream",
          "name": "stdout",
          "text": [
            "\b\b\b\b\b\b\b\b\b\b\b\b\b\b\b\b\b\b\b\b\b\b\b\b\b\b\b\b\b\b\b\b\b\b\b\b\b\b\b\b\b\b\b\b\b\b\b\b\b\b\b\b\b\b\b\b\b\b\b\b\b\r7/7 [==============================] - 2s 315ms/step - loss: 0.0026 - val_loss: 0.0120\n",
            "Epoch 39/100\n",
            "7/7 [==============================] - 1s 95ms/step - loss: 0.0024 - val_loss: 0.0123\n",
            "Epoch 40/100\n",
            "7/7 [==============================] - 1s 96ms/step - loss: 0.0023 - val_loss: 0.0120\n",
            "Epoch 41/100\n",
            "7/7 [==============================] - ETA: 0s - loss: 0.0023"
          ]
        },
        {
          "output_type": "stream",
          "name": "stderr",
          "text": [
            "WARNING:absl:<keras.layers.recurrent.LSTMCell object at 0x7fcbbcb26190> has the same name 'LSTMCell' as a built-in Keras object. Consider renaming <class 'keras.layers.recurrent.LSTMCell'> to avoid naming conflicts when loading with `tf.keras.models.load_model`. If renaming is not possible, pass the object in the `custom_objects` parameter of the load function.\n"
          ]
        },
        {
          "output_type": "stream",
          "name": "stdout",
          "text": [
            "\b\b\b\b\b\b\b\b\b\b\b\b\b\b\b\b\b\b\b\b\b\b\b\b\b\b\b\b\b\b\b\b\b\b\b\b\b\b\b\b\b\b\b\b\b\b\b\b\b\b\b\b\b\b\b\b\b\b\b\b\b\r7/7 [==============================] - 2s 324ms/step - loss: 0.0023 - val_loss: 0.0117\n",
            "Epoch 42/100\n",
            "7/7 [==============================] - 1s 95ms/step - loss: 0.0024 - val_loss: 0.0127\n",
            "Epoch 43/100\n",
            "7/7 [==============================] - 1s 94ms/step - loss: 0.0022 - val_loss: 0.0124\n",
            "Epoch 44/100\n",
            "7/7 [==============================] - 1s 94ms/step - loss: 0.0022 - val_loss: 0.0128\n",
            "Epoch 45/100\n",
            "7/7 [==============================] - ETA: 0s - loss: 0.0024"
          ]
        },
        {
          "output_type": "stream",
          "name": "stderr",
          "text": [
            "WARNING:absl:<keras.layers.recurrent.LSTMCell object at 0x7fcbbcb26190> has the same name 'LSTMCell' as a built-in Keras object. Consider renaming <class 'keras.layers.recurrent.LSTMCell'> to avoid naming conflicts when loading with `tf.keras.models.load_model`. If renaming is not possible, pass the object in the `custom_objects` parameter of the load function.\n"
          ]
        },
        {
          "output_type": "stream",
          "name": "stdout",
          "text": [
            "\b\b\b\b\b\b\b\b\b\b\b\b\b\b\b\b\b\b\b\b\b\b\b\b\b\b\b\b\b\b\b\b\b\b\b\b\b\b\b\b\b\b\b\b\b\b\b\b\b\b\b\b\b\b\b\b\b\b\b\b\b\r7/7 [==============================] - 2s 319ms/step - loss: 0.0024 - val_loss: 0.0116\n",
            "Epoch 46/100\n",
            "7/7 [==============================] - 1s 95ms/step - loss: 0.0023 - val_loss: 0.0119\n",
            "Epoch 47/100\n",
            "7/7 [==============================] - 1s 96ms/step - loss: 0.0022 - val_loss: 0.0124\n",
            "Epoch 48/100\n",
            "7/7 [==============================] - 1s 98ms/step - loss: 0.0023 - val_loss: 0.0157\n",
            "Epoch 49/100\n",
            "7/7 [==============================] - 1s 97ms/step - loss: 0.0024 - val_loss: 0.0119\n",
            "Epoch 50/100\n",
            "7/7 [==============================] - 1s 96ms/step - loss: 0.0023 - val_loss: 0.0117\n",
            "Epoch 51/100\n",
            "7/7 [==============================] - ETA: 0s - loss: 0.0022"
          ]
        },
        {
          "output_type": "stream",
          "name": "stderr",
          "text": [
            "WARNING:absl:<keras.layers.recurrent.LSTMCell object at 0x7fcbbcb26190> has the same name 'LSTMCell' as a built-in Keras object. Consider renaming <class 'keras.layers.recurrent.LSTMCell'> to avoid naming conflicts when loading with `tf.keras.models.load_model`. If renaming is not possible, pass the object in the `custom_objects` parameter of the load function.\n"
          ]
        },
        {
          "output_type": "stream",
          "name": "stdout",
          "text": [
            "\b\b\b\b\b\b\b\b\b\b\b\b\b\b\b\b\b\b\b\b\b\b\b\b\b\b\b\b\b\b\b\b\b\b\b\b\b\b\b\b\b\b\b\b\b\b\b\b\b\b\b\b\b\b\b\b\b\b\b\b\b\r7/7 [==============================] - 2s 380ms/step - loss: 0.0022 - val_loss: 0.0115\n",
            "Epoch 52/100\n",
            "7/7 [==============================] - 1s 93ms/step - loss: 0.0022 - val_loss: 0.0147\n",
            "Epoch 53/100\n",
            "7/7 [==============================] - ETA: 0s - loss: 0.0022"
          ]
        },
        {
          "output_type": "stream",
          "name": "stderr",
          "text": [
            "WARNING:absl:<keras.layers.recurrent.LSTMCell object at 0x7fcbbcb26190> has the same name 'LSTMCell' as a built-in Keras object. Consider renaming <class 'keras.layers.recurrent.LSTMCell'> to avoid naming conflicts when loading with `tf.keras.models.load_model`. If renaming is not possible, pass the object in the `custom_objects` parameter of the load function.\n"
          ]
        },
        {
          "output_type": "stream",
          "name": "stdout",
          "text": [
            "\b\b\b\b\b\b\b\b\b\b\b\b\b\b\b\b\b\b\b\b\b\b\b\b\b\b\b\b\b\b\b\b\b\b\b\b\b\b\b\b\b\b\b\b\b\b\b\b\b\b\b\b\b\b\b\b\b\b\b\b\b\r7/7 [==============================] - 2s 322ms/step - loss: 0.0022 - val_loss: 0.0109\n",
            "Epoch 54/100\n",
            "7/7 [==============================] - 1s 94ms/step - loss: 0.0022 - val_loss: 0.0124\n",
            "Epoch 55/100\n",
            "7/7 [==============================] - 1s 96ms/step - loss: 0.0024 - val_loss: 0.0115\n",
            "Epoch 56/100\n",
            "7/7 [==============================] - 1s 94ms/step - loss: 0.0024 - val_loss: 0.0118\n",
            "Epoch 57/100\n",
            "7/7 [==============================] - 1s 95ms/step - loss: 0.0024 - val_loss: 0.0145\n",
            "Epoch 58/100\n",
            "7/7 [==============================] - 1s 96ms/step - loss: 0.0023 - val_loss: 0.0125\n",
            "Epoch 59/100\n",
            "7/7 [==============================] - 1s 94ms/step - loss: 0.0022 - val_loss: 0.0112\n",
            "Epoch 60/100\n",
            "7/7 [==============================] - ETA: 0s - loss: 0.0021"
          ]
        },
        {
          "output_type": "stream",
          "name": "stderr",
          "text": [
            "WARNING:absl:<keras.layers.recurrent.LSTMCell object at 0x7fcbbcb26190> has the same name 'LSTMCell' as a built-in Keras object. Consider renaming <class 'keras.layers.recurrent.LSTMCell'> to avoid naming conflicts when loading with `tf.keras.models.load_model`. If renaming is not possible, pass the object in the `custom_objects` parameter of the load function.\n"
          ]
        },
        {
          "output_type": "stream",
          "name": "stdout",
          "text": [
            "\b\b\b\b\b\b\b\b\b\b\b\b\b\b\b\b\b\b\b\b\b\b\b\b\b\b\b\b\b\b\b\b\b\b\b\b\b\b\b\b\b\b\b\b\b\b\b\b\b\b\b\b\b\b\b\b\b\b\b\b\b\r7/7 [==============================] - 2s 317ms/step - loss: 0.0021 - val_loss: 0.0108\n",
            "Epoch 61/100\n",
            "7/7 [==============================] - ETA: 0s - loss: 0.0020"
          ]
        },
        {
          "output_type": "stream",
          "name": "stderr",
          "text": [
            "WARNING:absl:<keras.layers.recurrent.LSTMCell object at 0x7fcbbcb26190> has the same name 'LSTMCell' as a built-in Keras object. Consider renaming <class 'keras.layers.recurrent.LSTMCell'> to avoid naming conflicts when loading with `tf.keras.models.load_model`. If renaming is not possible, pass the object in the `custom_objects` parameter of the load function.\n"
          ]
        },
        {
          "output_type": "stream",
          "name": "stdout",
          "text": [
            "\b\b\b\b\b\b\b\b\b\b\b\b\b\b\b\b\b\b\b\b\b\b\b\b\b\b\b\b\b\b\b\b\b\b\b\b\b\b\b\b\b\b\b\b\b\b\b\b\b\b\b\b\b\b\b\b\b\b\b\b\b\r7/7 [==============================] - 2s 342ms/step - loss: 0.0020 - val_loss: 0.0106\n",
            "Epoch 62/100\n",
            "7/7 [==============================] - 1s 96ms/step - loss: 0.0021 - val_loss: 0.0120\n",
            "Epoch 63/100\n",
            "7/7 [==============================] - 1s 99ms/step - loss: 0.0021 - val_loss: 0.0118\n",
            "Epoch 64/100\n",
            "7/7 [==============================] - 1s 99ms/step - loss: 0.0023 - val_loss: 0.0109\n",
            "Epoch 65/100\n",
            "7/7 [==============================] - 1s 98ms/step - loss: 0.0023 - val_loss: 0.0154\n",
            "Epoch 66/100\n",
            "7/7 [==============================] - 1s 95ms/step - loss: 0.0024 - val_loss: 0.0128\n",
            "Epoch 67/100\n",
            "7/7 [==============================] - 1s 96ms/step - loss: 0.0023 - val_loss: 0.0121\n",
            "Epoch 68/100\n",
            "7/7 [==============================] - 1s 96ms/step - loss: 0.0022 - val_loss: 0.0109\n",
            "Epoch 69/100\n",
            "7/7 [==============================] - 1s 95ms/step - loss: 0.0021 - val_loss: 0.0135\n",
            "Epoch 70/100\n",
            "7/7 [==============================] - ETA: 0s - loss: 0.0020"
          ]
        },
        {
          "output_type": "stream",
          "name": "stderr",
          "text": [
            "WARNING:absl:<keras.layers.recurrent.LSTMCell object at 0x7fcbbcb26190> has the same name 'LSTMCell' as a built-in Keras object. Consider renaming <class 'keras.layers.recurrent.LSTMCell'> to avoid naming conflicts when loading with `tf.keras.models.load_model`. If renaming is not possible, pass the object in the `custom_objects` parameter of the load function.\n"
          ]
        },
        {
          "output_type": "stream",
          "name": "stdout",
          "text": [
            "\b\b\b\b\b\b\b\b\b\b\b\b\b\b\b\b\b\b\b\b\b\b\b\b\b\b\b\b\b\b\b\b\b\b\b\b\b\b\b\b\b\b\b\b\b\b\b\b\b\b\b\b\b\b\b\b\b\b\b\b\b\r7/7 [==============================] - 2s 322ms/step - loss: 0.0020 - val_loss: 0.0100\n",
            "Epoch 71/100\n",
            "7/7 [==============================] - 1s 96ms/step - loss: 0.0020 - val_loss: 0.0113\n",
            "Epoch 72/100\n",
            "7/7 [==============================] - 1s 99ms/step - loss: 0.0022 - val_loss: 0.0108\n",
            "Epoch 73/100\n",
            "7/7 [==============================] - 1s 95ms/step - loss: 0.0021 - val_loss: 0.0163\n",
            "Epoch 74/100\n",
            "7/7 [==============================] - 1s 96ms/step - loss: 0.0021 - val_loss: 0.0107\n",
            "Epoch 75/100\n",
            "7/7 [==============================] - ETA: 0s - loss: 0.0020"
          ]
        },
        {
          "output_type": "stream",
          "name": "stderr",
          "text": [
            "WARNING:absl:<keras.layers.recurrent.LSTMCell object at 0x7fcbbcb26190> has the same name 'LSTMCell' as a built-in Keras object. Consider renaming <class 'keras.layers.recurrent.LSTMCell'> to avoid naming conflicts when loading with `tf.keras.models.load_model`. If renaming is not possible, pass the object in the `custom_objects` parameter of the load function.\n"
          ]
        },
        {
          "output_type": "stream",
          "name": "stdout",
          "text": [
            "\b\b\b\b\b\b\b\b\b\b\b\b\b\b\b\b\b\b\b\b\b\b\b\b\b\b\b\b\b\b\b\b\b\b\b\b\b\b\b\b\b\b\b\b\b\b\b\b\b\b\b\b\b\b\b\b\b\b\b\b\b\r7/7 [==============================] - 2s 385ms/step - loss: 0.0020 - val_loss: 0.0099\n",
            "Epoch 76/100\n",
            "7/7 [==============================] - ETA: 0s - loss: 0.0020"
          ]
        },
        {
          "output_type": "stream",
          "name": "stderr",
          "text": [
            "WARNING:absl:<keras.layers.recurrent.LSTMCell object at 0x7fcbbcb26190> has the same name 'LSTMCell' as a built-in Keras object. Consider renaming <class 'keras.layers.recurrent.LSTMCell'> to avoid naming conflicts when loading with `tf.keras.models.load_model`. If renaming is not possible, pass the object in the `custom_objects` parameter of the load function.\n"
          ]
        },
        {
          "output_type": "stream",
          "name": "stdout",
          "text": [
            "\b\b\b\b\b\b\b\b\b\b\b\b\b\b\b\b\b\b\b\b\b\b\b\b\b\b\b\b\b\b\b\b\b\b\b\b\b\b\b\b\b\b\b\b\b\b\b\b\b\b\b\b\b\b\b\b\b\b\b\b\b\r7/7 [==============================] - 2s 334ms/step - loss: 0.0020 - val_loss: 0.0094\n",
            "Epoch 77/100\n",
            "7/7 [==============================] - 1s 128ms/step - loss: 0.0019 - val_loss: 0.0095\n",
            "Epoch 78/100\n",
            "7/7 [==============================] - 1s 121ms/step - loss: 0.0021 - val_loss: 0.0096\n",
            "Epoch 79/100\n",
            "7/7 [==============================] - 1s 104ms/step - loss: 0.0020 - val_loss: 0.0101\n",
            "Epoch 80/100\n",
            "7/7 [==============================] - ETA: 0s - loss: 0.0020"
          ]
        },
        {
          "output_type": "stream",
          "name": "stderr",
          "text": [
            "WARNING:absl:<keras.layers.recurrent.LSTMCell object at 0x7fcbbcb26190> has the same name 'LSTMCell' as a built-in Keras object. Consider renaming <class 'keras.layers.recurrent.LSTMCell'> to avoid naming conflicts when loading with `tf.keras.models.load_model`. If renaming is not possible, pass the object in the `custom_objects` parameter of the load function.\n"
          ]
        },
        {
          "output_type": "stream",
          "name": "stdout",
          "text": [
            "\b\b\b\b\b\b\b\b\b\b\b\b\b\b\b\b\b\b\b\b\b\b\b\b\b\b\b\b\b\b\b\b\b\b\b\b\b\b\b\b\b\b\b\b\b\b\b\b\b\b\b\b\b\b\b\b\b\b\b\b\b\r7/7 [==============================] - 2s 393ms/step - loss: 0.0020 - val_loss: 0.0093\n",
            "Epoch 81/100\n",
            "7/7 [==============================] - 1s 121ms/step - loss: 0.0021 - val_loss: 0.0107\n",
            "Epoch 82/100\n",
            "7/7 [==============================] - ETA: 0s - loss: 0.0020"
          ]
        },
        {
          "output_type": "stream",
          "name": "stderr",
          "text": [
            "WARNING:absl:<keras.layers.recurrent.LSTMCell object at 0x7fcbbcb26190> has the same name 'LSTMCell' as a built-in Keras object. Consider renaming <class 'keras.layers.recurrent.LSTMCell'> to avoid naming conflicts when loading with `tf.keras.models.load_model`. If renaming is not possible, pass the object in the `custom_objects` parameter of the load function.\n"
          ]
        },
        {
          "output_type": "stream",
          "name": "stdout",
          "text": [
            "\b\b\b\b\b\b\b\b\b\b\b\b\b\b\b\b\b\b\b\b\b\b\b\b\b\b\b\b\b\b\b\b\b\b\b\b\b\b\b\b\b\b\b\b\b\b\b\b\b\b\b\b\b\b\b\b\b\b\b\b\b\r7/7 [==============================] - 2s 353ms/step - loss: 0.0020 - val_loss: 0.0092\n",
            "Epoch 83/100\n",
            "7/7 [==============================] - 1s 144ms/step - loss: 0.0019 - val_loss: 0.0119\n",
            "Epoch 84/100\n",
            "7/7 [==============================] - 1s 113ms/step - loss: 0.0021 - val_loss: 0.0110\n",
            "Epoch 85/100\n",
            "7/7 [==============================] - 1s 117ms/step - loss: 0.0019 - val_loss: 0.0096\n",
            "Epoch 86/100\n",
            "7/7 [==============================] - 1s 92ms/step - loss: 0.0018 - val_loss: 0.0103\n",
            "Epoch 87/100\n",
            "7/7 [==============================] - 1s 95ms/step - loss: 0.0021 - val_loss: 0.0099\n",
            "Epoch 88/100\n",
            "7/7 [==============================] - 1s 103ms/step - loss: 0.0020 - val_loss: 0.0093\n",
            "Epoch 89/100\n",
            "7/7 [==============================] - 1s 122ms/step - loss: 0.0022 - val_loss: 0.0104\n",
            "Epoch 90/100\n",
            "7/7 [==============================] - 1s 110ms/step - loss: 0.0020 - val_loss: 0.0120\n",
            "Epoch 91/100\n",
            "7/7 [==============================] - 1s 108ms/step - loss: 0.0020 - val_loss: 0.0101\n",
            "Epoch 92/100\n",
            "7/7 [==============================] - 1s 130ms/step - loss: 0.0019 - val_loss: 0.0096\n",
            "Epoch 93/100\n",
            "7/7 [==============================] - 1s 171ms/step - loss: 0.0019 - val_loss: 0.0093\n",
            "Epoch 94/100\n",
            "7/7 [==============================] - 1s 146ms/step - loss: 0.0019 - val_loss: 0.0130\n",
            "Epoch 95/100\n",
            "7/7 [==============================] - ETA: 0s - loss: 0.0020"
          ]
        },
        {
          "output_type": "stream",
          "name": "stderr",
          "text": [
            "WARNING:absl:<keras.layers.recurrent.LSTMCell object at 0x7fcbbcb26190> has the same name 'LSTMCell' as a built-in Keras object. Consider renaming <class 'keras.layers.recurrent.LSTMCell'> to avoid naming conflicts when loading with `tf.keras.models.load_model`. If renaming is not possible, pass the object in the `custom_objects` parameter of the load function.\n"
          ]
        },
        {
          "output_type": "stream",
          "name": "stdout",
          "text": [
            "\b\b\b\b\b\b\b\b\b\b\b\b\b\b\b\b\b\b\b\b\b\b\b\b\b\b\b\b\b\b\b\b\b\b\b\b\b\b\b\b\b\b\b\b\b\b\b\b\b\b\b\b\b\b\b\b\b\b\b\b\b\r7/7 [==============================] - 3s 482ms/step - loss: 0.0020 - val_loss: 0.0092\n",
            "Epoch 96/100\n",
            "7/7 [==============================] - 1s 113ms/step - loss: 0.0019 - val_loss: 0.0099\n",
            "Epoch 97/100\n",
            "7/7 [==============================] - ETA: 0s - loss: 0.0019"
          ]
        },
        {
          "output_type": "stream",
          "name": "stderr",
          "text": [
            "WARNING:absl:<keras.layers.recurrent.LSTMCell object at 0x7fcbbcb26190> has the same name 'LSTMCell' as a built-in Keras object. Consider renaming <class 'keras.layers.recurrent.LSTMCell'> to avoid naming conflicts when loading with `tf.keras.models.load_model`. If renaming is not possible, pass the object in the `custom_objects` parameter of the load function.\n"
          ]
        },
        {
          "output_type": "stream",
          "name": "stdout",
          "text": [
            "\b\b\b\b\b\b\b\b\b\b\b\b\b\b\b\b\b\b\b\b\b\b\b\b\b\b\b\b\b\b\b\b\b\b\b\b\b\b\b\b\b\b\b\b\b\b\b\b\b\b\b\b\b\b\b\b\b\b\b\b\b\r7/7 [==============================] - 2s 338ms/step - loss: 0.0019 - val_loss: 0.0088\n",
            "Epoch 98/100\n",
            "7/7 [==============================] - 1s 98ms/step - loss: 0.0018 - val_loss: 0.0090\n",
            "Epoch 99/100\n",
            "7/7 [==============================] - 1s 130ms/step - loss: 0.0018 - val_loss: 0.0089\n",
            "Epoch 100/100\n",
            "7/7 [==============================] - 1s 179ms/step - loss: 0.0017 - val_loss: 0.0090\n"
          ]
        },
        {
          "output_type": "execute_result",
          "data": {
            "text/plain": [
              "<keras.callbacks.History at 0x7fcbbb6d6bd0>"
            ]
          },
          "metadata": {},
          "execution_count": 89
        }
      ]
    },
    {
      "cell_type": "code",
      "source": [
        "#load the best version of our model\n",
        "model_4=tf.keras.models.load_model(\"model_experiments/model_4\")"
      ],
      "metadata": {
        "colab": {
          "base_uri": "https://localhost:8080/"
        },
        "id": "lkMdEXSsgHeP",
        "outputId": "a02f03e1-49de-4272-b690-026925e3d0bb"
      },
      "execution_count": 90,
      "outputs": [
        {
          "output_type": "stream",
          "name": "stderr",
          "text": [
            "WARNING:tensorflow:Layer lstm_3 will not use cuDNN kernels since it doesn't meet the criteria. It will use a generic GPU kernel as fallback when running on GPU.\n"
          ]
        }
      ]
    },
    {
      "cell_type": "code",
      "source": [
        "#loading the real price from the scaled test labels\n",
        "model_4_real_stock_price=unscale_labels(model_4_df,test_labels)"
      ],
      "metadata": {
        "id": "JgMLCtJLgKiP"
      },
      "execution_count": 91,
      "outputs": []
    },
    {
      "cell_type": "code",
      "source": [
        "#preidict the prices \n",
        "model_4_pred=predict_unscaled(model_4,model_4_df,test_windows)"
      ],
      "metadata": {
        "id": "EcaMiAcSgNlN"
      },
      "execution_count": 92,
      "outputs": []
    },
    {
      "cell_type": "code",
      "source": [
        "model_4_results=evaluate_preds(y_true=model_4_real_stock_price,\n",
        "                               y_pred=model_4_pred)"
      ],
      "metadata": {
        "id": "SvW-DLYQgTKQ"
      },
      "execution_count": 93,
      "outputs": []
    },
    {
      "cell_type": "code",
      "source": [
        "model_4_results"
      ],
      "metadata": {
        "colab": {
          "base_uri": "https://localhost:8080/"
        },
        "id": "bntfCz30gXxs",
        "outputId": "bcb5676d-ad19-4fd7-f439-cb89069a976a"
      },
      "execution_count": 94,
      "outputs": [
        {
          "output_type": "execute_result",
          "data": {
            "text/plain": [
              "{'mae': 2.3987117,\n",
              " 'mse': 8.80899,\n",
              " 'rmse': 2.9679942,\n",
              " 'mape': 1.8088251,\n",
              " 'mase': 1.1200789}"
            ]
          },
          "metadata": {},
          "execution_count": 94
        }
      ]
    },
    {
      "cell_type": "code",
      "source": [
        "plt.figure(figsize=(10, 7))\n",
        "plot_time_series( df=model_4_df,values=model_4_real_stock_price,test_labels_length=len(test_labels) ,format=\"-\", label=\"Google Real stock price\")\n",
        "plot_time_series( model_4_df,values=model_4_pred, format=\"-\",test_labels_length=len(test_labels),  label=\"model 4 predicted price\");"
      ],
      "metadata": {
        "colab": {
          "base_uri": "https://localhost:8080/",
          "height": 442
        },
        "id": "uP02cTm3gbOw",
        "outputId": "dc57574a-b003-4c87-9e86-99b47a00366d"
      },
      "execution_count": 96,
      "outputs": [
        {
          "output_type": "display_data",
          "data": {
            "text/plain": [
              "<Figure size 720x504 with 1 Axes>"
            ],
            "image/png": "[encoded data removed]"
          },
          "metadata": {
            "needs_background": "light"
          }
        }
      ]
    }
  ],
  "metadata": {
    "accelerator": "GPU",
    "colab": {
      "collapsed_sections": [
        "8OA3PVITnHt7",
        "UJCxI0iWnaFv",
        "ervn9candglF",
        "sNQuqNB69uUS"
      ],
      "machine_shape": "hm",
      "name": "BA-01.ipynb",
      "provenance": [],
      "authorship_tag": "ABX9TyNfB+W8s8t9U7cHo+3FyOcs",
      "include_colab_link": true
    },
    "gpuClass": "standard",
    "kernelspec": {
      "display_name": "Python 3",
      "name": "python3"
    },
    "language_info": {
      "name": "python"
    }
  },
  "nbformat": 4,
  "nbformat_minor": 0
}